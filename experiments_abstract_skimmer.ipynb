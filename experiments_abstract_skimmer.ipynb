{
  "nbformat": 4,
  "nbformat_minor": 0,
  "metadata": {
    "colab": {
      "name": "Abstract Skimmer.ipynb",
      "provenance": [],
      "collapsed_sections": [
        "HNAC75ByfTqK",
        "6pI2x2rnkhdk",
        "LUowtQwCktBH",
        "lTjR68NC1cWw",
        "Bbaf6Ka30x-8",
        "44pxRbBcIEDI",
        "BEVPoq1GNNuB",
        "FM5dyt3AK-fz",
        "KMyzGgjTspWM",
        "ctc_ErG_vDWe",
        "xSCn11538hhA",
        "FpAYasxnCMsk",
        "8jIyrlod-3Uq",
        "p4ie6hzHGsKZ",
        "7oajx8fIYv5Q",
        "GFxcVlGro0fK",
        "pgAjJyC5q5JX",
        "H8uVV2CvENSJ",
        "5OCQseuUQsWE"
      ],
      "authorship_tag": "ABX9TyOcc1N48S5NjzIyR3ZJXN9K",
      "include_colab_link": true
    },
    "kernelspec": {
      "name": "python3",
      "display_name": "Python 3"
    },
    "language_info": {
      "name": "python"
    }
  },
  "cells": [
    {
      "cell_type": "markdown",
      "metadata": {
        "id": "view-in-github",
        "colab_type": "text"
      },
      "source": [
        "<a href=\"https://colab.research.google.com/github/dinachoir/Abstract-Skimmer/blob/main/experiments_abstract_skimmer.ipynb\" target=\"_parent\"><img src=\"https://colab.research.google.com/assets/colab-badge.svg\" alt=\"Open In Colab\"/></a>"
      ]
    },
    {
      "cell_type": "markdown",
      "source": [
        "# **Abstract Skimmer**\n",
        "\n",
        "A replicated deep learning model of [PubMed 200k RCT](https://arxiv.org/abs/1710.06071) paper.\n",
        "\n",
        "## **Objective**\n",
        "\n",
        "To explore the ability for NLP models to classify sentences which appear in sequential order, and make an abstract easier to read.\n",
        "\n",
        "## **Dataset**\n",
        "\n",
        "The dataset consists of approximately 200,000 abstracts of randomized controlled trials, totaling 2.3 million sentences. Each sentence of each abstract is labeled with their role in the abstract using one of the following classes: background, objective, method, result, or conclusion.\n"
      ],
      "metadata": {
        "id": "kklE4Pq0-yht"
      }
    },
    {
      "cell_type": "markdown",
      "source": [
        "## **Data Preprocessing**"
      ],
      "metadata": {
        "id": "HNAC75ByfTqK"
      }
    },
    {
      "cell_type": "code",
      "execution_count": null,
      "metadata": {
        "id": "gPHrFcm38rkW",
        "colab": {
          "base_uri": "https://localhost:8080/"
        },
        "outputId": "e8125dd4-aeec-4a79-912a-d34d3a82f3ff"
      },
      "outputs": [
        {
          "output_type": "stream",
          "name": "stdout",
          "text": [
            "Cloning into 'pubmed-rct'...\n",
            "remote: Enumerating objects: 33, done.\u001b[K\n",
            "remote: Counting objects: 100% (8/8), done.\u001b[K\n",
            "remote: Compressing objects: 100% (3/3), done.\u001b[K\n",
            "remote: Total 33 (delta 5), reused 5 (delta 5), pack-reused 25\u001b[K\n",
            "Unpacking objects: 100% (33/33), done.\n",
            "Checking out files: 100% (13/13), done.\n",
            "PubMed_200k_RCT\n",
            "PubMed_200k_RCT_numbers_replaced_with_at_sign\n",
            "PubMed_20k_RCT\n",
            "PubMed_20k_RCT_numbers_replaced_with_at_sign\n",
            "README.md\n"
          ]
        }
      ],
      "source": [
        "# Download the PubMed 200k RCT dataset\n",
        "!git clone https://github.com/Franck-Dernoncourt/pubmed-rct.git\n",
        "!ls pubmed-rct"
      ]
    },
    {
      "cell_type": "code",
      "source": [
        "# Check out the files in the PubMed_20k dataset\n",
        "!ls pubmed-rct/PubMed_20k_RCT_numbers_replaced_with_at_sign"
      ],
      "metadata": {
        "id": "n_bG0EsMEFiH",
        "colab": {
          "base_uri": "https://localhost:8080/"
        },
        "outputId": "2960f28e-36e6-4614-d785-e4a7b6b204f6"
      },
      "execution_count": null,
      "outputs": [
        {
          "output_type": "stream",
          "name": "stdout",
          "text": [
            "dev.txt  test.txt  train.txt\n"
          ]
        }
      ]
    },
    {
      "cell_type": "code",
      "source": [
        "# Define data directory\n",
        "data_dir = \"pubmed-rct/PubMed_20k_RCT_numbers_replaced_with_at_sign/\""
      ],
      "metadata": {
        "id": "LePltJYzEFes"
      },
      "execution_count": null,
      "outputs": []
    },
    {
      "cell_type": "code",
      "source": [
        "# Create function to read the lines of the file\n",
        "def get_lines(filename):\n",
        "  \"\"\"\n",
        "  Objective:\n",
        "    Reads filename (a text file) and returns the lines of text as list.\n",
        "\n",
        "  Args:\n",
        "    filename : a string containing the target filepath to read.\n",
        "  \n",
        "  Return:\n",
        "    A list of strings with one string per line from the target filename.\n",
        "\n",
        "    Expected return:\n",
        "    [\"First line\",\n",
        "     \"Second Line\",\n",
        "      \"...\", ... \"...\"]\n",
        "  \"\"\"\n",
        "  with open(filename, \"r\") as f:\n",
        "    return f.readlines()"
      ],
      "metadata": {
        "id": "hVN-WIRtEFbq"
      },
      "execution_count": null,
      "outputs": []
    },
    {
      "cell_type": "code",
      "source": [
        "# Get the line of train.txt\n",
        "train_lines = get_lines(data_dir + \"train.txt\")\n",
        "train_lines[:20]"
      ],
      "metadata": {
        "id": "4BmuTJ-GHYC5",
        "colab": {
          "base_uri": "https://localhost:8080/"
        },
        "outputId": "8e2ed447-c211-4fc4-e5ef-451b187b0e63"
      },
      "execution_count": null,
      "outputs": [
        {
          "output_type": "execute_result",
          "data": {
            "text/plain": [
              "['###24293578\\n',\n",
              " 'OBJECTIVE\\tTo investigate the efficacy of @ weeks of daily low-dose oral prednisolone in improving pain , mobility , and systemic low-grade inflammation in the short term and whether the effect would be sustained at @ weeks in older adults with moderate to severe knee osteoarthritis ( OA ) .\\n',\n",
              " 'METHODS\\tA total of @ patients with primary knee OA were randomized @:@ ; @ received @ mg/day of prednisolone and @ received placebo for @ weeks .\\n',\n",
              " 'METHODS\\tOutcome measures included pain reduction and improvement in function scores and systemic inflammation markers .\\n',\n",
              " 'METHODS\\tPain was assessed using the visual analog pain scale ( @-@ mm ) .\\n',\n",
              " 'METHODS\\tSecondary outcome measures included the Western Ontario and McMaster Universities Osteoarthritis Index scores , patient global assessment ( PGA ) of the severity of knee OA , and @-min walk distance ( @MWD ) .\\n',\n",
              " 'METHODS\\tSerum levels of interleukin @ ( IL-@ ) , IL-@ , tumor necrosis factor ( TNF ) - , and high-sensitivity C-reactive protein ( hsCRP ) were measured .\\n',\n",
              " 'RESULTS\\tThere was a clinically relevant reduction in the intervention group compared to the placebo group for knee pain , physical function , PGA , and @MWD at @ weeks .\\n',\n",
              " 'RESULTS\\tThe mean difference between treatment arms ( @ % CI ) was @ ( @-@ @ ) , p < @ ; @ ( @-@ @ ) , p < @ ; @ ( @-@ @ ) , p < @ ; and @ ( @-@ @ ) , p < @ , respectively .\\n',\n",
              " 'RESULTS\\tFurther , there was a clinically relevant reduction in the serum levels of IL-@ , IL-@ , TNF - , and hsCRP at @ weeks in the intervention group when compared to the placebo group .\\n',\n",
              " 'RESULTS\\tThese differences remained significant at @ weeks .\\n',\n",
              " 'RESULTS\\tThe Outcome Measures in Rheumatology Clinical Trials-Osteoarthritis Research Society International responder rate was @ % in the intervention group and @ % in the placebo group ( p < @ ) .\\n',\n",
              " 'CONCLUSIONS\\tLow-dose oral prednisolone had both a short-term and a longer sustained effect resulting in less knee pain , better physical function , and attenuation of systemic inflammation in older patients with knee OA ( ClinicalTrials.gov identifier NCT@ ) .\\n',\n",
              " '\\n',\n",
              " '###24854809\\n',\n",
              " 'BACKGROUND\\tEmotional eating is associated with overeating and the development of obesity .\\n',\n",
              " 'BACKGROUND\\tYet , empirical evidence for individual ( trait ) differences in emotional eating and cognitive mechanisms that contribute to eating during sad mood remain equivocal .\\n',\n",
              " 'OBJECTIVE\\tThe aim of this study was to test if attention bias for food moderates the effect of self-reported emotional eating during sad mood ( vs neutral mood ) on actual food intake .\\n',\n",
              " 'OBJECTIVE\\tIt was expected that emotional eating is predictive of elevated attention for food and higher food intake after an experimentally induced sad mood and that attentional maintenance on food predicts food intake during a sad versus a neutral mood .\\n',\n",
              " 'METHODS\\tParticipants ( N = @ ) were randomly assigned to one of the two experimental mood induction conditions ( sad/neutral ) .\\n']"
            ]
          },
          "metadata": {},
          "execution_count": 5
        }
      ]
    },
    {
      "cell_type": "markdown",
      "source": [
        "* Abstracts are separated by abstract's ID starts with ###, and ends with \\n\n",
        "* Each abstract ends with \\n\n",
        "* In an abtract, the class of the sentence is ended with \\t\n",
        "* Each sentence finishes with \\n"
      ],
      "metadata": {
        "id": "mWwqSxAOOH1U"
      }
    },
    {
      "cell_type": "code",
      "source": [
        "# Create a function to preprocess text data\n",
        "\n",
        "def preprocess_abstract_text(filename):\n",
        "  \"\"\"\n",
        "  Returns a list of dictionaries of lines of an abstract\n",
        "\n",
        "  Read the filename, extract the lines of each abstract, extract the target label of each line,\n",
        "  count the sentences in an abstract, and number each line in an abtract.\n",
        "\n",
        "  Args:\n",
        "    filename : a string containing the target filepath to read and extract the lines\n",
        "\n",
        "  Returns:\n",
        "    A list of dictionaries each containing a line from each abtract,\n",
        "    The line labels,\n",
        "    The line position in an abstract,\n",
        "    The total number of lines in an abstract.\n",
        "  \n",
        "  Expected result:\n",
        "    [{\"target\": \"OBJECTIVE\",\n",
        "      \"text\": \"The aim of this study was to test if attention bias for food moderates the effect of self-reported emotional eating during sad mood ( vs neutral mood ) on actual food intake.\",\n",
        "      \"line_number\": 3,\n",
        "      \"total_lines\": 12}, {...}]\n",
        "  \"\"\"\n",
        "  input_lines = get_lines(filename)\n",
        "  abstract_lines = \"\"\n",
        "  abstract_samples = []\n",
        "\n",
        "  for line in input_lines:\n",
        "    if line.startswith(\"###\"):\n",
        "      abstract_id = line\n",
        "      abstract_lines = \"\"\n",
        "    elif line.isspace():\n",
        "      abstract_line_split = abstract_lines.splitlines()\n",
        "\n",
        "      # Iterate through each line\n",
        "      for abstract_line_number, abstract_line in enumerate(abstract_line_split):\n",
        "        line_data = {}\n",
        "        target_text_split = abstract_line.split(\"\\t\")\n",
        "        line_data[\"target\"] = target_text_split[0]\n",
        "        line_data[\"text\"] = target_text_split[1]\n",
        "        line_data[\"line_number\"] = abstract_line_number\n",
        "        line_data[\"total_lines\"] = len(abstract_line_split)\n",
        "        abstract_samples.append(line_data)\n",
        "    \n",
        "    else:\n",
        "      abstract_lines += line\n",
        "\n",
        "  return abstract_samples\n"
      ],
      "metadata": {
        "id": "3eKGeViAHYG_"
      },
      "execution_count": null,
      "outputs": []
    },
    {
      "cell_type": "code",
      "source": [
        "# Preprocess dataset\n",
        "train_samples = preprocess_abstract_text(data_dir + \"train.txt\")\n",
        "val_samples = preprocess_abstract_text(data_dir + \"dev.txt\")\n",
        "test_samples = preprocess_abstract_text(data_dir + \"test.txt\")\n",
        "\n",
        "len(train_samples), len(val_samples), len(test_samples)"
      ],
      "metadata": {
        "id": "CcwQdSwsHYXI",
        "colab": {
          "base_uri": "https://localhost:8080/"
        },
        "outputId": "f9c82de9-eff6-4d50-a717-8082e31dc871"
      },
      "execution_count": null,
      "outputs": [
        {
          "output_type": "execute_result",
          "data": {
            "text/plain": [
              "(180040, 30212, 30135)"
            ]
          },
          "metadata": {},
          "execution_count": 13
        }
      ]
    },
    {
      "cell_type": "code",
      "source": [
        "# Check out the samples\n",
        "train_samples[:15]"
      ],
      "metadata": {
        "id": "M4JdUaX0HYaO",
        "colab": {
          "base_uri": "https://localhost:8080/"
        },
        "outputId": "b4526324-9486-4ef5-dff2-8bdfc345bb96"
      },
      "execution_count": null,
      "outputs": [
        {
          "output_type": "execute_result",
          "data": {
            "text/plain": [
              "[{'line_number': 0,\n",
              "  'target': 'OBJECTIVE',\n",
              "  'text': 'To investigate the efficacy of @ weeks of daily low-dose oral prednisolone in improving pain , mobility , and systemic low-grade inflammation in the short term and whether the effect would be sustained at @ weeks in older adults with moderate to severe knee osteoarthritis ( OA ) .',\n",
              "  'total_lines': 12},\n",
              " {'line_number': 1,\n",
              "  'target': 'METHODS',\n",
              "  'text': 'A total of @ patients with primary knee OA were randomized @:@ ; @ received @ mg/day of prednisolone and @ received placebo for @ weeks .',\n",
              "  'total_lines': 12},\n",
              " {'line_number': 2,\n",
              "  'target': 'METHODS',\n",
              "  'text': 'Outcome measures included pain reduction and improvement in function scores and systemic inflammation markers .',\n",
              "  'total_lines': 12},\n",
              " {'line_number': 3,\n",
              "  'target': 'METHODS',\n",
              "  'text': 'Pain was assessed using the visual analog pain scale ( @-@ mm ) .',\n",
              "  'total_lines': 12},\n",
              " {'line_number': 4,\n",
              "  'target': 'METHODS',\n",
              "  'text': 'Secondary outcome measures included the Western Ontario and McMaster Universities Osteoarthritis Index scores , patient global assessment ( PGA ) of the severity of knee OA , and @-min walk distance ( @MWD ) .',\n",
              "  'total_lines': 12},\n",
              " {'line_number': 5,\n",
              "  'target': 'METHODS',\n",
              "  'text': 'Serum levels of interleukin @ ( IL-@ ) , IL-@ , tumor necrosis factor ( TNF ) - , and high-sensitivity C-reactive protein ( hsCRP ) were measured .',\n",
              "  'total_lines': 12},\n",
              " {'line_number': 6,\n",
              "  'target': 'RESULTS',\n",
              "  'text': 'There was a clinically relevant reduction in the intervention group compared to the placebo group for knee pain , physical function , PGA , and @MWD at @ weeks .',\n",
              "  'total_lines': 12},\n",
              " {'line_number': 7,\n",
              "  'target': 'RESULTS',\n",
              "  'text': 'The mean difference between treatment arms ( @ % CI ) was @ ( @-@ @ ) , p < @ ; @ ( @-@ @ ) , p < @ ; @ ( @-@ @ ) , p < @ ; and @ ( @-@ @ ) , p < @ , respectively .',\n",
              "  'total_lines': 12},\n",
              " {'line_number': 8,\n",
              "  'target': 'RESULTS',\n",
              "  'text': 'Further , there was a clinically relevant reduction in the serum levels of IL-@ , IL-@ , TNF - , and hsCRP at @ weeks in the intervention group when compared to the placebo group .',\n",
              "  'total_lines': 12},\n",
              " {'line_number': 9,\n",
              "  'target': 'RESULTS',\n",
              "  'text': 'These differences remained significant at @ weeks .',\n",
              "  'total_lines': 12},\n",
              " {'line_number': 10,\n",
              "  'target': 'RESULTS',\n",
              "  'text': 'The Outcome Measures in Rheumatology Clinical Trials-Osteoarthritis Research Society International responder rate was @ % in the intervention group and @ % in the placebo group ( p < @ ) .',\n",
              "  'total_lines': 12},\n",
              " {'line_number': 11,\n",
              "  'target': 'CONCLUSIONS',\n",
              "  'text': 'Low-dose oral prednisolone had both a short-term and a longer sustained effect resulting in less knee pain , better physical function , and attenuation of systemic inflammation in older patients with knee OA ( ClinicalTrials.gov identifier NCT@ ) .',\n",
              "  'total_lines': 12},\n",
              " {'line_number': 0,\n",
              "  'target': 'BACKGROUND',\n",
              "  'text': 'Emotional eating is associated with overeating and the development of obesity .',\n",
              "  'total_lines': 11},\n",
              " {'line_number': 1,\n",
              "  'target': 'BACKGROUND',\n",
              "  'text': 'Yet , empirical evidence for individual ( trait ) differences in emotional eating and cognitive mechanisms that contribute to eating during sad mood remain equivocal .',\n",
              "  'total_lines': 11},\n",
              " {'line_number': 2,\n",
              "  'target': 'OBJECTIVE',\n",
              "  'text': 'The aim of this study was to test if attention bias for food moderates the effect of self-reported emotional eating during sad mood ( vs neutral mood ) on actual food intake .',\n",
              "  'total_lines': 11}]"
            ]
          },
          "metadata": {},
          "execution_count": 14
        }
      ]
    },
    {
      "cell_type": "code",
      "source": [
        "# Turn samples into dataframe\n",
        "import pandas as pd\n",
        "train = pd.DataFrame(train_samples)\n",
        "val = pd.DataFrame(val_samples)\n",
        "test = pd.DataFrame(test_samples)\n",
        "\n",
        "train.head(15)"
      ],
      "metadata": {
        "id": "WdAz2AftHYc1",
        "colab": {
          "base_uri": "https://localhost:8080/",
          "height": 755
        },
        "outputId": "8767c7ea-449a-46d2-e77c-078caee2ef8d"
      },
      "execution_count": null,
      "outputs": [
        {
          "output_type": "execute_result",
          "data": {
            "text/plain": [
              "         target                                               text  \\\n",
              "0     OBJECTIVE  To investigate the efficacy of @ weeks of dail...   \n",
              "1       METHODS  A total of @ patients with primary knee OA wer...   \n",
              "2       METHODS  Outcome measures included pain reduction and i...   \n",
              "3       METHODS  Pain was assessed using the visual analog pain...   \n",
              "4       METHODS  Secondary outcome measures included the Wester...   \n",
              "5       METHODS  Serum levels of interleukin @ ( IL-@ ) , IL-@ ...   \n",
              "6       RESULTS  There was a clinically relevant reduction in t...   \n",
              "7       RESULTS  The mean difference between treatment arms ( @...   \n",
              "8       RESULTS  Further , there was a clinically relevant redu...   \n",
              "9       RESULTS  These differences remained significant at @ we...   \n",
              "10      RESULTS  The Outcome Measures in Rheumatology Clinical ...   \n",
              "11  CONCLUSIONS  Low-dose oral prednisolone had both a short-te...   \n",
              "12   BACKGROUND  Emotional eating is associated with overeating...   \n",
              "13   BACKGROUND  Yet , empirical evidence for individual ( trai...   \n",
              "14    OBJECTIVE  The aim of this study was to test if attention...   \n",
              "\n",
              "    line_number  total_lines  \n",
              "0             0           12  \n",
              "1             1           12  \n",
              "2             2           12  \n",
              "3             3           12  \n",
              "4             4           12  \n",
              "5             5           12  \n",
              "6             6           12  \n",
              "7             7           12  \n",
              "8             8           12  \n",
              "9             9           12  \n",
              "10           10           12  \n",
              "11           11           12  \n",
              "12            0           11  \n",
              "13            1           11  \n",
              "14            2           11  "
            ],
            "text/html": [
              "\n",
              "  <div id=\"df-74b32c41-fa06-4f84-b524-05873b703d38\">\n",
              "    <div class=\"colab-df-container\">\n",
              "      <div>\n",
              "<style scoped>\n",
              "    .dataframe tbody tr th:only-of-type {\n",
              "        vertical-align: middle;\n",
              "    }\n",
              "\n",
              "    .dataframe tbody tr th {\n",
              "        vertical-align: top;\n",
              "    }\n",
              "\n",
              "    .dataframe thead th {\n",
              "        text-align: right;\n",
              "    }\n",
              "</style>\n",
              "<table border=\"1\" class=\"dataframe\">\n",
              "  <thead>\n",
              "    <tr style=\"text-align: right;\">\n",
              "      <th></th>\n",
              "      <th>target</th>\n",
              "      <th>text</th>\n",
              "      <th>line_number</th>\n",
              "      <th>total_lines</th>\n",
              "    </tr>\n",
              "  </thead>\n",
              "  <tbody>\n",
              "    <tr>\n",
              "      <th>0</th>\n",
              "      <td>OBJECTIVE</td>\n",
              "      <td>To investigate the efficacy of @ weeks of dail...</td>\n",
              "      <td>0</td>\n",
              "      <td>12</td>\n",
              "    </tr>\n",
              "    <tr>\n",
              "      <th>1</th>\n",
              "      <td>METHODS</td>\n",
              "      <td>A total of @ patients with primary knee OA wer...</td>\n",
              "      <td>1</td>\n",
              "      <td>12</td>\n",
              "    </tr>\n",
              "    <tr>\n",
              "      <th>2</th>\n",
              "      <td>METHODS</td>\n",
              "      <td>Outcome measures included pain reduction and i...</td>\n",
              "      <td>2</td>\n",
              "      <td>12</td>\n",
              "    </tr>\n",
              "    <tr>\n",
              "      <th>3</th>\n",
              "      <td>METHODS</td>\n",
              "      <td>Pain was assessed using the visual analog pain...</td>\n",
              "      <td>3</td>\n",
              "      <td>12</td>\n",
              "    </tr>\n",
              "    <tr>\n",
              "      <th>4</th>\n",
              "      <td>METHODS</td>\n",
              "      <td>Secondary outcome measures included the Wester...</td>\n",
              "      <td>4</td>\n",
              "      <td>12</td>\n",
              "    </tr>\n",
              "    <tr>\n",
              "      <th>5</th>\n",
              "      <td>METHODS</td>\n",
              "      <td>Serum levels of interleukin @ ( IL-@ ) , IL-@ ...</td>\n",
              "      <td>5</td>\n",
              "      <td>12</td>\n",
              "    </tr>\n",
              "    <tr>\n",
              "      <th>6</th>\n",
              "      <td>RESULTS</td>\n",
              "      <td>There was a clinically relevant reduction in t...</td>\n",
              "      <td>6</td>\n",
              "      <td>12</td>\n",
              "    </tr>\n",
              "    <tr>\n",
              "      <th>7</th>\n",
              "      <td>RESULTS</td>\n",
              "      <td>The mean difference between treatment arms ( @...</td>\n",
              "      <td>7</td>\n",
              "      <td>12</td>\n",
              "    </tr>\n",
              "    <tr>\n",
              "      <th>8</th>\n",
              "      <td>RESULTS</td>\n",
              "      <td>Further , there was a clinically relevant redu...</td>\n",
              "      <td>8</td>\n",
              "      <td>12</td>\n",
              "    </tr>\n",
              "    <tr>\n",
              "      <th>9</th>\n",
              "      <td>RESULTS</td>\n",
              "      <td>These differences remained significant at @ we...</td>\n",
              "      <td>9</td>\n",
              "      <td>12</td>\n",
              "    </tr>\n",
              "    <tr>\n",
              "      <th>10</th>\n",
              "      <td>RESULTS</td>\n",
              "      <td>The Outcome Measures in Rheumatology Clinical ...</td>\n",
              "      <td>10</td>\n",
              "      <td>12</td>\n",
              "    </tr>\n",
              "    <tr>\n",
              "      <th>11</th>\n",
              "      <td>CONCLUSIONS</td>\n",
              "      <td>Low-dose oral prednisolone had both a short-te...</td>\n",
              "      <td>11</td>\n",
              "      <td>12</td>\n",
              "    </tr>\n",
              "    <tr>\n",
              "      <th>12</th>\n",
              "      <td>BACKGROUND</td>\n",
              "      <td>Emotional eating is associated with overeating...</td>\n",
              "      <td>0</td>\n",
              "      <td>11</td>\n",
              "    </tr>\n",
              "    <tr>\n",
              "      <th>13</th>\n",
              "      <td>BACKGROUND</td>\n",
              "      <td>Yet , empirical evidence for individual ( trai...</td>\n",
              "      <td>1</td>\n",
              "      <td>11</td>\n",
              "    </tr>\n",
              "    <tr>\n",
              "      <th>14</th>\n",
              "      <td>OBJECTIVE</td>\n",
              "      <td>The aim of this study was to test if attention...</td>\n",
              "      <td>2</td>\n",
              "      <td>11</td>\n",
              "    </tr>\n",
              "  </tbody>\n",
              "</table>\n",
              "</div>\n",
              "      <button class=\"colab-df-convert\" onclick=\"convertToInteractive('df-74b32c41-fa06-4f84-b524-05873b703d38')\"\n",
              "              title=\"Convert this dataframe to an interactive table.\"\n",
              "              style=\"display:none;\">\n",
              "        \n",
              "  <svg xmlns=\"http://www.w3.org/2000/svg\" height=\"24px\"viewBox=\"0 0 24 24\"\n",
              "       width=\"24px\">\n",
              "    <path d=\"M0 0h24v24H0V0z\" fill=\"none\"/>\n",
              "    <path d=\"M18.56 5.44l.94 2.06.94-2.06 2.06-.94-2.06-.94-.94-2.06-.94 2.06-2.06.94zm-11 1L8.5 8.5l.94-2.06 2.06-.94-2.06-.94L8.5 2.5l-.94 2.06-2.06.94zm10 10l.94 2.06.94-2.06 2.06-.94-2.06-.94-.94-2.06-.94 2.06-2.06.94z\"/><path d=\"M17.41 7.96l-1.37-1.37c-.4-.4-.92-.59-1.43-.59-.52 0-1.04.2-1.43.59L10.3 9.45l-7.72 7.72c-.78.78-.78 2.05 0 2.83L4 21.41c.39.39.9.59 1.41.59.51 0 1.02-.2 1.41-.59l7.78-7.78 2.81-2.81c.8-.78.8-2.07 0-2.86zM5.41 20L4 18.59l7.72-7.72 1.47 1.35L5.41 20z\"/>\n",
              "  </svg>\n",
              "      </button>\n",
              "      \n",
              "  <style>\n",
              "    .colab-df-container {\n",
              "      display:flex;\n",
              "      flex-wrap:wrap;\n",
              "      gap: 12px;\n",
              "    }\n",
              "\n",
              "    .colab-df-convert {\n",
              "      background-color: #E8F0FE;\n",
              "      border: none;\n",
              "      border-radius: 50%;\n",
              "      cursor: pointer;\n",
              "      display: none;\n",
              "      fill: #1967D2;\n",
              "      height: 32px;\n",
              "      padding: 0 0 0 0;\n",
              "      width: 32px;\n",
              "    }\n",
              "\n",
              "    .colab-df-convert:hover {\n",
              "      background-color: #E2EBFA;\n",
              "      box-shadow: 0px 1px 2px rgba(60, 64, 67, 0.3), 0px 1px 3px 1px rgba(60, 64, 67, 0.15);\n",
              "      fill: #174EA6;\n",
              "    }\n",
              "\n",
              "    [theme=dark] .colab-df-convert {\n",
              "      background-color: #3B4455;\n",
              "      fill: #D2E3FC;\n",
              "    }\n",
              "\n",
              "    [theme=dark] .colab-df-convert:hover {\n",
              "      background-color: #434B5C;\n",
              "      box-shadow: 0px 1px 3px 1px rgba(0, 0, 0, 0.15);\n",
              "      filter: drop-shadow(0px 1px 2px rgba(0, 0, 0, 0.3));\n",
              "      fill: #FFFFFF;\n",
              "    }\n",
              "  </style>\n",
              "\n",
              "      <script>\n",
              "        const buttonEl =\n",
              "          document.querySelector('#df-74b32c41-fa06-4f84-b524-05873b703d38 button.colab-df-convert');\n",
              "        buttonEl.style.display =\n",
              "          google.colab.kernel.accessAllowed ? 'block' : 'none';\n",
              "\n",
              "        async function convertToInteractive(key) {\n",
              "          const element = document.querySelector('#df-74b32c41-fa06-4f84-b524-05873b703d38');\n",
              "          const dataTable =\n",
              "            await google.colab.kernel.invokeFunction('convertToInteractive',\n",
              "                                                     [key], {});\n",
              "          if (!dataTable) return;\n",
              "\n",
              "          const docLinkHtml = 'Like what you see? Visit the ' +\n",
              "            '<a target=\"_blank\" href=https://colab.research.google.com/notebooks/data_table.ipynb>data table notebook</a>'\n",
              "            + ' to learn more about interactive tables.';\n",
              "          element.innerHTML = '';\n",
              "          dataTable['output_type'] = 'display_data';\n",
              "          await google.colab.output.renderOutput(dataTable, element);\n",
              "          const docLink = document.createElement('div');\n",
              "          docLink.innerHTML = docLinkHtml;\n",
              "          element.appendChild(docLink);\n",
              "        }\n",
              "      </script>\n",
              "    </div>\n",
              "  </div>\n",
              "  "
            ]
          },
          "metadata": {},
          "execution_count": 15
        }
      ]
    },
    {
      "cell_type": "code",
      "source": [
        "# Check out the distribution of labels in training set\n",
        "train[\"target\"].value_counts()"
      ],
      "metadata": {
        "id": "zKIqcGmmHYhr",
        "colab": {
          "base_uri": "https://localhost:8080/"
        },
        "outputId": "4b4c6b8f-4618-407f-8803-b828df9fb90f"
      },
      "execution_count": null,
      "outputs": [
        {
          "output_type": "execute_result",
          "data": {
            "text/plain": [
              "METHODS        59353\n",
              "RESULTS        57953\n",
              "CONCLUSIONS    27168\n",
              "BACKGROUND     21727\n",
              "OBJECTIVE      13839\n",
              "Name: target, dtype: int64"
            ]
          },
          "metadata": {},
          "execution_count": 16
        }
      ]
    },
    {
      "cell_type": "code",
      "source": [
        "# Check out the distribution of total_lines in training set\n",
        "train[\"total_lines\"].plot.hist()"
      ],
      "metadata": {
        "id": "UB840Y7YHYke",
        "colab": {
          "base_uri": "https://localhost:8080/",
          "height": 284
        },
        "outputId": "096f7f82-c1a5-46ab-8c5d-aec239a3e1e2"
      },
      "execution_count": null,
      "outputs": [
        {
          "output_type": "execute_result",
          "data": {
            "text/plain": [
              "<matplotlib.axes._subplots.AxesSubplot at 0x7fe06ed28d90>"
            ]
          },
          "metadata": {},
          "execution_count": 17
        },
        {
          "output_type": "display_data",
          "data": {
            "text/plain": [
              "<Figure size 432x288 with 1 Axes>"
            ],
            "image/png": "[encoded data removed]"
          },
          "metadata": {
            "needs_background": "light"
          }
        }
      ]
    },
    {
      "cell_type": "code",
      "source": [
        "# Convert abstract text lines into lists\n",
        "train_sentences = train[\"text\"].tolist()\n",
        "val_sentences = val[\"text\"].tolist()\n",
        "test_sentences = test[\"text\"].tolist()\n",
        "\n",
        "len(train_sentences), len(val_sentences), len(test_sentences)"
      ],
      "metadata": {
        "id": "p2dF_3xyHYnl",
        "colab": {
          "base_uri": "https://localhost:8080/"
        },
        "outputId": "f0085942-9d94-47a4-9db4-45708156a326"
      },
      "execution_count": null,
      "outputs": [
        {
          "output_type": "execute_result",
          "data": {
            "text/plain": [
              "(180040, 30212, 30135)"
            ]
          },
          "metadata": {},
          "execution_count": 19
        }
      ]
    },
    {
      "cell_type": "code",
      "source": [
        "# View the train_sentences\n",
        "train_sentences[:5]"
      ],
      "metadata": {
        "id": "tSbT8c_wHYqq",
        "colab": {
          "base_uri": "https://localhost:8080/"
        },
        "outputId": "d49396bc-1621-4533-c6e4-de9ed90863e4"
      },
      "execution_count": null,
      "outputs": [
        {
          "output_type": "execute_result",
          "data": {
            "text/plain": [
              "['To investigate the efficacy of @ weeks of daily low-dose oral prednisolone in improving pain , mobility , and systemic low-grade inflammation in the short term and whether the effect would be sustained at @ weeks in older adults with moderate to severe knee osteoarthritis ( OA ) .',\n",
              " 'A total of @ patients with primary knee OA were randomized @:@ ; @ received @ mg/day of prednisolone and @ received placebo for @ weeks .',\n",
              " 'Outcome measures included pain reduction and improvement in function scores and systemic inflammation markers .',\n",
              " 'Pain was assessed using the visual analog pain scale ( @-@ mm ) .',\n",
              " 'Secondary outcome measures included the Western Ontario and McMaster Universities Osteoarthritis Index scores , patient global assessment ( PGA ) of the severity of knee OA , and @-min walk distance ( @MWD ) .']"
            ]
          },
          "metadata": {},
          "execution_count": 20
        }
      ]
    },
    {
      "cell_type": "markdown",
      "source": [
        "**Label Encoding**"
      ],
      "metadata": {
        "id": "MaIYPBM1f0Vl"
      }
    },
    {
      "cell_type": "code",
      "source": [
        "from sklearn.preprocessing import OneHotEncoder\n",
        "\n",
        "ohe = OneHotEncoder(sparse=False)\n",
        "train_labels_onehot_encoded = ohe.fit_transform(train[\"target\"].to_numpy().reshape(-1,1))\n",
        "val_labels_onehot_encoded = ohe.transform(val[\"target\"].to_numpy().reshape(-1,1))\n",
        "test_labels_onehot_encoded = ohe.transform(test[\"target\"].to_numpy().reshape(-1,1))\n",
        "\n",
        "# Check encoding\n",
        "train_labels_onehot_encoded"
      ],
      "metadata": {
        "colab": {
          "base_uri": "https://localhost:8080/"
        },
        "id": "8DqtdvamHYtN",
        "outputId": "058eb8d9-799f-448e-84b0-67ea6d811f58"
      },
      "execution_count": null,
      "outputs": [
        {
          "output_type": "execute_result",
          "data": {
            "text/plain": [
              "array([[0., 0., 0., 1., 0.],\n",
              "       [0., 0., 1., 0., 0.],\n",
              "       [0., 0., 1., 0., 0.],\n",
              "       ...,\n",
              "       [0., 0., 0., 0., 1.],\n",
              "       [0., 1., 0., 0., 0.],\n",
              "       [0., 1., 0., 0., 0.]])"
            ]
          },
          "metadata": {},
          "execution_count": 21
        }
      ]
    },
    {
      "cell_type": "code",
      "source": [
        "from sklearn.preprocessing import LabelEncoder\n",
        "\n",
        "le = LabelEncoder()\n",
        "train_labels_encoded = le.fit_transform(train[\"target\"].to_numpy().reshape(-1,1))\n",
        "val_labels_encoded = le.transform(val[\"target\"].to_numpy().reshape(-1,1))\n",
        "test_labels_encoded = le.transform(test[\"target\"].to_numpy().reshape(-1,1))\n",
        "\n",
        "# Check encoding\n",
        "train_labels_encoded"
      ],
      "metadata": {
        "id": "iABq5TOLjM6u",
        "colab": {
          "base_uri": "https://localhost:8080/"
        },
        "outputId": "d94b97d0-782c-4353-8278-43cfca04f8da"
      },
      "execution_count": null,
      "outputs": [
        {
          "output_type": "stream",
          "name": "stderr",
          "text": [
            "/usr/local/lib/python3.7/dist-packages/sklearn/preprocessing/_label.py:115: DataConversionWarning: A column-vector y was passed when a 1d array was expected. Please change the shape of y to (n_samples, ), for example using ravel().\n",
            "  y = column_or_1d(y, warn=True)\n",
            "/usr/local/lib/python3.7/dist-packages/sklearn/preprocessing/_label.py:133: DataConversionWarning: A column-vector y was passed when a 1d array was expected. Please change the shape of y to (n_samples, ), for example using ravel().\n",
            "  y = column_or_1d(y, warn=True)\n"
          ]
        },
        {
          "output_type": "execute_result",
          "data": {
            "text/plain": [
              "array([3, 2, 2, ..., 4, 1, 1])"
            ]
          },
          "metadata": {},
          "execution_count": 22
        }
      ]
    },
    {
      "cell_type": "code",
      "source": [
        "# Get the class name, and number of class\n",
        "num_class= len(le.classes_)\n",
        "class_names = le.classes_\n",
        "\n",
        "num_class , class_names"
      ],
      "metadata": {
        "id": "_6fP-YgjhSNb",
        "colab": {
          "base_uri": "https://localhost:8080/"
        },
        "outputId": "f61615ac-082c-4fa8-9d41-40815761bb80"
      },
      "execution_count": null,
      "outputs": [
        {
          "output_type": "execute_result",
          "data": {
            "text/plain": [
              "(5, array(['BACKGROUND', 'CONCLUSIONS', 'METHODS', 'OBJECTIVE', 'RESULTS'],\n",
              "       dtype=object))"
            ]
          },
          "metadata": {},
          "execution_count": 23
        }
      ]
    },
    {
      "cell_type": "markdown",
      "source": [
        "## **Modeling Experiments:**"
      ],
      "metadata": {
        "id": "6pI2x2rnkhdk"
      }
    },
    {
      "cell_type": "code",
      "source": [
        "# Load function \n",
        "!wget https://raw.githubusercontent.com/dinachoir/Convolutional-Neural-Network/main/functions.py"
      ],
      "metadata": {
        "id": "07uee6aSy5Xa",
        "colab": {
          "base_uri": "https://localhost:8080/"
        },
        "outputId": "e756273c-967a-437a-e4ce-cfae76ef5d8f"
      },
      "execution_count": null,
      "outputs": [
        {
          "output_type": "stream",
          "name": "stdout",
          "text": [
            "--2022-08-08 01:20:13--  https://raw.githubusercontent.com/dinachoir/Convolutional-Neural-Network/main/functions.py\n",
            "Resolving raw.githubusercontent.com (raw.githubusercontent.com)... 185.199.109.133, 185.199.111.133, 185.199.108.133, ...\n",
            "Connecting to raw.githubusercontent.com (raw.githubusercontent.com)|185.199.109.133|:443... connected.\n",
            "HTTP request sent, awaiting response... 200 OK\n",
            "Length: 9697 (9.5K) [text/plain]\n",
            "Saving to: ‘functions.py’\n",
            "\n",
            "functions.py        100%[===================>]   9.47K  --.-KB/s    in 0s      \n",
            "\n",
            "2022-08-08 01:20:14 (73.1 MB/s) - ‘functions.py’ saved [9697/9697]\n",
            "\n"
          ]
        }
      ]
    },
    {
      "cell_type": "markdown",
      "source": [
        "## **Model 0 : Baseline**\n",
        "\n",
        "Since we're dealing with text data multi-class classification problem, we're gonna use Multinomial Naive Bayes as baseline model as recommended by [scikit-learn machine learning map](https://scikit-learn.org/stable/tutorial/machine_learning_map/index.html)."
      ],
      "metadata": {
        "id": "LUowtQwCktBH"
      }
    },
    {
      "cell_type": "code",
      "source": [
        "from sklearn.feature_extraction.text import TfidfVectorizer\n",
        "from sklearn.naive_bayes import MultinomialNB\n",
        "from sklearn.pipeline import Pipeline\n",
        "\n",
        "model_0 = Pipeline([(\"tf-idf\", TfidfVectorizer()),\n",
        "                    (\"clf\", MultinomialNB())])\n",
        "\n",
        "model_0.fit(train_sentences,\n",
        "            train_labels_encoded)"
      ],
      "metadata": {
        "id": "KTPxqYvxhSKC",
        "colab": {
          "base_uri": "https://localhost:8080/"
        },
        "outputId": "2eb748ec-0c8b-4d24-9bf5-c77bf547db89"
      },
      "execution_count": null,
      "outputs": [
        {
          "output_type": "execute_result",
          "data": {
            "text/plain": [
              "Pipeline(steps=[('tf-idf', TfidfVectorizer()), ('clf', MultinomialNB())])"
            ]
          },
          "metadata": {},
          "execution_count": 25
        }
      ]
    },
    {
      "cell_type": "code",
      "source": [
        "# Make prediction on validation set\n",
        "model_0_preds = model_0.predict(val_sentences)\n",
        "model_0_preds"
      ],
      "metadata": {
        "id": "cIqScbVqhSDy",
        "colab": {
          "base_uri": "https://localhost:8080/"
        },
        "outputId": "17e4629c-0faa-44ff-dc40-99930e22ff89"
      },
      "execution_count": null,
      "outputs": [
        {
          "output_type": "execute_result",
          "data": {
            "text/plain": [
              "array([4, 1, 3, ..., 4, 4, 1])"
            ]
          },
          "metadata": {},
          "execution_count": 26
        }
      ]
    },
    {
      "cell_type": "code",
      "source": [
        "# Evaluate prediction\n",
        "from functions import evaluate_prediction\n",
        "\n",
        "model_0_evaluation = evaluate_prediction(val_labels_encoded,\n",
        "                                         model_0_preds)"
      ],
      "metadata": {
        "id": "UONZjsXahSAn"
      },
      "execution_count": null,
      "outputs": []
    },
    {
      "cell_type": "markdown",
      "source": [
        "## **Model 1 : Conv1D with Token Embeddings**"
      ],
      "metadata": {
        "id": "lTjR68NC1cWw"
      }
    },
    {
      "cell_type": "markdown",
      "source": [
        "### **Creating Text Vectorization**"
      ],
      "metadata": {
        "id": "Bbaf6Ka30x-8"
      }
    },
    {
      "cell_type": "code",
      "source": [
        "import numpy as np\n",
        "import tensorflow as tf\n",
        "from tensorflow.keras import layers"
      ],
      "metadata": {
        "id": "QVuGJsPNhR8b"
      },
      "execution_count": null,
      "outputs": []
    },
    {
      "cell_type": "code",
      "source": [
        "# Find the average length of sentences (number of words) in training set\n",
        "sentence_length = [len(sentence.split()) for sentence in train_sentences]\n",
        "avg_sentence_length = np.mean(sentence_length)\n",
        "avg_sentence_length"
      ],
      "metadata": {
        "id": "Navw5EcQ132i",
        "colab": {
          "base_uri": "https://localhost:8080/"
        },
        "outputId": "1dd6798c-7479-40e7-9fb3-921659a56410"
      },
      "execution_count": null,
      "outputs": [
        {
          "output_type": "execute_result",
          "data": {
            "text/plain": [
              "26.338269273494777"
            ]
          },
          "metadata": {},
          "execution_count": 29
        }
      ]
    },
    {
      "cell_type": "code",
      "source": [
        "# Find the maximum length of sentences\n",
        "max(sentence_length)"
      ],
      "metadata": {
        "id": "WboB2g4m8QSp",
        "colab": {
          "base_uri": "https://localhost:8080/"
        },
        "outputId": "9462c830-b862-4d47-f7d8-11116d996d03"
      },
      "execution_count": null,
      "outputs": [
        {
          "output_type": "execute_result",
          "data": {
            "text/plain": [
              "296"
            ]
          },
          "metadata": {},
          "execution_count": 30
        }
      ]
    },
    {
      "cell_type": "code",
      "source": [
        "# Check the distribution of sentence length\n",
        "import matplotlib.pyplot as plt\n",
        "plt.hist(sentence_length, bins=10)"
      ],
      "metadata": {
        "id": "bL8j1gOb13zI",
        "colab": {
          "base_uri": "https://localhost:8080/"
        },
        "outputId": "7b0c1cf7-a731-4cc9-ba01-01f02e72ec17"
      },
      "execution_count": null,
      "outputs": [
        {
          "output_type": "execute_result",
          "data": {
            "text/plain": [
              "(array([1.25846e+05, 4.78220e+04, 5.37600e+03, 7.86000e+02, 1.46000e+02,\n",
              "        3.20000e+01, 1.90000e+01, 8.00000e+00, 3.00000e+00, 2.00000e+00]),\n",
              " array([  1. ,  30.5,  60. ,  89.5, 119. , 148.5, 178. , 207.5, 237. ,\n",
              "        266.5, 296. ]),\n",
              " <a list of 10 Patch objects>)"
            ]
          },
          "metadata": {},
          "execution_count": 31
        },
        {
          "output_type": "display_data",
          "data": {
            "text/plain": [
              "<Figure size 432x288 with 1 Axes>"
            ],
            "image/png": "[encoded data removed]"
          },
          "metadata": {
            "needs_background": "light"
          }
        }
      ]
    },
    {
      "cell_type": "code",
      "source": [
        "# Check length of sentence that covers 95% of all sentences in training set\n",
        "perc_95_sentence_length = int(np.percentile(sentence_length, 95))\n",
        "perc_95_sentence_length"
      ],
      "metadata": {
        "id": "xS8gd49313wn",
        "colab": {
          "base_uri": "https://localhost:8080/"
        },
        "outputId": "95dd29d4-c22c-4a76-9e26-0d6b49c4c07e"
      },
      "execution_count": null,
      "outputs": [
        {
          "output_type": "execute_result",
          "data": {
            "text/plain": [
              "55"
            ]
          },
          "metadata": {},
          "execution_count": 32
        }
      ]
    },
    {
      "cell_type": "markdown",
      "source": [
        "The majority of sentences are between 0 and 50 tokens in length. However, 95% of sentences in training set have a length of 55 tokens or less. Using 95% of sencentes because it already covered the majority of the infomation, and to avoid too long token since the maximum of length is 296.\n",
        "\n",
        "In order to create tokenization layer, the length of sentences must be the same. To do so, sentences with length below 55 will get padded with zeros. Meanwhile, the sentence with length above 55 will get truncated/cut off.\n",
        "\n",
        "Refers to section 3.2 of PubMed paper, PubMed 20k dataset contains 68,000 unique words in the vocabulary. "
      ],
      "metadata": {
        "id": "NwwkrR7y3hj0"
      }
    },
    {
      "cell_type": "code",
      "source": [
        "# Create text vectorizer\n",
        "from tensorflow.keras.layers.experimental.preprocessing import TextVectorization\n",
        "max_tokens = 68000\n",
        "text_vectorizer = TextVectorization(max_tokens=max_tokens,\n",
        "                                    output_sequence_length=perc_95_sentence_length)\n",
        "\n",
        "# Adapt text vectorizer to training set\n",
        "text_vectorizer.adapt(train_sentences)"
      ],
      "metadata": {
        "id": "nsRc1pBL13t9"
      },
      "execution_count": null,
      "outputs": []
    },
    {
      "cell_type": "code",
      "source": [
        "# View vectorized text\n",
        "import random\n",
        "sample_sentence = random.choice(train_sentences)\n",
        "print(f\"Sentence:\\n{sample_sentence}\")\n",
        "print(f\"\\nLength of sentence: {len(sample_sentence.split())}\")\n",
        "print(f\"\\nVectorized sentence:\\n{text_vectorizer([sample_sentence])}\")"
      ],
      "metadata": {
        "id": "IEN4y7EK13rS",
        "colab": {
          "base_uri": "https://localhost:8080/"
        },
        "outputId": "c6d2e2f0-b373-4875-a3d2-651dd55feb4c"
      },
      "execution_count": null,
      "outputs": [
        {
          "output_type": "stream",
          "name": "stdout",
          "text": [
            "Sentence:\n",
            "When group @ was compared with group @ in histopathologic sections , axonolysis was less in group @ ( p = @ ) , as was axon degeneration ( p = @ ) and edema ( p = @ ) .\n",
            "\n",
            "Length of sentence: 41\n",
            "\n",
            "Vectorized sentence:\n",
            "[[  183    13    10    34     7    13     5  7866  4862 32522    10   211\n",
            "      5    13    14    25    10 32523  2957    14     3  1729    14     0\n",
            "      0     0     0     0     0     0     0     0     0     0     0     0\n",
            "      0     0     0     0     0     0     0     0     0     0     0     0\n",
            "      0     0     0     0     0     0     0]]\n"
          ]
        }
      ]
    },
    {
      "cell_type": "code",
      "source": [
        "# Count unique words in training set\n",
        "rct_20k_text_vocab = text_vectorizer.get_vocabulary()\n",
        "print(f\"Number of unique words in the vocabulary: {len(rct_20k_text_vocab)}\")\n",
        "print(f\"Most common words in the vocabulary: {rct_20k_text_vocab[:5]}\")\n",
        "print(f\"Least common words in the vocabulary: {rct_20k_text_vocab[-5:]}\")"
      ],
      "metadata": {
        "id": "CDvIjaEr13os",
        "colab": {
          "base_uri": "https://localhost:8080/"
        },
        "outputId": "7713e934-f680-4d71-df4d-44c561c32877"
      },
      "execution_count": null,
      "outputs": [
        {
          "output_type": "stream",
          "name": "stdout",
          "text": [
            "Number of unique words in the vocabulary: 64841\n",
            "Most common words in the vocabulary: ['', '[UNK]', 'the', 'and', 'of']\n",
            "Least common words in the vocabulary: ['aainduced', 'aaigroup', 'aachener', 'aachen', 'aaacp']\n"
          ]
        }
      ]
    },
    {
      "cell_type": "code",
      "source": [
        "# Get the config of text_vectorizer\n",
        "text_vectorizer.get_config()"
      ],
      "metadata": {
        "id": "2aHHQlv_13mN",
        "colab": {
          "base_uri": "https://localhost:8080/"
        },
        "outputId": "43a69153-756c-44d5-f87f-975063ac1658"
      },
      "execution_count": null,
      "outputs": [
        {
          "output_type": "execute_result",
          "data": {
            "text/plain": [
              "{'batch_input_shape': (None,),\n",
              " 'dtype': 'string',\n",
              " 'idf_weights': None,\n",
              " 'max_tokens': 68000,\n",
              " 'name': 'text_vectorization',\n",
              " 'ngrams': None,\n",
              " 'output_mode': 'int',\n",
              " 'output_sequence_length': 55,\n",
              " 'pad_to_max_tokens': False,\n",
              " 'ragged': False,\n",
              " 'sparse': False,\n",
              " 'split': 'whitespace',\n",
              " 'standardize': 'lower_and_strip_punctuation',\n",
              " 'trainable': True,\n",
              " 'vocabulary': None}"
            ]
          },
          "metadata": {},
          "execution_count": 36
        }
      ]
    },
    {
      "cell_type": "markdown",
      "source": [
        "### **Creating Text Embedding**\n",
        "\n",
        "Text embedding "
      ],
      "metadata": {
        "id": "44pxRbBcIEDI"
      }
    },
    {
      "cell_type": "code",
      "source": [
        "# Create embedding layer\n",
        "token_embedding = layers.Embedding(input_dim=len(rct_20k_text_vocab),\n",
        "                                   output_dim=128, # the larger embedding size the more parameters the model has to train, it could take longer\n",
        "                                                  # the smaller embedding size may not capture as much information as the larger one\n",
        "                                   mask_zero=True, # help tf to do more efficient computing when there's alot zeros\n",
        "                                   name=\"token_embedding\")"
      ],
      "metadata": {
        "id": "oyjUkWF313jt"
      },
      "execution_count": null,
      "outputs": []
    },
    {
      "cell_type": "code",
      "source": [
        "# View embedded sentence\n",
        "print(f\"Sentence before vectorization:\\n{sample_sentence}\\n\")\n",
        "vectorized_sentence = text_vectorizer([sample_sentence])\n",
        "print(f\"Sentence after vectorization (before embedding):\\n{vectorized_sentence}\\n\")\n",
        "embedded_sentence = token_embedding(vectorized_sentence)\n",
        "print(f\"Sentence after embedding:\\n{embedded_sentence}\\n\")\n",
        "print(f\"Embedded sentence shape: {embedded_sentence.shape}\")"
      ],
      "metadata": {
        "id": "fkV2XwHC13hN",
        "colab": {
          "base_uri": "https://localhost:8080/"
        },
        "outputId": "87598e6e-fbed-4071-c194-21016b0df279"
      },
      "execution_count": null,
      "outputs": [
        {
          "output_type": "stream",
          "name": "stdout",
          "text": [
            "Sentence before vectorization:\n",
            "When group @ was compared with group @ in histopathologic sections , axonolysis was less in group @ ( p = @ ) , as was axon degeneration ( p = @ ) and edema ( p = @ ) .\n",
            "\n",
            "Sentence after vectorization (before embedding):\n",
            "[[  183    13    10    34     7    13     5  7866  4862 32522    10   211\n",
            "      5    13    14    25    10 32523  2957    14     3  1729    14     0\n",
            "      0     0     0     0     0     0     0     0     0     0     0     0\n",
            "      0     0     0     0     0     0     0     0     0     0     0     0\n",
            "      0     0     0     0     0     0     0]]\n",
            "\n",
            "Sentence after embedding:\n",
            "[[[-0.02787051  0.01301887 -0.02929273 ...  0.01791804  0.01813331\n",
            "   -0.02810538]\n",
            "  [ 0.03814225  0.00086797  0.02468297 ... -0.01822313  0.00169407\n",
            "    0.02770591]\n",
            "  [ 0.0045483   0.01075632 -0.00489793 ...  0.00445728 -0.04557483\n",
            "    0.00683255]\n",
            "  ...\n",
            "  [ 0.00405129  0.00473619  0.04199416 ...  0.04419342 -0.0417765\n",
            "    0.00657693]\n",
            "  [ 0.00405129  0.00473619  0.04199416 ...  0.04419342 -0.0417765\n",
            "    0.00657693]\n",
            "  [ 0.00405129  0.00473619  0.04199416 ...  0.04419342 -0.0417765\n",
            "    0.00657693]]]\n",
            "\n",
            "Embedded sentence shape: (1, 55, 128)\n"
          ]
        }
      ]
    },
    {
      "cell_type": "markdown",
      "source": [
        "### **Batching and Prefetching**\n",
        "\n",
        "Prefetching make dataset more efficient to load."
      ],
      "metadata": {
        "id": "BEVPoq1GNNuB"
      }
    },
    {
      "cell_type": "code",
      "source": [
        "# Turn dataset into tensorflow datasets\n",
        "train_dataset = tf.data.Dataset.from_tensor_slices((train_sentences, train_labels_onehot_encoded))\n",
        "valid_dataset = tf.data.Dataset.from_tensor_slices((val_sentences, val_labels_onehot_encoded))\n",
        "test_dataset = tf.data.Dataset.from_tensor_slices((test_sentences, test_labels_onehot_encoded))\n",
        "\n",
        "train_dataset"
      ],
      "metadata": {
        "id": "4JfPbc4h13ev",
        "colab": {
          "base_uri": "https://localhost:8080/"
        },
        "outputId": "5a560b15-e39b-4b75-a129-cd6639165c85"
      },
      "execution_count": null,
      "outputs": [
        {
          "output_type": "execute_result",
          "data": {
            "text/plain": [
              "<TensorSliceDataset element_spec=(TensorSpec(shape=(), dtype=tf.string, name=None), TensorSpec(shape=(5,), dtype=tf.float64, name=None))>"
            ]
          },
          "metadata": {},
          "execution_count": 39
        }
      ]
    },
    {
      "cell_type": "code",
      "source": [
        "# Turn TensorSliceDatasets into prefetched batches\n",
        "train_dataset = train_dataset.batch(32).prefetch(tf.data.AUTOTUNE)\n",
        "valid_dataset = valid_dataset.batch(32).prefetch(tf.data.AUTOTUNE)\n",
        "test_dataset = test_dataset.batch(32).prefetch(tf.data.AUTOTUNE)\n",
        "\n",
        "train_dataset"
      ],
      "metadata": {
        "colab": {
          "base_uri": "https://localhost:8080/"
        },
        "id": "xZweFxrwMa4r",
        "outputId": "8551cf8e-904c-4711-e195-f0bf160af2ae"
      },
      "execution_count": null,
      "outputs": [
        {
          "output_type": "execute_result",
          "data": {
            "text/plain": [
              "<PrefetchDataset element_spec=(TensorSpec(shape=(None,), dtype=tf.string, name=None), TensorSpec(shape=(None, 5), dtype=tf.float64, name=None))>"
            ]
          },
          "metadata": {},
          "execution_count": 40
        }
      ]
    },
    {
      "cell_type": "markdown",
      "source": [
        "### **Modeling**"
      ],
      "metadata": {
        "id": "hwTF3hJgP48N"
      }
    },
    {
      "cell_type": "code",
      "source": [
        "# Create 1D Convolutional model\n",
        "inputs = layers.Input(shape=(1,), dtype=tf.string)\n",
        "text_vectors = text_vectorizer(inputs)\n",
        "token_embeddings = token_embedding(text_vectors)\n",
        "x = layers.Conv1D(64, kernel_size=5, padding=\"same\", activation=\"relu\")(token_embeddings)\n",
        "x = layers.GlobalAveragePooling1D()(x)\n",
        "outputs = layers.Dense(num_class, activation=\"softmax\")(x)\n",
        "\n",
        "model_1 = tf.keras.Model(inputs, outputs)\n",
        "\n",
        "# Compile the model\n",
        "model_1.compile(loss=\"categorical_crossentropy\",\n",
        "                optimizer=tf.keras.optimizers.Adam(),\n",
        "                metrics=[\"accuracy\"])"
      ],
      "metadata": {
        "id": "farRoHKMMa0u"
      },
      "execution_count": null,
      "outputs": []
    },
    {
      "cell_type": "code",
      "source": [
        "# Model summary\n",
        "model_1.summary()"
      ],
      "metadata": {
        "id": "7iYEtTNKMatQ",
        "colab": {
          "base_uri": "https://localhost:8080/"
        },
        "outputId": "dd89c392-1d7d-45d7-a0e8-eac0e2a0b6ee"
      },
      "execution_count": null,
      "outputs": [
        {
          "output_type": "stream",
          "name": "stdout",
          "text": [
            "Model: \"model_1\"\n",
            "_________________________________________________________________\n",
            " Layer (type)                Output Shape              Param #   \n",
            "=================================================================\n",
            " input_2 (InputLayer)        [(None, 1)]               0         \n",
            "                                                                 \n",
            " text_vectorization (TextVec  (None, 55)               0         \n",
            " torization)                                                     \n",
            "                                                                 \n",
            " token_embedding (Embedding)  (None, 55, 128)          8299648   \n",
            "                                                                 \n",
            " conv1d_1 (Conv1D)           (None, 55, 64)            41024     \n",
            "                                                                 \n",
            " global_average_pooling1d_1   (None, 64)               0         \n",
            " (GlobalAveragePooling1D)                                        \n",
            "                                                                 \n",
            " dense_1 (Dense)             (None, 5)                 325       \n",
            "                                                                 \n",
            "=================================================================\n",
            "Total params: 8,340,997\n",
            "Trainable params: 8,340,997\n",
            "Non-trainable params: 0\n",
            "_________________________________________________________________\n"
          ]
        }
      ]
    },
    {
      "cell_type": "code",
      "source": [
        "# Fit the model\n",
        "history_model_1 = model_1.fit(train_dataset,\n",
        "                              steps_per_epoch=int(0.1*len(train_dataset)),\n",
        "                              epochs=3,\n",
        "                              validation_data=valid_dataset,\n",
        "                              validation_steps=int(0.1*len(valid_dataset)))"
      ],
      "metadata": {
        "id": "jzN18XVvMape",
        "colab": {
          "base_uri": "https://localhost:8080/"
        },
        "outputId": "de970cd8-030f-4357-e854-4765fabdc942"
      },
      "execution_count": null,
      "outputs": [
        {
          "output_type": "stream",
          "name": "stdout",
          "text": [
            "Epoch 1/3\n",
            "562/562 [==============================] - 77s 135ms/step - loss: 0.9084 - accuracy: 0.6389 - val_loss: 0.6820 - val_accuracy: 0.7370\n",
            "Epoch 2/3\n",
            "562/562 [==============================] - 62s 110ms/step - loss: 0.6581 - accuracy: 0.7567 - val_loss: 0.6264 - val_accuracy: 0.7729\n",
            "Epoch 3/3\n",
            "562/562 [==============================] - 60s 106ms/step - loss: 0.6193 - accuracy: 0.7752 - val_loss: 0.5961 - val_accuracy: 0.7849\n"
          ]
        }
      ]
    },
    {
      "cell_type": "code",
      "source": [
        "# Evaluate model on the whole validation set\n",
        "model_1.evaluate(valid_dataset)"
      ],
      "metadata": {
        "id": "QkyocVuyMamK",
        "colab": {
          "base_uri": "https://localhost:8080/"
        },
        "outputId": "94074947-2eef-4524-94ef-857109832ed5"
      },
      "execution_count": null,
      "outputs": [
        {
          "output_type": "stream",
          "name": "stdout",
          "text": [
            "945/945 [==============================] - 6s 6ms/step - loss: 0.5985 - accuracy: 0.7861\n"
          ]
        },
        {
          "output_type": "execute_result",
          "data": {
            "text/plain": [
              "[0.5985413193702698, 0.7860783934593201]"
            ]
          },
          "metadata": {},
          "execution_count": 47
        }
      ]
    },
    {
      "cell_type": "code",
      "source": [
        "# Make predictions\n",
        "model_1_pred_probs = model_1.predict(valid_dataset)\n",
        "model_1_pred_probs"
      ],
      "metadata": {
        "id": "FqoqYWMKMaiG",
        "colab": {
          "base_uri": "https://localhost:8080/"
        },
        "outputId": "b88b7dcb-4a12-4b04-d6a3-e3be1317592a"
      },
      "execution_count": null,
      "outputs": [
        {
          "output_type": "execute_result",
          "data": {
            "text/plain": [
              "array([[4.2607859e-01, 1.9472386e-01, 9.1968440e-02, 2.5628489e-01,\n",
              "        3.0944217e-02],\n",
              "       [4.5092320e-01, 2.7433747e-01, 1.3341645e-02, 2.5356928e-01,\n",
              "        7.8284340e-03],\n",
              "       [1.5801108e-01, 6.9232015e-03, 1.4115231e-03, 8.3361518e-01,\n",
              "        3.8981358e-05],\n",
              "       ...,\n",
              "       [3.2569083e-06, 8.2262303e-04, 4.5839953e-04, 1.3676423e-06,\n",
              "        9.9871433e-01],\n",
              "       [4.8156440e-02, 4.2834616e-01, 1.0422418e-01, 5.8521915e-02,\n",
              "        3.6075130e-01],\n",
              "       [1.7521752e-01, 6.7075801e-01, 4.0376246e-02, 4.2294696e-02,\n",
              "        7.1353555e-02]], dtype=float32)"
            ]
          },
          "metadata": {},
          "execution_count": 48
        }
      ]
    },
    {
      "cell_type": "code",
      "source": [
        "# Get the predicted class based on prediction probability\n",
        "model_1_preds = tf.argmax(model_1_pred_probs, axis=1)\n",
        "model_1_preds"
      ],
      "metadata": {
        "id": "ttbN1ZmzJ92z",
        "colab": {
          "base_uri": "https://localhost:8080/"
        },
        "outputId": "7e0cae73-20db-4a5f-c9ec-9546e2d18bfc"
      },
      "execution_count": null,
      "outputs": [
        {
          "output_type": "execute_result",
          "data": {
            "text/plain": [
              "<tf.Tensor: shape=(30212,), dtype=int64, numpy=array([0, 0, 3, ..., 4, 1, 1])>"
            ]
          },
          "metadata": {},
          "execution_count": 49
        }
      ]
    },
    {
      "cell_type": "code",
      "source": [
        "# Model evaluation metrics\n",
        "model_1_evaluation = evaluate_prediction(val_labels_encoded,\n",
        "                                         model_1_preds)\n",
        "model_1_evaluation"
      ],
      "metadata": {
        "id": "-Ns7lLSPKWoO",
        "colab": {
          "base_uri": "https://localhost:8080/"
        },
        "outputId": "2224335c-f7c2-4dfe-8a02-6f0701656b9a"
      },
      "execution_count": null,
      "outputs": [
        {
          "output_type": "execute_result",
          "data": {
            "text/plain": [
              "{'accuracy': 78.60783794518734,\n",
              " 'f1': 0.783569709265821,\n",
              " 'precision': 0.7825759303759962,\n",
              " 'recall': 0.7860783794518734}"
            ]
          },
          "metadata": {},
          "execution_count": 50
        }
      ]
    },
    {
      "cell_type": "markdown",
      "source": [
        "## **Model 2 : Feature Extraction with Pretrained Token Embeddings**"
      ],
      "metadata": {
        "id": "FM5dyt3AK-fz"
      }
    },
    {
      "cell_type": "code",
      "source": [
        "# Download TF-Hub USE\n",
        "import tensorflow_hub as hub\n",
        "tf_hub_embedding_layer = hub.KerasLayer(\"https://tfhub.dev/google/universal-sentence-encoder/4\",\n",
        "                                        trainable=False,\n",
        "                                        name=\"universal_sentence_encoder\")"
      ],
      "metadata": {
        "id": "aYmIxIquLL11"
      },
      "execution_count": null,
      "outputs": []
    },
    {
      "cell_type": "code",
      "source": [
        "# Test out tf_hub_embedding_layer on sample_sentence\n",
        "print(f\"Sentence before embedding:\\n{sample_sentence}\\n\")\n",
        "use_embedded_sentence = tf_hub_embedding_layer([sample_sentence])\n",
        "print(f\"Sentence after embedding:\\n{use_embedded_sentence}\\n\")\n",
        "print(f\"Embedded sentence shape: {use_embedded_sentence.shape}\")"
      ],
      "metadata": {
        "id": "mgh9l4mtLLxE",
        "colab": {
          "base_uri": "https://localhost:8080/"
        },
        "outputId": "c2e1ee0d-459b-4f4f-8c5c-e27aa72320a5"
      },
      "execution_count": null,
      "outputs": [
        {
          "output_type": "stream",
          "name": "stdout",
          "text": [
            "Sentence before embedding:\n",
            "When group @ was compared with group @ in histopathologic sections , axonolysis was less in group @ ( p = @ ) , as was axon degeneration ( p = @ ) and edema ( p = @ ) .\n",
            "\n",
            "Sentence after embedding:\n",
            "[[-1.99143346e-02 -5.95317855e-02  7.38745332e-02 -3.60306501e-02\n",
            "  -9.25567374e-03  1.33382101e-02  5.10349385e-02 -6.53192028e-02\n",
            "  -7.48136127e-03  2.16995291e-02  7.86151290e-02  6.04864508e-02\n",
            "   5.01015075e-02  5.80581389e-02 -1.14675099e-02 -6.59532547e-02\n",
            "  -4.72677574e-02 -1.20633664e-02  6.93585947e-02 -2.71524210e-02\n",
            "   5.95351867e-02  7.57184951e-03 -6.90739825e-02 -7.20369741e-02\n",
            "   3.21789943e-02  5.34953624e-02 -9.99257993e-03  5.35394512e-02\n",
            "  -5.63145839e-02  8.99681915e-03  5.57355098e-02  7.91179910e-02\n",
            "  -3.67185250e-02 -4.92487438e-02 -2.75403988e-02 -2.35546473e-02\n",
            "   6.36138692e-02  1.43170338e-02 -1.14875555e-03 -6.06317334e-02\n",
            "   2.40424350e-02  2.70077270e-02  5.97089455e-02  4.22598459e-02\n",
            "   2.72695292e-02  2.33487580e-02  6.50486201e-02 -6.22102469e-02\n",
            "   1.35207698e-02 -2.64103189e-02 -3.55306529e-02  3.07670888e-03\n",
            "  -1.92673262e-02 -8.11995044e-02  2.37774570e-02 -4.74270321e-02\n",
            "  -8.17222893e-02  1.14062587e-02 -1.79430451e-02 -1.87055785e-02\n",
            "  -5.62780276e-02  3.39518581e-03  5.46713732e-02  3.57557423e-02\n",
            "   2.20879037e-02 -6.36213506e-03  6.38515577e-02  4.95286286e-02\n",
            "  -1.63509045e-04  3.38786505e-02  5.40796444e-02  2.59679891e-02\n",
            "  -2.02514697e-02  4.19840701e-02 -5.71731478e-02  2.93297190e-02\n",
            "   1.85340159e-02  6.25481009e-02  7.86475316e-02  7.05692098e-02\n",
            "   2.90400553e-02  8.00444782e-02 -6.15551881e-03 -6.93340320e-03\n",
            "  -6.42896676e-03  5.74897565e-02  1.18239848e-02  6.99518993e-02\n",
            "  -5.58871664e-02  5.35413958e-02 -5.41304611e-02 -2.26033349e-02\n",
            "  -3.68329398e-02  3.17010321e-02 -2.04653572e-02  5.73629998e-02\n",
            "  -3.07024643e-02 -7.59532899e-02 -2.22855713e-02 -1.07873138e-02\n",
            "  -1.25335902e-02  7.97293261e-02  6.93530142e-02  1.87347122e-02\n",
            "   1.91238225e-02 -2.66023297e-02  4.34548035e-02 -1.34996641e-02\n",
            "   5.56496084e-02 -7.15305805e-02  2.89312340e-02  1.77425668e-02\n",
            "   7.15511739e-02  1.92387234e-02 -2.40805633e-02 -4.57714573e-02\n",
            "  -4.72778939e-02  2.05697920e-02  9.41222254e-03  2.26792339e-02\n",
            "  -7.67859221e-02  4.65141721e-02 -1.61505491e-02  3.94792296e-02\n",
            "   2.26672329e-02 -9.16646980e-03 -4.42327335e-02 -5.72411790e-02\n",
            "   1.33997714e-02 -9.68644861e-03 -2.76210643e-02  8.06474462e-02\n",
            "   4.44814786e-02  3.24909724e-02  5.31456724e-04 -2.73695085e-02\n",
            "   5.52421622e-02 -2.98431958e-03 -5.40645309e-02  2.06745267e-02\n",
            "  -1.36112412e-02  6.67455718e-02 -6.88583124e-04 -4.09256369e-02\n",
            "  -3.31143141e-02  4.96359617e-02  5.80888614e-02 -2.17539854e-02\n",
            "  -1.40904309e-02 -7.97492638e-02  2.70765107e-02  1.42060418e-03\n",
            "  -2.51863133e-02  1.25193940e-02  8.11613724e-02  3.34754027e-02\n",
            "  -1.26546035e-02  5.86893857e-02 -8.56893789e-03 -1.67701133e-02\n",
            "  -1.88370596e-03  1.81444865e-02 -4.02165353e-02 -2.86610629e-02\n",
            "   1.56949926e-02  1.65712938e-03  4.88329343e-02  4.39520217e-02\n",
            "   6.27222061e-02  4.81152954e-03 -2.45344210e-02 -6.55757934e-02\n",
            "   2.20512934e-02  4.84452099e-02  3.59373465e-02 -1.10152127e-04\n",
            "  -5.96671551e-02  6.16047084e-02  7.29423612e-02  5.26805855e-02\n",
            "  -3.52289453e-02  1.50617845e-02  3.34548131e-02  1.07061714e-02\n",
            "   1.87824927e-02 -2.55833752e-02 -8.16309545e-03  6.49550334e-02\n",
            "   2.44918745e-02  2.29868083e-03 -3.91949667e-03 -4.24538888e-02\n",
            "   7.17069581e-02  4.16350663e-02  2.44382024e-02  7.87361264e-02\n",
            "   1.71465538e-02 -1.70359444e-02  1.61399727e-03 -3.41972895e-02\n",
            "  -3.43369804e-02 -2.66709886e-02  3.39248702e-02  3.56508605e-02\n",
            "   4.55293208e-02  3.69921364e-02 -4.70740646e-02  5.33327758e-02\n",
            "  -1.52276205e-02  1.85501687e-02  8.22134502e-03 -7.72111211e-03\n",
            "   2.60352786e-03 -8.60857870e-03 -4.98905517e-02  1.04215965e-02\n",
            "   5.67980707e-02 -3.40506621e-02 -2.25976873e-02 -4.73451242e-02\n",
            "   6.84223995e-02 -7.82463141e-03  7.79516175e-02 -2.91067325e-02\n",
            "   4.50566933e-02  5.70519716e-02 -1.49829239e-02 -4.13309038e-02\n",
            "  -4.10969034e-02  5.99153191e-02 -3.29396166e-02  7.22067431e-02\n",
            "  -9.34607815e-03 -8.37171525e-02  6.63977042e-02  6.53269514e-02\n",
            "   7.13063926e-02  5.56128733e-02  3.69860865e-02 -1.73218492e-02\n",
            "  -1.47345085e-02  8.18215962e-03 -7.63690397e-02  1.85575802e-02\n",
            "   6.98715150e-02 -5.52742518e-02 -3.39446589e-02  4.17187102e-02\n",
            "   3.31830779e-05 -4.98426184e-02 -7.62858987e-02 -3.96355763e-02\n",
            "  -6.80253579e-05 -6.70740157e-02  6.57370761e-02  2.94454191e-02\n",
            "  -2.39852611e-02  7.42205009e-02 -1.18000926e-02 -5.57262376e-02\n",
            "  -6.44584466e-03 -5.22039011e-02 -2.80989520e-02  1.10128308e-02\n",
            "  -6.55089542e-02  4.66888584e-02 -5.91208041e-02  3.67694534e-02\n",
            "   3.54391187e-02  5.04119769e-02 -2.34307311e-02 -3.07109319e-02\n",
            "   6.82593361e-02 -1.09262262e-02  5.12074977e-02  4.04793546e-02\n",
            "  -6.37106299e-02 -5.25104776e-02  4.87458594e-02 -5.89348115e-02\n",
            "  -2.99605471e-03 -2.56489348e-02  3.18751596e-02  5.94596304e-02\n",
            "  -6.07703999e-02 -6.25057966e-02  5.65979071e-03  5.22035062e-02\n",
            "  -2.37135924e-02  6.23357296e-02  4.74193208e-02 -2.28663608e-02\n",
            "   2.05039643e-02 -4.03131396e-02 -7.35692233e-02  4.53157723e-03\n",
            "   3.98177356e-02  3.53132631e-03  3.73592973e-02 -6.05095737e-03\n",
            "   9.12003964e-03 -1.89474747e-02  2.29631253e-02 -5.28038107e-02\n",
            "  -2.18462739e-02 -5.63946217e-02  7.13698715e-02  3.21219973e-02\n",
            "  -2.75717862e-02  5.67242329e-04 -2.80473456e-02 -6.29698038e-02\n",
            "  -9.93052311e-03  2.66108811e-02 -3.17648724e-02  2.91237552e-02\n",
            "  -7.64240250e-02  7.40760879e-04  7.75918439e-02  4.07820828e-02\n",
            "   5.75292259e-02 -6.26957119e-02  1.59387272e-02  3.31401750e-02\n",
            "  -7.29771480e-02  5.45862280e-02 -2.52494644e-02 -1.33703314e-02\n",
            "  -4.76711616e-02  1.13480315e-02  4.40325476e-02 -1.22551490e-02\n",
            "   3.98811512e-02  7.96284974e-02 -1.64521858e-02  6.97753206e-02\n",
            "  -4.16958220e-02 -4.54617925e-02 -3.16668786e-02 -3.67433988e-02\n",
            "   1.18086757e-02 -8.18221923e-03  6.43608272e-02  2.10816525e-02\n",
            "  -8.41660574e-02 -3.06072682e-02 -5.73183298e-02  6.27552252e-03\n",
            "   6.91104382e-02 -4.93899100e-02 -1.51813878e-02  4.49138433e-02\n",
            "  -1.95726268e-02 -6.49590567e-02  4.16865684e-02  9.61577636e-04\n",
            "  -7.94029608e-02 -2.97499280e-02  3.46512571e-02 -1.50278108e-02\n",
            "   1.45554757e-02 -2.27778889e-02 -7.69645274e-02  2.14782706e-03\n",
            "   1.33218840e-02  5.03280349e-02  4.82149050e-02  2.16353741e-02\n",
            "   2.60841399e-02 -1.48158157e-02  4.47208546e-02 -6.56018481e-02\n",
            "   6.78233281e-02 -3.87046039e-02  7.88159817e-02 -4.02623191e-02\n",
            "   8.15742165e-02 -6.46154955e-02  4.77247834e-02 -2.89130397e-02\n",
            "  -3.90344709e-02 -3.95261636e-03  3.85644510e-02  6.27390370e-02\n",
            "   7.17594177e-02  8.82931612e-03  2.49812119e-02 -3.02808583e-02\n",
            "  -6.30240217e-02  1.43587065e-04  7.05399066e-02  1.91564262e-02\n",
            "  -3.18829305e-02 -7.82916695e-02 -1.31235700e-02 -4.89723943e-02\n",
            "  -1.02062784e-02  3.93601656e-02  2.13458277e-02 -8.34477320e-02\n",
            "   6.10361919e-02 -3.89094539e-02 -3.92763317e-02  3.13337035e-02\n",
            "  -5.35289897e-03 -6.23844825e-02 -2.93482142e-03  1.91206150e-02\n",
            "   3.56441364e-02 -6.15888648e-02 -6.31614551e-02 -5.15599139e-02\n",
            "   4.23864685e-02 -4.98783891e-04 -2.91199386e-02  3.53776440e-02\n",
            "   3.90560329e-02  4.07605805e-03 -4.24950309e-02 -4.49938104e-02\n",
            "  -3.44821885e-02 -6.31148815e-02 -2.06056423e-02 -5.10738529e-02\n",
            "   6.36682361e-02 -5.29328436e-02 -1.74114145e-02  8.82672204e-04\n",
            "   3.67975421e-02 -3.31808515e-02 -6.45414442e-02 -4.40391898e-02\n",
            "  -6.01340160e-02 -1.60544161e-02 -3.80239263e-03 -5.73928282e-02\n",
            "  -3.05710919e-02 -2.90585170e-03 -7.13257352e-03  4.04257849e-02\n",
            "  -2.40182355e-02  3.23800147e-02  4.01767641e-02  5.75632527e-02\n",
            "   3.62263434e-02 -3.18226553e-02 -7.65272602e-02  2.60483380e-02\n",
            "   9.93829034e-03  5.91053581e-03  8.21660161e-02 -5.00319190e-02\n",
            "  -2.44770069e-02  7.37356916e-02 -7.65879359e-03 -7.67176971e-02\n",
            "  -7.84218758e-02  1.34063344e-02 -2.89330035e-02  5.79713657e-02\n",
            "  -6.46817386e-02  4.72215330e-03  7.14920759e-02 -3.11512724e-02\n",
            "   5.85886054e-02 -6.91278055e-02 -6.24674410e-02 -3.44645530e-02\n",
            "   1.76768415e-02 -2.30006054e-02  5.70987165e-02 -1.66664906e-02\n",
            "   6.11451641e-02 -1.06420759e-02 -1.51326889e-02 -4.38439101e-02\n",
            "  -4.04605232e-02 -1.87457651e-02 -1.42325480e-02 -6.60446435e-02\n",
            "   1.05526308e-02 -4.28348370e-02  3.16979997e-02 -1.29385525e-02\n",
            "   2.35416330e-02 -3.60664837e-02 -7.71035329e-02 -8.42991844e-02\n",
            "   5.58964610e-02 -7.59798586e-02 -3.74923423e-02  5.91560490e-02\n",
            "   2.34799776e-02 -5.56011647e-02 -1.49135897e-02 -5.70065528e-02\n",
            "   1.14730587e-02 -3.66961444e-03  7.10135549e-02 -4.16118316e-02\n",
            "   6.32847548e-02 -5.54055860e-03  4.36368808e-02 -1.81628671e-02\n",
            "  -7.25749927e-03 -8.23249966e-02 -2.84769703e-02  1.27999755e-02\n",
            "   9.47589800e-03  1.96015579e-03 -6.30662963e-02 -5.01297452e-02]]\n",
            "\n",
            "Embedded sentence shape: (1, 512)\n"
          ]
        }
      ]
    },
    {
      "cell_type": "code",
      "source": [
        "# Create the model\n",
        "inputs = layers.Input(shape=[], dtype=tf.string)\n",
        "pretrained_embeddings = tf_hub_embedding_layer(inputs)\n",
        "x = layers.Dense(128, activation=\"relu\")(pretrained_embeddings)\n",
        "outputs = layers.Dense(num_class, activation=\"softmax\")(x)\n",
        "\n",
        "model_2 = tf.keras.Model(inputs, outputs)\n",
        "\n",
        "# Compile the model\n",
        "model_2.compile(loss=\"categorical_crossentropy\",\n",
        "                optimizer=tf.keras.optimizers.Adam(),\n",
        "                metrics=[\"accuracy\"])"
      ],
      "metadata": {
        "id": "VsYB0a0eLLtm"
      },
      "execution_count": null,
      "outputs": []
    },
    {
      "cell_type": "code",
      "source": [
        "# Model summary\n",
        "model_2.summary()"
      ],
      "metadata": {
        "id": "0CqJNG8PLLpt",
        "colab": {
          "base_uri": "https://localhost:8080/"
        },
        "outputId": "a8e77e48-1acc-43c8-e510-093979269d03"
      },
      "execution_count": null,
      "outputs": [
        {
          "output_type": "stream",
          "name": "stdout",
          "text": [
            "Model: \"model_2\"\n",
            "_________________________________________________________________\n",
            " Layer (type)                Output Shape              Param #   \n",
            "=================================================================\n",
            " input_5 (InputLayer)        [(None,)]                 0         \n",
            "                                                                 \n",
            " universal_sentence_encoder   (None, 512)              256797824 \n",
            " (KerasLayer)                                                    \n",
            "                                                                 \n",
            " dense_4 (Dense)             (None, 128)               65664     \n",
            "                                                                 \n",
            " dense_5 (Dense)             (None, 5)                 645       \n",
            "                                                                 \n",
            "=================================================================\n",
            "Total params: 256,864,133\n",
            "Trainable params: 66,309\n",
            "Non-trainable params: 256,797,824\n",
            "_________________________________________________________________\n"
          ]
        }
      ]
    },
    {
      "cell_type": "code",
      "source": [
        "# Fit the model\n",
        "history_model_2 = model_2.fit(train_dataset,\n",
        "                              steps_per_epoch=int(0.1*len(train_dataset)),\n",
        "                              epochs=3,\n",
        "                              validation_data=valid_dataset,\n",
        "                              validation_steps=int(0.1*len(valid_dataset)))"
      ],
      "metadata": {
        "id": "nLzyKOf8LLmR",
        "colab": {
          "base_uri": "https://localhost:8080/"
        },
        "outputId": "1f88cfaf-9048-4d0e-c408-54aa015d0364"
      },
      "execution_count": null,
      "outputs": [
        {
          "output_type": "stream",
          "name": "stdout",
          "text": [
            "Epoch 1/3\n",
            "562/562 [==============================] - 13s 19ms/step - loss: 0.9182 - accuracy: 0.6494 - val_loss: 0.7936 - val_accuracy: 0.6925\n",
            "Epoch 2/3\n",
            "562/562 [==============================] - 7s 13ms/step - loss: 0.7667 - accuracy: 0.7043 - val_loss: 0.7507 - val_accuracy: 0.7071\n",
            "Epoch 3/3\n",
            "562/562 [==============================] - 7s 13ms/step - loss: 0.7493 - accuracy: 0.7140 - val_loss: 0.7346 - val_accuracy: 0.7158\n"
          ]
        }
      ]
    },
    {
      "cell_type": "code",
      "source": [
        "# Evaluate model on the whole validation set\n",
        "model_2.evaluate(valid_dataset)"
      ],
      "metadata": {
        "id": "NzR89iuWLLfh",
        "colab": {
          "base_uri": "https://localhost:8080/"
        },
        "outputId": "82667813-9bfa-45b6-f44e-23a83d85e5b1"
      },
      "execution_count": null,
      "outputs": [
        {
          "output_type": "stream",
          "name": "stdout",
          "text": [
            "945/945 [==============================] - 10s 11ms/step - loss: 0.7377 - accuracy: 0.7161\n"
          ]
        },
        {
          "output_type": "execute_result",
          "data": {
            "text/plain": [
              "[0.737736165523529, 0.7161392569541931]"
            ]
          },
          "metadata": {},
          "execution_count": 62
        }
      ]
    },
    {
      "cell_type": "code",
      "source": [
        "# Make predictions\n",
        "model_2_pred_probs = model_2.predict(valid_dataset)\n",
        "model_2_pred_probs"
      ],
      "metadata": {
        "id": "-H1oBYlKLLbx",
        "colab": {
          "base_uri": "https://localhost:8080/"
        },
        "outputId": "3053843a-a5aa-400e-b77f-aa574e046585"
      },
      "execution_count": null,
      "outputs": [
        {
          "output_type": "execute_result",
          "data": {
            "text/plain": [
              "array([[4.1705045e-01, 3.7408736e-01, 2.8236245e-03, 1.9684075e-01,\n",
              "        9.1977855e-03],\n",
              "       [3.5175472e-01, 4.8611891e-01, 3.4197744e-03, 1.5624085e-01,\n",
              "        2.4656188e-03],\n",
              "       [2.3343615e-01, 1.6250089e-01, 2.4981119e-02, 5.4142439e-01,\n",
              "        3.7657447e-02],\n",
              "       ...,\n",
              "       [1.6557171e-03, 6.7055938e-03, 4.6988036e-02, 7.3707459e-04,\n",
              "        9.4391358e-01],\n",
              "       [3.8743748e-03, 4.6967685e-02, 2.0066839e-01, 1.4348455e-03,\n",
              "        7.4705464e-01],\n",
              "       [1.8532546e-01, 2.9926613e-01, 4.3987104e-01, 7.7643739e-03,\n",
              "        6.7772999e-02]], dtype=float32)"
            ]
          },
          "metadata": {},
          "execution_count": 63
        }
      ]
    },
    {
      "cell_type": "code",
      "source": [
        "# Get the predicted class\n",
        "model_2_preds = tf.argmax(model_2_pred_probs, axis=1)\n",
        "model_2_preds"
      ],
      "metadata": {
        "id": "pieeM7BwLLYM",
        "colab": {
          "base_uri": "https://localhost:8080/"
        },
        "outputId": "13d57d55-366d-495b-9be8-a9ca5ed5d839"
      },
      "execution_count": null,
      "outputs": [
        {
          "output_type": "execute_result",
          "data": {
            "text/plain": [
              "<tf.Tensor: shape=(30212,), dtype=int64, numpy=array([0, 1, 3, ..., 4, 4, 2])>"
            ]
          },
          "metadata": {},
          "execution_count": 64
        }
      ]
    },
    {
      "cell_type": "code",
      "source": [
        "# Model evaluation\n",
        "model_2_evaluation = evaluate_prediction(val_labels_encoded,\n",
        "                                         model_2_preds)\n",
        "model_2_evaluation"
      ],
      "metadata": {
        "id": "RD9840RdLLUV",
        "colab": {
          "base_uri": "https://localhost:8080/"
        },
        "outputId": "f7b54ce0-c962-434d-a468-06777ac1ec60"
      },
      "execution_count": null,
      "outputs": [
        {
          "output_type": "execute_result",
          "data": {
            "text/plain": [
              "{'accuracy': 71.61392824043426,\n",
              " 'f1': 0.7131573371254903,\n",
              " 'precision': 0.7164379737219094,\n",
              " 'recall': 0.7161392824043427}"
            ]
          },
          "metadata": {},
          "execution_count": 65
        }
      ]
    },
    {
      "cell_type": "markdown",
      "source": [
        "## **Model 3 : Conv1D with Character Embeddings**\n",
        "\n",
        "Character Embeddings split sequences into characters and creates a feature vectore for each."
      ],
      "metadata": {
        "id": "tB-GOCcagTzP"
      }
    },
    {
      "cell_type": "markdown",
      "source": [
        "### **Character-level Splitting**"
      ],
      "metadata": {
        "id": "KMyzGgjTspWM"
      }
    },
    {
      "cell_type": "code",
      "source": [
        "# Split sentences into characters\n",
        "def split_characters(text):\n",
        "  return \" \".join(list(text))\n",
        "\n",
        "# Test out the function\n",
        "split_characters(sample_sentence)"
      ],
      "metadata": {
        "id": "kSjaGtnwqh7U",
        "colab": {
          "base_uri": "https://localhost:8080/",
          "height": 105
        },
        "outputId": "9bf3dfa4-0928-42e1-8208-1e3e9fb8aefb"
      },
      "execution_count": null,
      "outputs": [
        {
          "output_type": "execute_result",
          "data": {
            "text/plain": [
              "'W h e n   g r o u p   @   w a s   c o m p a r e d   w i t h   g r o u p   @   i n   h i s t o p a t h o l o g i c   s e c t i o n s   ,   a x o n o l y s i s   w a s   l e s s   i n   g r o u p   @   (   p   =   @   )   ,   a s   w a s   a x o n   d e g e n e r a t i o n   (   p   =   @   )   a n d   e d e m a   (   p   =   @   )   .'"
            ],
            "application/vnd.google.colaboratory.intrinsic+json": {
              "type": "string"
            }
          },
          "metadata": {},
          "execution_count": 66
        }
      ]
    },
    {
      "cell_type": "code",
      "source": [
        "# Split datasets into character-level splits\n",
        "train_chars = [split_characters(sentence) for sentence in train_sentences]\n",
        "val_chars = [split_characters(sentence) for sentence in val_sentences]\n",
        "test_chars = [split_characters(sentence) for sentence in test_sentences]\n",
        "\n",
        "# check out splitting result\n",
        "print(train_chars[0])"
      ],
      "metadata": {
        "colab": {
          "base_uri": "https://localhost:8080/"
        },
        "id": "1Kwauy4Aroya",
        "outputId": "75d9a54f-4f5f-49ed-9ca0-a21c0fa5e9f2"
      },
      "execution_count": null,
      "outputs": [
        {
          "output_type": "stream",
          "name": "stdout",
          "text": [
            "T o   i n v e s t i g a t e   t h e   e f f i c a c y   o f   @   w e e k s   o f   d a i l y   l o w - d o s e   o r a l   p r e d n i s o l o n e   i n   i m p r o v i n g   p a i n   ,   m o b i l i t y   ,   a n d   s y s t e m i c   l o w - g r a d e   i n f l a m m a t i o n   i n   t h e   s h o r t   t e r m   a n d   w h e t h e r   t h e   e f f e c t   w o u l d   b e   s u s t a i n e d   a t   @   w e e k s   i n   o l d e r   a d u l t s   w i t h   m o d e r a t e   t o   s e v e r e   k n e e   o s t e o a r t h r i t i s   (   O A   )   .\n"
          ]
        }
      ]
    },
    {
      "cell_type": "code",
      "source": [
        "# Find the average character length in train_sentences\n",
        "char_lengths = [len(sentence) for sentence in train_sentences]\n",
        "avg_char_length = np.mean(char_lengths)\n",
        "avg_char_length"
      ],
      "metadata": {
        "id": "woK7D1fbscjz",
        "colab": {
          "base_uri": "https://localhost:8080/"
        },
        "outputId": "80021fee-0089-4d1a-83a8-8bb4ae822867"
      },
      "execution_count": null,
      "outputs": [
        {
          "output_type": "execute_result",
          "data": {
            "text/plain": [
              "149.3662574983337"
            ]
          },
          "metadata": {},
          "execution_count": 68
        }
      ]
    },
    {
      "cell_type": "code",
      "source": [
        "# Check the distribution of character length\n",
        "plt.hist(char_lengths, bins=7)"
      ],
      "metadata": {
        "id": "pV_2Z1iItaMZ",
        "colab": {
          "base_uri": "https://localhost:8080/",
          "height": 352
        },
        "outputId": "34621f78-fbed-4d0e-990e-670121c7fd8e"
      },
      "execution_count": null,
      "outputs": [
        {
          "output_type": "execute_result",
          "data": {
            "text/plain": [
              "(array([1.41175e+05, 3.71110e+04, 1.60000e+03, 1.27000e+02, 2.10000e+01,\n",
              "        5.00000e+00, 1.00000e+00]),\n",
              " array([1.00000000e+00, 1.98857143e+02, 3.96714286e+02, 5.94571429e+02,\n",
              "        7.92428571e+02, 9.90285714e+02, 1.18814286e+03, 1.38600000e+03]),\n",
              " <a list of 7 Patch objects>)"
            ]
          },
          "metadata": {},
          "execution_count": 69
        },
        {
          "output_type": "display_data",
          "data": {
            "text/plain": [
              "<Figure size 432x288 with 1 Axes>"
            ],
            "image/png": "[encoded data removed]"
          },
          "metadata": {
            "needs_background": "light"
          }
        }
      ]
    },
    {
      "cell_type": "code",
      "source": [
        "# Check length of character that covers 95% of all sentences in training set\n",
        "perc_95_character_length = int(np.percentile(char_lengths, 95))\n",
        "perc_95_character_length"
      ],
      "metadata": {
        "id": "0Iqm_cInt3Jg",
        "colab": {
          "base_uri": "https://localhost:8080/"
        },
        "outputId": "77ccea1d-1afe-44ec-eea0-381fc3b6b9c5"
      },
      "execution_count": null,
      "outputs": [
        {
          "output_type": "execute_result",
          "data": {
            "text/plain": [
              "290"
            ]
          },
          "metadata": {},
          "execution_count": 70
        }
      ]
    },
    {
      "cell_type": "code",
      "source": [
        "# Get all keyboard characters\n",
        "import string\n",
        "chars = string.ascii_lowercase + string.digits + string.punctuation\n",
        "chars"
      ],
      "metadata": {
        "id": "vgIRjoypueOv",
        "colab": {
          "base_uri": "https://localhost:8080/",
          "height": 35
        },
        "outputId": "20bb6164-a8a9-4dce-af71-879b0a711b6d"
      },
      "execution_count": null,
      "outputs": [
        {
          "output_type": "execute_result",
          "data": {
            "text/plain": [
              "'abcdefghijklmnopqrstuvwxyz0123456789!\"#$%&\\'()*+,-./:;<=>?@[\\\\]^_`{|}~'"
            ],
            "application/vnd.google.colaboratory.intrinsic+json": {
              "type": "string"
            }
          },
          "metadata": {},
          "execution_count": 71
        }
      ]
    },
    {
      "cell_type": "code",
      "source": [
        "len(chars)"
      ],
      "metadata": {
        "id": "0QIK4qUHu0sJ",
        "colab": {
          "base_uri": "https://localhost:8080/"
        },
        "outputId": "34a17588-c101-485b-d1b4-60348e90a0bb"
      },
      "execution_count": null,
      "outputs": [
        {
          "output_type": "execute_result",
          "data": {
            "text/plain": [
              "68"
            ]
          },
          "metadata": {},
          "execution_count": 72
        }
      ]
    },
    {
      "cell_type": "markdown",
      "source": [
        "### **Creating Character-level Vectorization**"
      ],
      "metadata": {
        "id": "ctc_ErG_vDWe"
      }
    },
    {
      "cell_type": "code",
      "source": [
        "# Create character vectorizer \n",
        "num_char_tokens = len(chars)\n",
        "char_vectorizer = TextVectorization(max_tokens=num_char_tokens,\n",
        "                                    output_sequence_length=perc_95_character_length,\n",
        "                                    standardize=\"lower_and_strip_punctuation\",\n",
        "                                    name=\"character_vectorizer\")\n",
        "\n",
        "# Adapt character vectorizer to training characters\n",
        "char_vectorizer.adapt(train_chars)"
      ],
      "metadata": {
        "id": "oiUfcnyyvQ4L"
      },
      "execution_count": null,
      "outputs": []
    },
    {
      "cell_type": "code",
      "source": [
        "# Check character vocabulary\n",
        "char_vocab = char_vectorizer.get_vocabulary()\n",
        "print(f\"Number of unique characters in the vocabulary: {len(char_vocab)}\")\n",
        "print(f\"Most common characters in the vocabulary: {char_vocab[:5]}\")\n",
        "print(f\"Least common characters in the vocabulary: {char_vocab[-5:]}\")"
      ],
      "metadata": {
        "id": "VoWdiluh5sCA",
        "colab": {
          "base_uri": "https://localhost:8080/"
        },
        "outputId": "75d040b9-6c6a-4ca7-f9d0-061640a452c1"
      },
      "execution_count": null,
      "outputs": [
        {
          "output_type": "stream",
          "name": "stdout",
          "text": [
            "Number of unique characters in the vocabulary: 28\n",
            "Most common characters in the vocabulary: ['', '[UNK]', 'e', 't', 'i']\n",
            "Least common characters in the vocabulary: ['k', 'x', 'z', 'q', 'j']\n"
          ]
        }
      ]
    },
    {
      "cell_type": "code",
      "source": [
        "# Test out character vectorizer on sample character\n",
        "sample_chars = random.choice(train_chars)\n",
        "print(f\"Sample characters:\\n{sample_chars}\")\n",
        "print(f\"\\nLength of characters: {len(sample_chars.split())}\")\n",
        "\n",
        "vectorized_chars = char_vectorizer([sample_chars])\n",
        "print(f\"Vectorized characters:\\n{vectorized_chars}\")\n",
        "print(f\"\\nLength of vectorized characters: {len(vectorized_chars[0])}\")"
      ],
      "metadata": {
        "id": "XQ10hkVD5rz7",
        "colab": {
          "base_uri": "https://localhost:8080/"
        },
        "outputId": "b64fb84f-4430-433a-9fdc-dc0889e65d89"
      },
      "execution_count": null,
      "outputs": [
        {
          "output_type": "stream",
          "name": "stdout",
          "text": [
            "Sample characters:\n",
            "D a y s   a l i v e   a n d   v e n t i l a t o r   f r e e   a t   @   d a y s   w a s   g r e a t e r   i n   t h e   i N O   g r o u p   ,   @   @   a n d   @   @   d a y s   (   i N O   a n d   p l a c e b o   g r o u p s   ,   r e s p e c t i v e l y   ,   P   =   @   )   .\n",
            "\n",
            "Length of characters: 107\n",
            "Vectorized characters:\n",
            "[[10  5 19  9  5 12  4 21  2  5  6 10 21  2  6  3  4 12  5  3  7  8 17  8\n",
            "   2  2  5  3 10  5 19  9 20  5  9 18  8  2  5  3  2  8  4  6  3 13  2  4\n",
            "   6  7 18  8  7 16 14  5  6 10 10  5 19  9  4  6  7  5  6 10 14 12  5 11\n",
            "   2 22  7 18  8  7 16 14  9  8  2  9 14  2 11  3  4 21  2 12 19 14  0  0\n",
            "   0  0  0  0  0  0  0  0  0  0  0  0  0  0  0  0  0  0  0  0  0  0  0  0\n",
            "   0  0  0  0  0  0  0  0  0  0  0  0  0  0  0  0  0  0  0  0  0  0  0  0\n",
            "   0  0  0  0  0  0  0  0  0  0  0  0  0  0  0  0  0  0  0  0  0  0  0  0\n",
            "   0  0  0  0  0  0  0  0  0  0  0  0  0  0  0  0  0  0  0  0  0  0  0  0\n",
            "   0  0  0  0  0  0  0  0  0  0  0  0  0  0  0  0  0  0  0  0  0  0  0  0\n",
            "   0  0  0  0  0  0  0  0  0  0  0  0  0  0  0  0  0  0  0  0  0  0  0  0\n",
            "   0  0  0  0  0  0  0  0  0  0  0  0  0  0  0  0  0  0  0  0  0  0  0  0\n",
            "   0  0  0  0  0  0  0  0  0  0  0  0  0  0  0  0  0  0  0  0  0  0  0  0\n",
            "   0  0]]\n",
            "\n",
            "Length of vectorized characters: 290\n"
          ]
        }
      ]
    },
    {
      "cell_type": "markdown",
      "source": [
        "### **Creating Character-level Embedding**"
      ],
      "metadata": {
        "id": "xSCn11538hhA"
      }
    },
    {
      "cell_type": "code",
      "source": [
        "# Create character embedding layer\n",
        "char_embedding = layers.Embedding(input_dim=num_char_tokens,\n",
        "                                    output_dim=25, # embedding dimension of each character\n",
        "                                    mask_zero=False,\n",
        "                                    name=\"char_embedding\")"
      ],
      "metadata": {
        "id": "GY6_tUCx5rwb"
      },
      "execution_count": null,
      "outputs": []
    },
    {
      "cell_type": "code",
      "source": [
        "# Test out character embedding layer\n",
        "char_embedded_sentence = char_embedding(vectorized_chars)\n",
        "print(f\"Sentence after embedding:\\n{char_embedded_sentence}\\n\")\n",
        "print(f\"Embedded sentence shape: {char_embedded_sentence.shape}\")"
      ],
      "metadata": {
        "id": "ab--5j_95rt4",
        "colab": {
          "base_uri": "https://localhost:8080/"
        },
        "outputId": "1358acbc-d28f-477a-c889-3973e7e4e0c9"
      },
      "execution_count": null,
      "outputs": [
        {
          "output_type": "stream",
          "name": "stdout",
          "text": [
            "Sentence after embedding:\n",
            "[[[ 0.00761487  0.03958644 -0.02907908 ... -0.00146793  0.01140912\n",
            "    0.04129891]\n",
            "  [ 0.00085323  0.01073151  0.01441387 ... -0.02101207  0.04292948\n",
            "    0.01580394]\n",
            "  [ 0.04728525 -0.01480345 -0.01961997 ...  0.02809635  0.03155123\n",
            "   -0.0256887 ]\n",
            "  ...\n",
            "  [-0.00699087  0.02451592  0.03288286 ... -0.02584999 -0.03590242\n",
            "    0.02786257]\n",
            "  [-0.00699087  0.02451592  0.03288286 ... -0.02584999 -0.03590242\n",
            "    0.02786257]\n",
            "  [-0.00699087  0.02451592  0.03288286 ... -0.02584999 -0.03590242\n",
            "    0.02786257]]]\n",
            "\n",
            "Embedded sentence shape: (1, 290, 25)\n"
          ]
        }
      ]
    },
    {
      "cell_type": "markdown",
      "source": [
        "### **Batching and Prefetching**"
      ],
      "metadata": {
        "id": "FpAYasxnCMsk"
      }
    },
    {
      "cell_type": "code",
      "source": [
        "train_char_dataset = tf.data.Dataset.from_tensor_slices((train_chars, train_labels_onehot_encoded)).batch(32).prefetch(tf.data.AUTOTUNE)\n",
        "valid_char_dataset = tf.data.Dataset.from_tensor_slices((val_chars, val_labels_onehot_encoded)).batch(32).prefetch(tf.data.AUTOTUNE)\n",
        "\n",
        "train_char_dataset"
      ],
      "metadata": {
        "id": "C8plApFMB0Oh",
        "colab": {
          "base_uri": "https://localhost:8080/"
        },
        "outputId": "48df077f-b3cd-41cc-c472-3cf21f9291a8"
      },
      "execution_count": null,
      "outputs": [
        {
          "output_type": "execute_result",
          "data": {
            "text/plain": [
              "<PrefetchDataset element_spec=(TensorSpec(shape=(None,), dtype=tf.string, name=None), TensorSpec(shape=(None, 5), dtype=tf.float64, name=None))>"
            ]
          },
          "metadata": {},
          "execution_count": 82
        }
      ]
    },
    {
      "cell_type": "markdown",
      "source": [
        "### **Modeling**"
      ],
      "metadata": {
        "id": "8jIyrlod-3Uq"
      }
    },
    {
      "cell_type": "code",
      "source": [
        "# Create 1D convolutional model\n",
        "inputs = layers.Input(shape=(1,), dtype=tf.string)\n",
        "char_vectors = char_vectorizer(inputs)\n",
        "char_embeddings = char_embedding(char_vectors)\n",
        "x = layers.Conv1D(64, kernel_size=5, padding=\"same\", activation=\"relu\")(char_embeddings)\n",
        "x = layers.GlobalAveragePooling1D()(x)\n",
        "outputs = layers.Dense(num_class, activation=\"softmax\")(x)\n",
        "\n",
        "model_3 = tf.keras.Model(inputs, outputs, name=\"model_3_conv1d_char_embedding\")\n",
        "\n",
        "# Compile the model\n",
        "model_3.compile(loss=\"categorical_crossentropy\",\n",
        "                optimizer=tf.keras.optimizers.Adam(),\n",
        "                metrics=[\"accuracy\"])"
      ],
      "metadata": {
        "id": "SYSqAvFJ_Xt5"
      },
      "execution_count": null,
      "outputs": []
    },
    {
      "cell_type": "code",
      "source": [
        "# Model summary\n",
        "model_3.summary()"
      ],
      "metadata": {
        "id": "JyKTXmqqBZdU",
        "colab": {
          "base_uri": "https://localhost:8080/"
        },
        "outputId": "49cada68-e6e3-4104-b6dd-9bc718b9778f"
      },
      "execution_count": null,
      "outputs": [
        {
          "output_type": "stream",
          "name": "stdout",
          "text": [
            "Model: \"model_3_conv1d_char_embedding\"\n",
            "_________________________________________________________________\n",
            " Layer (type)                Output Shape              Param #   \n",
            "=================================================================\n",
            " input_7 (InputLayer)        [(None, 1)]               0         \n",
            "                                                                 \n",
            " character_vectorizer (TextV  (None, 290)              0         \n",
            " ectorization)                                                   \n",
            "                                                                 \n",
            " char_embedding (Embedding)  (None, 290, 25)           1700      \n",
            "                                                                 \n",
            " conv1d_2 (Conv1D)           (None, 290, 64)           8064      \n",
            "                                                                 \n",
            " global_average_pooling1d_3   (None, 64)               0         \n",
            " (GlobalAveragePooling1D)                                        \n",
            "                                                                 \n",
            " dense_6 (Dense)             (None, 5)                 325       \n",
            "                                                                 \n",
            "=================================================================\n",
            "Total params: 10,089\n",
            "Trainable params: 10,089\n",
            "Non-trainable params: 0\n",
            "_________________________________________________________________\n"
          ]
        }
      ]
    },
    {
      "cell_type": "code",
      "source": [
        "# Fit the model\n",
        "history_model_3 = model_3.fit(train_char_dataset,\n",
        "                              steps_per_epoch=int(0.1*len(train_char_dataset)),\n",
        "                              epochs=3,\n",
        "                              validation_data=valid_char_dataset,\n",
        "                              validation_steps=int(0.1*len(valid_char_dataset)))"
      ],
      "metadata": {
        "id": "F0KrB-zzBh3B",
        "colab": {
          "base_uri": "https://localhost:8080/"
        },
        "outputId": "47e0e1fe-e703-4dc1-d982-483fc50fae88"
      },
      "execution_count": null,
      "outputs": [
        {
          "output_type": "stream",
          "name": "stdout",
          "text": [
            "Epoch 1/3\n",
            "562/562 [==============================] - 18s 27ms/step - loss: 1.4579 - accuracy: 0.3481 - val_loss: 1.4035 - val_accuracy: 0.4013\n",
            "Epoch 2/3\n",
            "562/562 [==============================] - 13s 23ms/step - loss: 1.3735 - accuracy: 0.4148 - val_loss: 1.3458 - val_accuracy: 0.4318\n",
            "Epoch 3/3\n",
            "562/562 [==============================] - 12s 22ms/step - loss: 1.3359 - accuracy: 0.4443 - val_loss: 1.3179 - val_accuracy: 0.4468\n"
          ]
        }
      ]
    },
    {
      "cell_type": "code",
      "source": [
        "# Evaluate model on the whole validation set\n",
        "model_3.evaluate(valid_char_dataset)"
      ],
      "metadata": {
        "id": "__6RhcIzDYX1",
        "colab": {
          "base_uri": "https://localhost:8080/"
        },
        "outputId": "25315c69-e75e-49a3-f112-11859216b857"
      },
      "execution_count": null,
      "outputs": [
        {
          "output_type": "stream",
          "name": "stdout",
          "text": [
            "945/945 [==============================] - 8s 8ms/step - loss: 1.3176 - accuracy: 0.4471\n"
          ]
        },
        {
          "output_type": "execute_result",
          "data": {
            "text/plain": [
              "[1.3176419734954834, 0.4470739960670471]"
            ]
          },
          "metadata": {},
          "execution_count": 89
        }
      ]
    },
    {
      "cell_type": "code",
      "source": [
        "# Make predictions\n",
        "model_3_pred_probs = model_3.predict(valid_char_dataset)\n",
        "model_3_pred_probs"
      ],
      "metadata": {
        "id": "yVoMe7uVDeah",
        "colab": {
          "base_uri": "https://localhost:8080/"
        },
        "outputId": "638a9254-a68f-4620-ed11-10a1e6a735e6"
      },
      "execution_count": null,
      "outputs": [
        {
          "output_type": "execute_result",
          "data": {
            "text/plain": [
              "array([[0.1561801 , 0.22892797, 0.25545466, 0.1831109 , 0.17632635],\n",
              "       [0.11940873, 0.16995327, 0.16230051, 0.06490213, 0.4834353 ],\n",
              "       [0.09719288, 0.1554805 , 0.40759578, 0.10334687, 0.23638405],\n",
              "       ...,\n",
              "       [0.07279513, 0.11980815, 0.24176836, 0.04084985, 0.52477854],\n",
              "       [0.05697533, 0.11470538, 0.22406028, 0.04191176, 0.56234723],\n",
              "       [0.14301361, 0.17730325, 0.19088282, 0.07300299, 0.41579732]],\n",
              "      dtype=float32)"
            ]
          },
          "metadata": {},
          "execution_count": 90
        }
      ]
    },
    {
      "cell_type": "code",
      "source": [
        "# Get the predicted class based on prediction probability\n",
        "model_3_preds = tf.argmax(model_3_pred_probs, axis=1)\n",
        "model_3_preds"
      ],
      "metadata": {
        "id": "o6tZg4yxDijY",
        "colab": {
          "base_uri": "https://localhost:8080/"
        },
        "outputId": "c381edf5-d0b8-47ad-c6e9-efdd2daee453"
      },
      "execution_count": null,
      "outputs": [
        {
          "output_type": "execute_result",
          "data": {
            "text/plain": [
              "<tf.Tensor: shape=(30212,), dtype=int64, numpy=array([2, 4, 2, ..., 4, 4, 4])>"
            ]
          },
          "metadata": {},
          "execution_count": 91
        }
      ]
    },
    {
      "cell_type": "code",
      "source": [
        "# Model evaluation metrics\n",
        "model_3_evaluation = evaluate_prediction(val_labels_encoded,\n",
        "                                         model_3_preds)\n",
        "model_3_evaluation"
      ],
      "metadata": {
        "id": "_ICt6B7DDqr3",
        "colab": {
          "base_uri": "https://localhost:8080/"
        },
        "outputId": "44513d6f-34be-4c9a-905d-1af65d6432ad"
      },
      "execution_count": null,
      "outputs": [
        {
          "output_type": "stream",
          "name": "stderr",
          "text": [
            "/usr/local/lib/python3.7/dist-packages/sklearn/metrics/_classification.py:1318: UndefinedMetricWarning: Precision and F-score are ill-defined and being set to 0.0 in labels with no predicted samples. Use `zero_division` parameter to control this behavior.\n",
            "  _warn_prf(average, modifier, msg_start, len(result))\n"
          ]
        },
        {
          "output_type": "execute_result",
          "data": {
            "text/plain": [
              "{'accuracy': 44.707401032702236,\n",
              " 'f1': 0.39206037210943295,\n",
              " 'precision': 0.37764643698646383,\n",
              " 'recall': 0.4470740103270224}"
            ]
          },
          "metadata": {},
          "execution_count": 92
        }
      ]
    },
    {
      "cell_type": "markdown",
      "source": [
        "## **Model 4 : Hybrid Embedding Layer**\n",
        "\n",
        "Hybrid Embedding Layer is a combination of pretrained token embeddings and character embeddings. This model requires 2 inputs: token_level sequences and character-level sequences. \n",
        "\n",
        "**Modeling Setup:**\n",
        "1. Create a token-level model\n",
        "2. Create a character-level model\n",
        "3. Combine the output of (1) and (2) using Concatenate\n",
        "4. Construct a model which takes token and character-level sequences as input and produce sequence label probabilities as output\n",
        "5. Train on 10% of training batches, and validate on 10% of validation batches"
      ],
      "metadata": {
        "id": "cf2ABstzgcVl"
      }
    },
    {
      "cell_type": "markdown",
      "source": [
        "### **Batching and Prefetching**"
      ],
      "metadata": {
        "id": "p4ie6hzHGsKZ"
      }
    },
    {
      "cell_type": "code",
      "source": [
        "# Combine tokens and chars into a dataset\n",
        "train_token_char_data = tf.data.Dataset.from_tensor_slices((train_sentences, train_chars))\n",
        "train_token_char_labels = tf.data.Dataset.from_tensor_slices(train_labels_onehot_encoded)\n",
        "train_token_char_dataset = tf.data.Dataset.zip((train_token_char_data, train_token_char_labels))\n",
        "\n",
        "val_token_char_data = tf.data.Dataset.from_tensor_slices((val_sentences, val_chars))\n",
        "val_token_char_labels = tf.data.Dataset.from_tensor_slices(val_labels_onehot_encoded)\n",
        "valid_token_char_dataset = tf.data.Dataset.zip((val_token_char_data, val_token_char_labels))\n",
        "\n",
        "# Prefetch and batch\n",
        "train_token_char_dataset = train_token_char_dataset.batch(32).prefetch(tf.data.AUTOTUNE)\n",
        "valid_token_char_dataset = valid_token_char_dataset.batch(32).prefetch(tf.data.AUTOTUNE)"
      ],
      "metadata": {
        "id": "HKujZcstGwgR"
      },
      "execution_count": null,
      "outputs": []
    },
    {
      "cell_type": "code",
      "source": [
        "# Check out token and char embedding dataset\n",
        "train_token_char_dataset, valid_token_char_dataset"
      ],
      "metadata": {
        "id": "wVuzbmq1IehE",
        "colab": {
          "base_uri": "https://localhost:8080/"
        },
        "outputId": "be36d103-7561-4cf2-e108-8bca6c9a1b38"
      },
      "execution_count": null,
      "outputs": [
        {
          "output_type": "execute_result",
          "data": {
            "text/plain": [
              "(<PrefetchDataset element_spec=((TensorSpec(shape=(None,), dtype=tf.string, name=None), TensorSpec(shape=(None,), dtype=tf.string, name=None)), TensorSpec(shape=(None, 5), dtype=tf.float64, name=None))>,\n",
              " <PrefetchDataset element_spec=((TensorSpec(shape=(None,), dtype=tf.string, name=None), TensorSpec(shape=(None,), dtype=tf.string, name=None)), TensorSpec(shape=(None, 5), dtype=tf.float64, name=None))>)"
            ]
          },
          "metadata": {},
          "execution_count": 96
        }
      ]
    },
    {
      "cell_type": "markdown",
      "source": [
        "### **Modeling**"
      ],
      "metadata": {
        "id": "Om0i9qsTIWGp"
      }
    },
    {
      "cell_type": "code",
      "source": [
        "# Setup token inputs\n",
        "token_inputs = layers.Input(shape=[], dtype=tf.string, name=\"token_input\")\n",
        "token_embeddings = tf_hub_embedding_layer(token_inputs)\n",
        "token_outputs = layers.Dense(128, activation=\"relu\")(token_embeddings)\n",
        "token_model = tf.keras.Model(token_inputs, token_outputs)\n",
        "\n",
        "# Setup char inputs\n",
        "char_inputs = layers.Input(shape=(1,), dtype=tf.string, name=\"char_input\")\n",
        "char_vectors = char_vectorizer(char_inputs)\n",
        "char_embeddings = char_embedding(char_vectors)\n",
        "char_bi_lstm = layers.Bidirectional(layers.LSTM(25))(char_embeddings)\n",
        "char_model = tf.keras.Model(inputs=char_inputs, outputs=char_bi_lstm)\n",
        "\n",
        "# Create hybrid token embedding (Concatenate token and char inputs)\n",
        "token_char_concat = layers.Concatenate(name=\"token_char_hybrid\")([token_model.output, char_model.output])\n",
        "\n",
        "# Create output layer\n",
        "combined_dropout = layers.Dropout(0.5)(token_char_concat)\n",
        "combined_dense = layers.Dense(200, activation=\"relu\")(combined_dropout)\n",
        "combined_dropout_2 = layers.Dropout(0.5)(combined_dense)\n",
        "output_layer = layers.Dense(num_class, activation=\"softmax\")(combined_dropout_2)\n",
        "\n",
        "# Construct a model\n",
        "model_4 = tf.keras.Model(inputs=[token_model.input, char_model.input],\n",
        "                         outputs=output_layer,\n",
        "                         name=\"model_4_hybrid_embeddings\")"
      ],
      "metadata": {
        "id": "quVEK-3_GcAn"
      },
      "execution_count": null,
      "outputs": []
    },
    {
      "cell_type": "code",
      "source": [
        "# Model summary\n",
        "model_4.summary()"
      ],
      "metadata": {
        "id": "gBAHnk1uE48t",
        "colab": {
          "base_uri": "https://localhost:8080/"
        },
        "outputId": "fdda012b-7a96-42d9-e7a0-1fe55dba653e"
      },
      "execution_count": null,
      "outputs": [
        {
          "output_type": "stream",
          "name": "stdout",
          "text": [
            "Model: \"model_4_hybrid_embeddings\"\n",
            "__________________________________________________________________________________________________\n",
            " Layer (type)                   Output Shape         Param #     Connected to                     \n",
            "==================================================================================================\n",
            " char_input (InputLayer)        [(None, 1)]          0           []                               \n",
            "                                                                                                  \n",
            " token_input (InputLayer)       [(None,)]            0           []                               \n",
            "                                                                                                  \n",
            " character_vectorizer (TextVect  (None, 290)         0           ['char_input[0][0]']             \n",
            " orization)                                                                                       \n",
            "                                                                                                  \n",
            " universal_sentence_encoder (Ke  (None, 512)         256797824   ['token_input[0][0]']            \n",
            " rasLayer)                                                                                        \n",
            "                                                                                                  \n",
            " char_embedding (Embedding)     (None, 290, 25)      1700        ['character_vectorizer[2][0]']   \n",
            "                                                                                                  \n",
            " dense_7 (Dense)                (None, 128)          65664       ['universal_sentence_encoder[3][0\n",
            "                                                                 ]']                              \n",
            "                                                                                                  \n",
            " bidirectional (Bidirectional)  (None, 50)           10200       ['char_embedding[1][0]']         \n",
            "                                                                                                  \n",
            " token_char_hybrid (Concatenate  (None, 178)         0           ['dense_7[0][0]',                \n",
            " )                                                                'bidirectional[0][0]']          \n",
            "                                                                                                  \n",
            " dropout (Dropout)              (None, 178)          0           ['token_char_hybrid[0][0]']      \n",
            "                                                                                                  \n",
            " dense_8 (Dense)                (None, 200)          35800       ['dropout[0][0]']                \n",
            "                                                                                                  \n",
            " dropout_1 (Dropout)            (None, 200)          0           ['dense_8[0][0]']                \n",
            "                                                                                                  \n",
            " dense_9 (Dense)                (None, 5)            1005        ['dropout_1[0][0]']              \n",
            "                                                                                                  \n",
            "==================================================================================================\n",
            "Total params: 256,912,193\n",
            "Trainable params: 114,369\n",
            "Non-trainable params: 256,797,824\n",
            "__________________________________________________________________________________________________\n"
          ]
        }
      ]
    },
    {
      "cell_type": "code",
      "source": [
        "# Plot the architecture of the model\n",
        "from tensorflow.keras.utils import plot_model\n",
        "plot_model(model_4)"
      ],
      "metadata": {
        "id": "R_WbsCPJE-G5",
        "colab": {
          "base_uri": "https://localhost:8080/",
          "height": 856
        },
        "outputId": "90955f36-029b-450c-86dc-b637517a4a4e"
      },
      "execution_count": null,
      "outputs": [
        {
          "output_type": "execute_result",
          "data": {
            "text/plain": [
              "<IPython.core.display.Image object>"
            ],
            "image/png": "[encoded data removed]"
          },
          "metadata": {},
          "execution_count": 99
        }
      ]
    },
    {
      "cell_type": "code",
      "source": [
        "# Compile the model\n",
        "model_4.compile(loss=\"categorical_crossentropy\",\n",
        "                optimizer=tf.keras.optimizers.Adam(),\n",
        "                metrics=[\"accuracy\"])"
      ],
      "metadata": {
        "id": "EkaeokUaFX22"
      },
      "execution_count": null,
      "outputs": []
    },
    {
      "cell_type": "code",
      "source": [
        "# Fit the model\n",
        "history_model_4 = model_4.fit(train_token_char_dataset,\n",
        "                              steps_per_epoch=int(0.1*len(train_token_char_dataset)),\n",
        "                              epochs=3,\n",
        "                              validation_data=valid_token_char_dataset,\n",
        "                              validation_steps=int(0.1*len(valid_token_char_dataset)))"
      ],
      "metadata": {
        "id": "j3oGuyGVI1Pj",
        "colab": {
          "base_uri": "https://localhost:8080/"
        },
        "outputId": "b2729299-7b6f-45b9-f079-b7cce735120f"
      },
      "execution_count": null,
      "outputs": [
        {
          "output_type": "stream",
          "name": "stdout",
          "text": [
            "Epoch 1/3\n",
            "562/562 [==============================] - 133s 229ms/step - loss: 0.9710 - accuracy: 0.6137 - val_loss: 0.7809 - val_accuracy: 0.7015\n",
            "Epoch 2/3\n",
            "562/562 [==============================] - 125s 223ms/step - loss: 0.7997 - accuracy: 0.6863 - val_loss: 0.7150 - val_accuracy: 0.7247\n",
            "Epoch 3/3\n",
            "562/562 [==============================] - 117s 209ms/step - loss: 0.7713 - accuracy: 0.7055 - val_loss: 0.6978 - val_accuracy: 0.7357\n"
          ]
        }
      ]
    },
    {
      "cell_type": "code",
      "source": [
        "# Evaluate model on the whole validation set\n",
        "model_4.evaluate(valid_token_char_dataset)"
      ],
      "metadata": {
        "id": "H-eYIQ18JUbb",
        "colab": {
          "base_uri": "https://localhost:8080/"
        },
        "outputId": "48e63068-2bbb-4854-8652-2a3dc9c60b76"
      },
      "execution_count": null,
      "outputs": [
        {
          "output_type": "stream",
          "name": "stdout",
          "text": [
            "945/945 [==============================] - 44s 47ms/step - loss: 0.7021 - accuracy: 0.7321\n"
          ]
        },
        {
          "output_type": "execute_result",
          "data": {
            "text/plain": [
              "[0.7021132707595825, 0.7320601344108582]"
            ]
          },
          "metadata": {},
          "execution_count": 103
        }
      ]
    },
    {
      "cell_type": "code",
      "source": [
        "# Make predictions\n",
        "model_4_pred_probs = model_4.predict(valid_token_char_dataset)\n",
        "model_4_pred_probs"
      ],
      "metadata": {
        "id": "bjlM6u0GJZ4C",
        "colab": {
          "base_uri": "https://localhost:8080/"
        },
        "outputId": "1d6675df-21be-4040-efcc-b38edf3f6795"
      },
      "execution_count": null,
      "outputs": [
        {
          "output_type": "execute_result",
          "data": {
            "text/plain": [
              "array([[3.91268075e-01, 4.00271833e-01, 3.58367898e-03, 1.98549077e-01,\n",
              "        6.32732781e-03],\n",
              "       [2.86866277e-01, 3.73185605e-01, 2.88799591e-03, 3.35832834e-01,\n",
              "        1.22733437e-03],\n",
              "       [3.24289978e-01, 8.05180892e-02, 3.38052623e-02, 5.43156564e-01,\n",
              "        1.82300154e-02],\n",
              "       ...,\n",
              "       [7.10254128e-04, 1.17254937e-02, 4.63953875e-02, 3.49421491e-04,\n",
              "        9.40819502e-01],\n",
              "       [9.09419451e-03, 6.64123818e-02, 1.84975877e-01, 4.78830654e-03,\n",
              "        7.34729230e-01],\n",
              "       [2.54524976e-01, 5.40807605e-01, 1.59121111e-01, 1.41559085e-02,\n",
              "        3.13904919e-02]], dtype=float32)"
            ]
          },
          "metadata": {},
          "execution_count": 104
        }
      ]
    },
    {
      "cell_type": "code",
      "source": [
        "# Get the predicted class based on prediction probability\n",
        "model_4_preds = tf.argmax(model_4_pred_probs, axis=1)\n",
        "model_4_preds"
      ],
      "metadata": {
        "id": "VeK52p-wJb1u",
        "colab": {
          "base_uri": "https://localhost:8080/"
        },
        "outputId": "bbdfcc7f-df48-4db6-adb9-ef4c33ec50eb"
      },
      "execution_count": null,
      "outputs": [
        {
          "output_type": "execute_result",
          "data": {
            "text/plain": [
              "<tf.Tensor: shape=(30212,), dtype=int64, numpy=array([1, 1, 3, ..., 4, 4, 1])>"
            ]
          },
          "metadata": {},
          "execution_count": 105
        }
      ]
    },
    {
      "cell_type": "code",
      "source": [
        "# Model evaluation metrics\n",
        "model_4_evaluation = evaluate_prediction(val_labels_encoded,\n",
        "                                         model_4_preds)\n",
        "model_4_evaluation"
      ],
      "metadata": {
        "id": "Awa3hJAUJfw1",
        "colab": {
          "base_uri": "https://localhost:8080/"
        },
        "outputId": "a20272b9-0c1e-4c94-eb48-6ad55c52bc37"
      },
      "execution_count": null,
      "outputs": [
        {
          "output_type": "execute_result",
          "data": {
            "text/plain": [
              "{'accuracy': 73.20601085661326,\n",
              " 'f1': 0.7300565837052242,\n",
              " 'precision': 0.7353628680960914,\n",
              " 'recall': 0.7320601085661327}"
            ]
          },
          "metadata": {},
          "execution_count": 106
        }
      ]
    },
    {
      "cell_type": "markdown",
      "source": [
        "## **Model 5 : Tribrid Embedding Layer**\n",
        "\n",
        "Combining transfer learning with pretrained token embeddings, character embeddings, and positional embeddings.\n",
        "\n",
        "Since abstracts typically have a sequential order (objective - methods - results - conclusion), it makes sense to add the line number of where a particular sentence occurs to a model.\n",
        "\n",
        "**Modeling Setup:**\n",
        "1. Create a token-level model\n",
        "2. Create a character-level model\n",
        "3. Create a \"line_number\" model (takes in one-hot-encoded \"line_number\" tensor and passes it through a non-linear layer)\n",
        "4. Create a \"total_lines\" model (takes in one-hot-encoded \"total_lines\" tensor and passes it through a non-linear layer)\n",
        "5. Combine (using layers.Concatenate) the outputs of 1 and 2 into a token-character-hybrid embedding and pass it series of output to Figure 1 and section 4.2 of Neural Networks for Joint Sentence Classification in Medical Paper Abstracts\n",
        "6. Combine (using layers.Concatenate) the outputs of 3, 4 and 5 into a token-character-positional tribrid embedding\n",
        "7. Create an output layer to accept the tribrid embedding and output predicted label probabilities\n",
        "8. Combine the inputs of 1, 2, 3, 4 and outputs of 7 into a tf.keras.Model"
      ],
      "metadata": {
        "id": "h7iz4vregxiR"
      }
    },
    {
      "cell_type": "markdown",
      "source": [
        "### **Creating Positional Embeddings**"
      ],
      "metadata": {
        "id": "7oajx8fIYv5Q"
      }
    },
    {
      "cell_type": "code",
      "source": [
        "# Count line_number of training set\n",
        "train[\"line_number\"].value_counts()"
      ],
      "metadata": {
        "id": "dBlnT7E2Y1-I",
        "colab": {
          "base_uri": "https://localhost:8080/"
        },
        "outputId": "b4de21b3-3ded-49d5-d259-90afe2b71315"
      },
      "execution_count": null,
      "outputs": [
        {
          "output_type": "execute_result",
          "data": {
            "text/plain": [
              "0     15000\n",
              "1     15000\n",
              "2     15000\n",
              "3     15000\n",
              "4     14992\n",
              "5     14949\n",
              "6     14758\n",
              "7     14279\n",
              "8     13346\n",
              "9     11981\n",
              "10    10041\n",
              "11     7892\n",
              "12     5853\n",
              "13     4152\n",
              "14     2835\n",
              "15     1861\n",
              "16     1188\n",
              "17      751\n",
              "18      462\n",
              "19      286\n",
              "20      162\n",
              "21      101\n",
              "22       66\n",
              "23       33\n",
              "24       22\n",
              "25       14\n",
              "26        7\n",
              "27        4\n",
              "28        3\n",
              "29        1\n",
              "30        1\n",
              "Name: line_number, dtype: int64"
            ]
          },
          "metadata": {},
          "execution_count": 107
        }
      ]
    },
    {
      "cell_type": "code",
      "source": [
        "# Check the distribution of line_number\n",
        "train[\"line_number\"].plot.hist()"
      ],
      "metadata": {
        "id": "irksYnxXY2e0",
        "colab": {
          "base_uri": "https://localhost:8080/",
          "height": 282
        },
        "outputId": "c32377ee-e9ad-4672-8bda-d5e4da8d451e"
      },
      "execution_count": null,
      "outputs": [
        {
          "output_type": "execute_result",
          "data": {
            "text/plain": [
              "<matplotlib.axes._subplots.AxesSubplot at 0x7fdfe4e6fc50>"
            ]
          },
          "metadata": {},
          "execution_count": 108
        },
        {
          "output_type": "display_data",
          "data": {
            "text/plain": [
              "<Figure size 432x288 with 1 Axes>"
            ],
            "image/png": "[encoded data removed]"
          },
          "metadata": {
            "needs_background": "light"
          }
        }
      ]
    },
    {
      "cell_type": "markdown",
      "source": [
        "The majority of lines have a position of 15 or less. Then set the depth parameter of tf.one_hot to 15. Any sample with a line_number value "
      ],
      "metadata": {
        "id": "VQRwIl5yaXYs"
      }
    },
    {
      "cell_type": "code",
      "source": [
        "# One-hot encode line_number column\n",
        "train_line_number_onehot_encoded = tf.one_hot(train[\"line_number\"].to_numpy(), depth=15)\n",
        "val_line_number_onehot_encoded = tf.one_hot(val[\"line_number\"].to_numpy(), depth=15)\n",
        "test_line_number_onehot_encoded = tf.one_hot(test[\"line_number\"].to_numpy(), depth=15)"
      ],
      "metadata": {
        "id": "mu8uF6o0a2f6"
      },
      "execution_count": null,
      "outputs": []
    },
    {
      "cell_type": "code",
      "source": [
        "# Check one hot encoding\n",
        "train_line_number_onehot_encoded.shape, train_line_number_onehot_encoded[:5]"
      ],
      "metadata": {
        "id": "p6Oq5_z1ckUm",
        "colab": {
          "base_uri": "https://localhost:8080/"
        },
        "outputId": "89c17eda-e23a-4ddd-d640-809b25ac99d9"
      },
      "execution_count": null,
      "outputs": [
        {
          "output_type": "execute_result",
          "data": {
            "text/plain": [
              "(TensorShape([180040, 15]), <tf.Tensor: shape=(5, 15), dtype=float32, numpy=\n",
              " array([[1., 0., 0., 0., 0., 0., 0., 0., 0., 0., 0., 0., 0., 0., 0.],\n",
              "        [0., 1., 0., 0., 0., 0., 0., 0., 0., 0., 0., 0., 0., 0., 0.],\n",
              "        [0., 0., 1., 0., 0., 0., 0., 0., 0., 0., 0., 0., 0., 0., 0.],\n",
              "        [0., 0., 0., 1., 0., 0., 0., 0., 0., 0., 0., 0., 0., 0., 0.],\n",
              "        [0., 0., 0., 0., 1., 0., 0., 0., 0., 0., 0., 0., 0., 0., 0.]],\n",
              "       dtype=float32)>)"
            ]
          },
          "metadata": {},
          "execution_count": 110
        }
      ]
    },
    {
      "cell_type": "code",
      "source": [
        "# Count total_lines of training set\n",
        "train[\"total_lines\"].value_counts()"
      ],
      "metadata": {
        "id": "GRDyrbnGcz0J",
        "colab": {
          "base_uri": "https://localhost:8080/"
        },
        "outputId": "2ff1e724-d482-46f4-b2d8-3642c5c47dbe"
      },
      "execution_count": null,
      "outputs": [
        {
          "output_type": "execute_result",
          "data": {
            "text/plain": [
              "12    24468\n",
              "11    23639\n",
              "13    22113\n",
              "10    19400\n",
              "14    18438\n",
              "15    14610\n",
              "9     12285\n",
              "16    10768\n",
              "8      7464\n",
              "17     7429\n",
              "18     5202\n",
              "7      3353\n",
              "19     3344\n",
              "20     2480\n",
              "21     1281\n",
              "6      1146\n",
              "22      770\n",
              "23      759\n",
              "24      264\n",
              "5       215\n",
              "25      200\n",
              "26      182\n",
              "27       81\n",
              "29       58\n",
              "4        32\n",
              "31       31\n",
              "28       28\n",
              "Name: total_lines, dtype: int64"
            ]
          },
          "metadata": {},
          "execution_count": 111
        }
      ]
    },
    {
      "cell_type": "code",
      "source": [
        "# Check the distribution of total_lines\n",
        "train[\"total_lines\"].plot.hist()"
      ],
      "metadata": {
        "id": "T7uSNTd4c-mr",
        "colab": {
          "base_uri": "https://localhost:8080/",
          "height": 284
        },
        "outputId": "f8ef5c61-250d-4740-d243-f52305eaeced"
      },
      "execution_count": null,
      "outputs": [
        {
          "output_type": "execute_result",
          "data": {
            "text/plain": [
              "<matplotlib.axes._subplots.AxesSubplot at 0x7fdfe4ddc0d0>"
            ]
          },
          "metadata": {},
          "execution_count": 112
        },
        {
          "output_type": "display_data",
          "data": {
            "text/plain": [
              "<Figure size 432x288 with 1 Axes>"
            ],
            "image/png": "[encoded data removed]"
          },
          "metadata": {
            "needs_background": "light"
          }
        }
      ]
    },
    {
      "cell_type": "markdown",
      "source": [
        "Total lines 20 covers the majority of samples, so set the depth parameter of tf.one_hot to 20."
      ],
      "metadata": {
        "id": "RJ5VzXRshW8s"
      }
    },
    {
      "cell_type": "code",
      "source": [
        "# One-hot encode total_lines column\n",
        "train_total_lines_onehot_encoded = tf.one_hot(train[\"total_lines\"].to_numpy(), depth=20)\n",
        "val_total_lines_onehot_encoded = tf.one_hot(val[\"total_lines\"].to_numpy(), depth=20)\n",
        "test_total_lines_onehot_encoded = tf.one_hot(test[\"total_lines\"].to_numpy(), depth=20)"
      ],
      "metadata": {
        "id": "0q_wnBsGh9Dx"
      },
      "execution_count": null,
      "outputs": []
    },
    {
      "cell_type": "markdown",
      "source": [
        "### **Batching and Prefetching**"
      ],
      "metadata": {
        "id": "GFxcVlGro0fK"
      }
    },
    {
      "cell_type": "code",
      "source": [
        "# Combine tokens and chars into a dataset\n",
        "train_pos_token_char_data = tf.data.Dataset.from_tensor_slices((train_line_number_onehot_encoded,\n",
        "                                                                train_total_lines_onehot_encoded,\n",
        "                                                                train_sentences, \n",
        "                                                                train_chars))\n",
        "train_pos_token_char_labels = tf.data.Dataset.from_tensor_slices(train_labels_onehot_encoded)\n",
        "train_pos_token_char_dataset = tf.data.Dataset.zip((train_pos_token_char_data, train_pos_token_char_labels))\n",
        "\n",
        "val_pos_token_char_data = tf.data.Dataset.from_tensor_slices((val_line_number_onehot_encoded,\n",
        "                                                          val_total_lines_onehot_encoded,\n",
        "                                                          val_sentences, \n",
        "                                                          val_chars))\n",
        "val_pos_token_char_labels = tf.data.Dataset.from_tensor_slices(val_labels_onehot_encoded)\n",
        "valid_pos_token_char_dataset = tf.data.Dataset.zip((val_pos_token_char_data, val_pos_token_char_labels))\n",
        "\n",
        "# Prefetch and batch\n",
        "train_pos_token_char_dataset = train_pos_token_char_dataset.batch(32).prefetch(tf.data.AUTOTUNE)\n",
        "valid_pos_token_char_dataset = valid_pos_token_char_dataset.batch(32).prefetch(tf.data.AUTOTUNE)"
      ],
      "metadata": {
        "id": "ACK4w9bmo_He"
      },
      "execution_count": null,
      "outputs": []
    },
    {
      "cell_type": "code",
      "source": [
        "# Check out pos_token_char embedding dataset\n",
        "train_pos_token_char_dataset, valid_pos_token_char_dataset"
      ],
      "metadata": {
        "id": "_tAu_ikjp70o",
        "colab": {
          "base_uri": "https://localhost:8080/"
        },
        "outputId": "5fcfd57e-51e6-4f14-f0e7-7170d5568b7a"
      },
      "execution_count": null,
      "outputs": [
        {
          "output_type": "execute_result",
          "data": {
            "text/plain": [
              "(<PrefetchDataset element_spec=((TensorSpec(shape=(None, 15), dtype=tf.float32, name=None), TensorSpec(shape=(None, 20), dtype=tf.float32, name=None), TensorSpec(shape=(None,), dtype=tf.string, name=None), TensorSpec(shape=(None,), dtype=tf.string, name=None)), TensorSpec(shape=(None, 5), dtype=tf.float64, name=None))>,\n",
              " <PrefetchDataset element_spec=((TensorSpec(shape=(None, 15), dtype=tf.float32, name=None), TensorSpec(shape=(None, 20), dtype=tf.float32, name=None), TensorSpec(shape=(None,), dtype=tf.string, name=None), TensorSpec(shape=(None,), dtype=tf.string, name=None)), TensorSpec(shape=(None, 5), dtype=tf.float64, name=None))>)"
            ]
          },
          "metadata": {},
          "execution_count": 118
        }
      ]
    },
    {
      "cell_type": "markdown",
      "source": [
        "### **Modeling**"
      ],
      "metadata": {
        "id": "k9ECfdHziah4"
      }
    },
    {
      "cell_type": "code",
      "source": [
        "# Setup token inputs\n",
        "token_inputs = layers.Input(shape=[], dtype=tf.string, name=\"token_input\")\n",
        "token_embeddings = tf_hub_embedding_layer(token_inputs)\n",
        "token_outputs = layers.Dense(128, activation=\"relu\")(token_embeddings)\n",
        "token_model = tf.keras.Model(token_inputs, token_outputs)\n",
        "\n",
        "# Setup char inputs\n",
        "char_inputs = layers.Input(shape=(1,), dtype=tf.string, name=\"char_input\")\n",
        "char_vectors = char_vectorizer(char_inputs)\n",
        "char_embeddings = char_embedding(char_vectors)\n",
        "char_bi_lstm = layers.Bidirectional(layers.LSTM(32))(char_embeddings)\n",
        "char_model = tf.keras.Model(inputs=char_inputs, outputs=char_bi_lstm)\n",
        "\n",
        "# Setup line_number inputs\n",
        "line_number_inputs = layers.Input(shape=(15,), dtype=tf.int32, name=\"line_number_input\")\n",
        "x = layers.Dense(32, activation=\"relu\")(line_number_inputs)\n",
        "line_number_model = tf.keras.Model(inputs=line_number_inputs, outputs=x)\n",
        "\n",
        "# Setup total_lines inputs\n",
        "total_lines_inputs = layers.Input(shape=(20,), dtype=tf.int32, name=\"total_lines_input\")\n",
        "y = layers.Dense(32, activation=\"relu\")(total_lines_inputs)\n",
        "total_lines_model = tf.keras.Model(inputs=total_lines_inputs, outputs=y)\n",
        "\n",
        "# Create hybrid token embedding (Concatenate token and char inputs)\n",
        "token_char_concat = layers.Concatenate(name=\"token_char_hybrid\")([token_model.output, char_model.output])\n",
        "z = layers.Dense(256, activation=\"relu\")(token_char_concat)\n",
        "z = layers.Dropout(0.5)(z)\n",
        "\n",
        "# Combine hybrid token embeddings with positional embeddings (Tribrid embeddings)\n",
        "token_char_pos_concat = layers.Concatenate(name=\"token_char_pos_tribrid\")([line_number_model.output, \n",
        "                                                                           total_lines_model.output,\n",
        "                                                                           z])\n",
        "\n",
        "# Create output layer\n",
        "output_layer = layers.Dense(num_class, activation=\"softmax\")(token_char_pos_concat)\n",
        "\n",
        "# Construct a model\n",
        "model_5 = tf.keras.Model(inputs=[line_number_model.input,\n",
        "                                 total_lines_model.input, \n",
        "                                 token_model.input,\n",
        "                                 char_model.input],\n",
        "                         outputs=output_layer,\n",
        "                         name=\"model_5_tribrid_embeddings\")"
      ],
      "metadata": {
        "id": "2hWeZ9FoicYZ"
      },
      "execution_count": null,
      "outputs": []
    },
    {
      "cell_type": "code",
      "source": [
        "# Model summary\n",
        "model_5.summary()"
      ],
      "metadata": {
        "id": "0y6FonBEoIcH",
        "colab": {
          "base_uri": "https://localhost:8080/"
        },
        "outputId": "1f152f73-8928-452e-8233-3452e5b1877f"
      },
      "execution_count": null,
      "outputs": [
        {
          "output_type": "stream",
          "name": "stdout",
          "text": [
            "Model: \"model_5_tribrid_embeddings\"\n",
            "__________________________________________________________________________________________________\n",
            " Layer (type)                   Output Shape         Param #     Connected to                     \n",
            "==================================================================================================\n",
            " char_input (InputLayer)        [(None, 1)]          0           []                               \n",
            "                                                                                                  \n",
            " token_input (InputLayer)       [(None,)]            0           []                               \n",
            "                                                                                                  \n",
            " character_vectorizer (TextVect  (None, 290)         0           ['char_input[0][0]']             \n",
            " orization)                                                                                       \n",
            "                                                                                                  \n",
            " universal_sentence_encoder (Ke  (None, 512)         256797824   ['token_input[0][0]']            \n",
            " rasLayer)                                                                                        \n",
            "                                                                                                  \n",
            " char_embedding (Embedding)     (None, 290, 25)      1700        ['character_vectorizer[4][0]']   \n",
            "                                                                                                  \n",
            " dense_15 (Dense)               (None, 128)          65664       ['universal_sentence_encoder[5][0\n",
            "                                                                 ]']                              \n",
            "                                                                                                  \n",
            " bidirectional_2 (Bidirectional  (None, 64)          14848       ['char_embedding[3][0]']         \n",
            " )                                                                                                \n",
            "                                                                                                  \n",
            " token_char_hybrid (Concatenate  (None, 192)         0           ['dense_15[0][0]',               \n",
            " )                                                                'bidirectional_2[0][0]']        \n",
            "                                                                                                  \n",
            " line_number_input (InputLayer)  [(None, 15)]        0           []                               \n",
            "                                                                                                  \n",
            " total_lines_input (InputLayer)  [(None, 20)]        0           []                               \n",
            "                                                                                                  \n",
            " dense_18 (Dense)               (None, 256)          49408       ['token_char_hybrid[0][0]']      \n",
            "                                                                                                  \n",
            " dense_16 (Dense)               (None, 32)           512         ['line_number_input[0][0]']      \n",
            "                                                                                                  \n",
            " dense_17 (Dense)               (None, 32)           672         ['total_lines_input[0][0]']      \n",
            "                                                                                                  \n",
            " dropout_3 (Dropout)            (None, 256)          0           ['dense_18[0][0]']               \n",
            "                                                                                                  \n",
            " token_char_pos_tribrid (Concat  (None, 320)         0           ['dense_16[0][0]',               \n",
            " enate)                                                           'dense_17[0][0]',               \n",
            "                                                                  'dropout_3[0][0]']              \n",
            "                                                                                                  \n",
            " dense_19 (Dense)               (None, 5)            1605        ['token_char_pos_tribrid[0][0]'] \n",
            "                                                                                                  \n",
            "==================================================================================================\n",
            "Total params: 256,932,233\n",
            "Trainable params: 134,409\n",
            "Non-trainable params: 256,797,824\n",
            "__________________________________________________________________________________________________\n"
          ]
        }
      ]
    },
    {
      "cell_type": "code",
      "source": [
        "# Plot model architecture\n",
        "from tensorflow.keras.utils import plot_model\n",
        "plot_model(model_5)"
      ],
      "metadata": {
        "id": "BQccph3KoMso",
        "colab": {
          "base_uri": "https://localhost:8080/",
          "height": 795
        },
        "outputId": "6010a204-2769-4968-cf46-843c55b8ffd5"
      },
      "execution_count": null,
      "outputs": [
        {
          "output_type": "execute_result",
          "data": {
            "text/plain": [
              "<IPython.core.display.Image object>"
            ],
            "image/png": "[encoded data removed]"
          },
          "metadata": {},
          "execution_count": 131
        }
      ]
    },
    {
      "cell_type": "code",
      "source": [
        "# Check the trainable layers\n",
        "for layer in model_5.layers:\n",
        "  print(layer, layer.trainable)"
      ],
      "metadata": {
        "id": "1__j8sF8on0C",
        "colab": {
          "base_uri": "https://localhost:8080/"
        },
        "outputId": "22c05873-517e-4b2c-a249-70819c43b773"
      },
      "execution_count": null,
      "outputs": [
        {
          "output_type": "stream",
          "name": "stdout",
          "text": [
            "<keras.engine.input_layer.InputLayer object at 0x7fdfe2f5fe90> True\n",
            "<keras.engine.input_layer.InputLayer object at 0x7fdfe30a4e10> True\n",
            "<keras.layers.preprocessing.text_vectorization.TextVectorization object at 0x7fdfe645abd0> True\n",
            "<tensorflow_hub.keras_layer.KerasLayer object at 0x7fdfedc02310> False\n",
            "<keras.layers.embeddings.Embedding object at 0x7fdfe645a410> True\n",
            "<keras.layers.core.dense.Dense object at 0x7fdfe30a4b10> True\n",
            "<keras.layers.wrappers.Bidirectional object at 0x7fdfe2f66c90> True\n",
            "<keras.layers.merge.Concatenate object at 0x7fdfe2e33750> True\n",
            "<keras.engine.input_layer.InputLayer object at 0x7fdfe2fb2550> True\n",
            "<keras.engine.input_layer.InputLayer object at 0x7fdfe2e609d0> True\n",
            "<keras.layers.core.dense.Dense object at 0x7fdfe2e36f50> True\n",
            "<keras.layers.core.dense.Dense object at 0x7fdfe2fc7dd0> True\n",
            "<keras.layers.core.dense.Dense object at 0x7fdfe2e36ad0> True\n",
            "<keras.layers.core.dropout.Dropout object at 0x7fdfe2e3bb50> True\n",
            "<keras.layers.merge.Concatenate object at 0x7fdfe2e48b90> True\n",
            "<keras.layers.core.dense.Dense object at 0x7fdfe2dd0710> True\n"
          ]
        }
      ]
    },
    {
      "cell_type": "code",
      "source": [
        "# Compile the model\n",
        "model_5.compile(loss=tf.keras.losses.CategoricalCrossentropy(label_smoothing=0.2),\n",
        "                optimizer=tf.keras.optimizers.Adam(),\n",
        "                metrics=[\"accuracy\"])"
      ],
      "metadata": {
        "id": "5F5d7lztMKCi"
      },
      "execution_count": null,
      "outputs": []
    },
    {
      "cell_type": "code",
      "source": [
        "# Fit the model\n",
        "history_model_5 = model_5.fit(train_pos_token_char_dataset,\n",
        "                              steps_per_epoch=int(0.1*len(train_pos_token_char_dataset)),\n",
        "                              epochs=3,\n",
        "                              validation_data=valid_pos_token_char_dataset,\n",
        "                              validation_steps=int(0.1*len(valid_pos_token_char_dataset)))"
      ],
      "metadata": {
        "id": "j34pEH58qJtK",
        "colab": {
          "base_uri": "https://localhost:8080/"
        },
        "outputId": "f712c8ec-2a67-49e6-af93-13d143e07652"
      },
      "execution_count": null,
      "outputs": [
        {
          "output_type": "stream",
          "name": "stdout",
          "text": [
            "Epoch 1/3\n",
            "562/562 [==============================] - 136s 231ms/step - loss: 1.0961 - accuracy: 0.7243 - val_loss: 0.9850 - val_accuracy: 0.8078\n",
            "Epoch 2/3\n",
            "562/562 [==============================] - 130s 232ms/step - loss: 0.9687 - accuracy: 0.8129 - val_loss: 0.9517 - val_accuracy: 0.8258\n",
            "Epoch 3/3\n",
            "562/562 [==============================] - 135s 240ms/step - loss: 0.9509 - accuracy: 0.8200 - val_loss: 0.9420 - val_accuracy: 0.8275\n"
          ]
        }
      ]
    },
    {
      "cell_type": "code",
      "source": [
        "# Evaluate model on the whole validation set\n",
        "model_5.evaluate(valid_pos_token_char_dataset)"
      ],
      "metadata": {
        "id": "R3Xv4eWMqXHE",
        "colab": {
          "base_uri": "https://localhost:8080/"
        },
        "outputId": "9998e50a-a15a-4ab1-afdd-166e1e42decd"
      },
      "execution_count": null,
      "outputs": [
        {
          "output_type": "stream",
          "name": "stdout",
          "text": [
            "945/945 [==============================] - 49s 52ms/step - loss: 0.9400 - accuracy: 0.8295\n"
          ]
        },
        {
          "output_type": "execute_result",
          "data": {
            "text/plain": [
              "[0.9400115609169006, 0.8294717073440552]"
            ]
          },
          "metadata": {},
          "execution_count": 135
        }
      ]
    },
    {
      "cell_type": "code",
      "source": [
        "# Make predictions\n",
        "model_5_pred_probs = model_5.predict(valid_pos_token_char_dataset)\n",
        "model_5_pred_probs"
      ],
      "metadata": {
        "id": "8Sjenyf0qccA",
        "colab": {
          "base_uri": "https://localhost:8080/"
        },
        "outputId": "7df58054-6eb2-4e70-9165-3eba8a5823d9"
      },
      "execution_count": null,
      "outputs": [
        {
          "output_type": "execute_result",
          "data": {
            "text/plain": [
              "array([[0.48177144, 0.12434062, 0.01066346, 0.36801478, 0.01520972],\n",
              "       [0.4950356 , 0.11244622, 0.04129551, 0.34178367, 0.00943894],\n",
              "       [0.27123502, 0.11849134, 0.12638125, 0.4207718 , 0.06312056],\n",
              "       ...,\n",
              "       [0.03450767, 0.07630643, 0.03437851, 0.03112959, 0.8236778 ],\n",
              "       [0.02770745, 0.2908125 , 0.08534416, 0.02482756, 0.5713084 ],\n",
              "       [0.26793316, 0.5423305 , 0.0890108 , 0.04532741, 0.05539814]],\n",
              "      dtype=float32)"
            ]
          },
          "metadata": {},
          "execution_count": 136
        }
      ]
    },
    {
      "cell_type": "code",
      "source": [
        "# Get the predicted class based on prediction probability\n",
        "model_5_preds = tf.argmax(model_5_pred_probs, axis=1)\n",
        "model_5_preds"
      ],
      "metadata": {
        "id": "RNrTRp-mqcYs",
        "colab": {
          "base_uri": "https://localhost:8080/"
        },
        "outputId": "21deea20-7482-4e8d-cb49-fb003fb796df"
      },
      "execution_count": null,
      "outputs": [
        {
          "output_type": "execute_result",
          "data": {
            "text/plain": [
              "<tf.Tensor: shape=(30212,), dtype=int64, numpy=array([0, 0, 3, ..., 4, 4, 1])>"
            ]
          },
          "metadata": {},
          "execution_count": 137
        }
      ]
    },
    {
      "cell_type": "code",
      "source": [
        "# Model evaluation metrics\n",
        "model_5_evaluation = evaluate_prediction(val_labels_encoded,\n",
        "                                         model_5_preds)\n",
        "model_5_evaluation"
      ],
      "metadata": {
        "id": "AFxdw8RFqcRa",
        "colab": {
          "base_uri": "https://localhost:8080/"
        },
        "outputId": "b7b85ecb-b8dd-4a9c-991e-b526e7e6492e"
      },
      "execution_count": null,
      "outputs": [
        {
          "output_type": "execute_result",
          "data": {
            "text/plain": [
              "{'accuracy': 82.9471733086191,\n",
              " 'f1': 0.8287751794227022,\n",
              " 'precision': 0.8284318382317034,\n",
              " 'recall': 0.8294717330861909}"
            ]
          },
          "metadata": {},
          "execution_count": 138
        }
      ]
    },
    {
      "cell_type": "markdown",
      "source": [
        "## **Compare Models**"
      ],
      "metadata": {
        "id": "pgAjJyC5q5JX"
      }
    },
    {
      "cell_type": "code",
      "source": [
        "model_evaluations = pd.DataFrame({\"baseline\":model_0_evaluation,\n",
        "                                  \"conv1d_token_embedding\":model_1_evaluation,\n",
        "                                  \"pretrained_token_embedding\":model_2_evaluation,\n",
        "                                  \"conv1d_character_embedding\":model_3_evaluation,\n",
        "                                  \"hybrid_embedding\":model_4_evaluation,\n",
        "                                  \"tribrid_embedding\":model_5_evaluation}).T\n",
        "\n",
        "model_evaluations"
      ],
      "metadata": {
        "id": "IGEf5ItmBwsm",
        "colab": {
          "base_uri": "https://localhost:8080/"
        },
        "outputId": "e7147063-d1e5-4b11-9680-fa7f2f1c2571"
      },
      "execution_count": null,
      "outputs": [
        {
          "output_type": "execute_result",
          "data": {
            "text/plain": [
              "                             accuracy  precision    recall        f1\n",
              "baseline                    72.183238   0.718647  0.721832  0.698925\n",
              "conv1d_token_embedding      78.607838   0.782576  0.786078  0.783570\n",
              "pretrained_token_embedding  71.613928   0.716438  0.716139  0.713157\n",
              "conv1d_character_embedding  44.707401   0.377646  0.447074  0.392060\n",
              "hybrid_embedding            73.206011   0.735363  0.732060  0.730057\n",
              "tribrid_embedding           82.947173   0.828432  0.829472  0.828775"
            ],
            "text/html": [
              "\n",
              "  <div id=\"df-01d7f4dd-f101-4cea-8881-1e0b469c4f2a\">\n",
              "    <div class=\"colab-df-container\">\n",
              "      <div>\n",
              "<style scoped>\n",
              "    .dataframe tbody tr th:only-of-type {\n",
              "        vertical-align: middle;\n",
              "    }\n",
              "\n",
              "    .dataframe tbody tr th {\n",
              "        vertical-align: top;\n",
              "    }\n",
              "\n",
              "    .dataframe thead th {\n",
              "        text-align: right;\n",
              "    }\n",
              "</style>\n",
              "<table border=\"1\" class=\"dataframe\">\n",
              "  <thead>\n",
              "    <tr style=\"text-align: right;\">\n",
              "      <th></th>\n",
              "      <th>accuracy</th>\n",
              "      <th>precision</th>\n",
              "      <th>recall</th>\n",
              "      <th>f1</th>\n",
              "    </tr>\n",
              "  </thead>\n",
              "  <tbody>\n",
              "    <tr>\n",
              "      <th>baseline</th>\n",
              "      <td>72.183238</td>\n",
              "      <td>0.718647</td>\n",
              "      <td>0.721832</td>\n",
              "      <td>0.698925</td>\n",
              "    </tr>\n",
              "    <tr>\n",
              "      <th>conv1d_token_embedding</th>\n",
              "      <td>78.607838</td>\n",
              "      <td>0.782576</td>\n",
              "      <td>0.786078</td>\n",
              "      <td>0.783570</td>\n",
              "    </tr>\n",
              "    <tr>\n",
              "      <th>pretrained_token_embedding</th>\n",
              "      <td>71.613928</td>\n",
              "      <td>0.716438</td>\n",
              "      <td>0.716139</td>\n",
              "      <td>0.713157</td>\n",
              "    </tr>\n",
              "    <tr>\n",
              "      <th>conv1d_character_embedding</th>\n",
              "      <td>44.707401</td>\n",
              "      <td>0.377646</td>\n",
              "      <td>0.447074</td>\n",
              "      <td>0.392060</td>\n",
              "    </tr>\n",
              "    <tr>\n",
              "      <th>hybrid_embedding</th>\n",
              "      <td>73.206011</td>\n",
              "      <td>0.735363</td>\n",
              "      <td>0.732060</td>\n",
              "      <td>0.730057</td>\n",
              "    </tr>\n",
              "    <tr>\n",
              "      <th>tribrid_embedding</th>\n",
              "      <td>82.947173</td>\n",
              "      <td>0.828432</td>\n",
              "      <td>0.829472</td>\n",
              "      <td>0.828775</td>\n",
              "    </tr>\n",
              "  </tbody>\n",
              "</table>\n",
              "</div>\n",
              "      <button class=\"colab-df-convert\" onclick=\"convertToInteractive('df-01d7f4dd-f101-4cea-8881-1e0b469c4f2a')\"\n",
              "              title=\"Convert this dataframe to an interactive table.\"\n",
              "              style=\"display:none;\">\n",
              "        \n",
              "  <svg xmlns=\"http://www.w3.org/2000/svg\" height=\"24px\"viewBox=\"0 0 24 24\"\n",
              "       width=\"24px\">\n",
              "    <path d=\"M0 0h24v24H0V0z\" fill=\"none\"/>\n",
              "    <path d=\"M18.56 5.44l.94 2.06.94-2.06 2.06-.94-2.06-.94-.94-2.06-.94 2.06-2.06.94zm-11 1L8.5 8.5l.94-2.06 2.06-.94-2.06-.94L8.5 2.5l-.94 2.06-2.06.94zm10 10l.94 2.06.94-2.06 2.06-.94-2.06-.94-.94-2.06-.94 2.06-2.06.94z\"/><path d=\"M17.41 7.96l-1.37-1.37c-.4-.4-.92-.59-1.43-.59-.52 0-1.04.2-1.43.59L10.3 9.45l-7.72 7.72c-.78.78-.78 2.05 0 2.83L4 21.41c.39.39.9.59 1.41.59.51 0 1.02-.2 1.41-.59l7.78-7.78 2.81-2.81c.8-.78.8-2.07 0-2.86zM5.41 20L4 18.59l7.72-7.72 1.47 1.35L5.41 20z\"/>\n",
              "  </svg>\n",
              "      </button>\n",
              "      \n",
              "  <style>\n",
              "    .colab-df-container {\n",
              "      display:flex;\n",
              "      flex-wrap:wrap;\n",
              "      gap: 12px;\n",
              "    }\n",
              "\n",
              "    .colab-df-convert {\n",
              "      background-color: #E8F0FE;\n",
              "      border: none;\n",
              "      border-radius: 50%;\n",
              "      cursor: pointer;\n",
              "      display: none;\n",
              "      fill: #1967D2;\n",
              "      height: 32px;\n",
              "      padding: 0 0 0 0;\n",
              "      width: 32px;\n",
              "    }\n",
              "\n",
              "    .colab-df-convert:hover {\n",
              "      background-color: #E2EBFA;\n",
              "      box-shadow: 0px 1px 2px rgba(60, 64, 67, 0.3), 0px 1px 3px 1px rgba(60, 64, 67, 0.15);\n",
              "      fill: #174EA6;\n",
              "    }\n",
              "\n",
              "    [theme=dark] .colab-df-convert {\n",
              "      background-color: #3B4455;\n",
              "      fill: #D2E3FC;\n",
              "    }\n",
              "\n",
              "    [theme=dark] .colab-df-convert:hover {\n",
              "      background-color: #434B5C;\n",
              "      box-shadow: 0px 1px 3px 1px rgba(0, 0, 0, 0.15);\n",
              "      filter: drop-shadow(0px 1px 2px rgba(0, 0, 0, 0.3));\n",
              "      fill: #FFFFFF;\n",
              "    }\n",
              "  </style>\n",
              "\n",
              "      <script>\n",
              "        const buttonEl =\n",
              "          document.querySelector('#df-01d7f4dd-f101-4cea-8881-1e0b469c4f2a button.colab-df-convert');\n",
              "        buttonEl.style.display =\n",
              "          google.colab.kernel.accessAllowed ? 'block' : 'none';\n",
              "\n",
              "        async function convertToInteractive(key) {\n",
              "          const element = document.querySelector('#df-01d7f4dd-f101-4cea-8881-1e0b469c4f2a');\n",
              "          const dataTable =\n",
              "            await google.colab.kernel.invokeFunction('convertToInteractive',\n",
              "                                                     [key], {});\n",
              "          if (!dataTable) return;\n",
              "\n",
              "          const docLinkHtml = 'Like what you see? Visit the ' +\n",
              "            '<a target=\"_blank\" href=https://colab.research.google.com/notebooks/data_table.ipynb>data table notebook</a>'\n",
              "            + ' to learn more about interactive tables.';\n",
              "          element.innerHTML = '';\n",
              "          dataTable['output_type'] = 'display_data';\n",
              "          await google.colab.output.renderOutput(dataTable, element);\n",
              "          const docLink = document.createElement('div');\n",
              "          docLink.innerHTML = docLinkHtml;\n",
              "          element.appendChild(docLink);\n",
              "        }\n",
              "      </script>\n",
              "    </div>\n",
              "  </div>\n",
              "  "
            ]
          },
          "metadata": {},
          "execution_count": 139
        }
      ]
    },
    {
      "cell_type": "code",
      "source": [
        "# Scale the accuracy values\n",
        "model_evaluations[\"accuracy\"] = model_evaluations[\"accuracy\"]/100"
      ],
      "metadata": {
        "id": "5Xknrs5cBwpc"
      },
      "execution_count": null,
      "outputs": []
    },
    {
      "cell_type": "code",
      "source": [
        "# Plot model evaluation metrics\n",
        "model_evaluations.plot(kind=\"bar\", figsize=(10,7)).legend(bbox_to_anchor=(1,1))"
      ],
      "metadata": {
        "id": "blhK-78WBwmW",
        "colab": {
          "base_uri": "https://localhost:8080/"
        },
        "outputId": "28d5313c-ee7f-4652-8834-a2c93718780d"
      },
      "execution_count": null,
      "outputs": [
        {
          "output_type": "execute_result",
          "data": {
            "text/plain": [
              "<matplotlib.legend.Legend at 0x7fdfe3394e50>"
            ]
          },
          "metadata": {},
          "execution_count": 141
        },
        {
          "output_type": "display_data",
          "data": {
            "text/plain": [
              "<Figure size 720x504 with 1 Axes>"
            ],
            "image/png": "[encoded data removed]"
          },
          "metadata": {
            "needs_background": "light"
          }
        }
      ]
    },
    {
      "cell_type": "code",
      "source": [
        "# Sort model evaluation by f1-score metric\n",
        "model_evaluations.sort_values(\"f1\", ascending=False)[\"f1\"].plot(kind=\"bar\", figsize=(10,7))"
      ],
      "metadata": {
        "id": "HC52oTQZBwjy",
        "colab": {
          "base_uri": "https://localhost:8080/"
        },
        "outputId": "8a115939-b2cb-4462-d1e7-fbbfa65582ad"
      },
      "execution_count": null,
      "outputs": [
        {
          "output_type": "execute_result",
          "data": {
            "text/plain": [
              "<matplotlib.axes._subplots.AxesSubplot at 0x7fdfdd09d050>"
            ]
          },
          "metadata": {},
          "execution_count": 142
        },
        {
          "output_type": "display_data",
          "data": {
            "text/plain": [
              "<Figure size 720x504 with 1 Axes>"
            ],
            "image/png": "[encoded data removed]"
          },
          "metadata": {
            "needs_background": "light"
          }
        }
      ]
    },
    {
      "cell_type": "code",
      "source": [
        "# Save Fine tuned TF Hub Sentence Encoder model to HDF5 format\n",
        "#model_5.save(\"model_6.h5\")"
      ],
      "metadata": {
        "id": "85GFiuk0Bwgf"
      },
      "execution_count": null,
      "outputs": []
    },
    {
      "cell_type": "markdown",
      "source": [
        "## **Evaluate Model on Testing Set**"
      ],
      "metadata": {
        "id": "H8uVV2CvENSJ"
      }
    },
    {
      "cell_type": "markdown",
      "source": [
        "**Batching and Prefetching**"
      ],
      "metadata": {
        "id": "PNcXs53MFwvh"
      }
    },
    {
      "cell_type": "code",
      "source": [
        "# Combine tokens and chars into a dataset\n",
        "test_pos_token_char_data = tf.data.Dataset.from_tensor_slices((test_line_number_onehot_encoded,\n",
        "                                                               test_total_lines_onehot_encoded,\n",
        "                                                               test_sentences, \n",
        "                                                               test_chars))\n",
        "test_pos_token_char_labels = tf.data.Dataset.from_tensor_slices(test_labels_onehot_encoded)\n",
        "test_pos_token_char_dataset = tf.data.Dataset.zip((test_pos_token_char_data, test_pos_token_char_labels))\n",
        "\n",
        "# Prefetch and batch\n",
        "test_pos_token_char_dataset = test_pos_token_char_dataset.batch(32).prefetch(tf.data.AUTOTUNE)\n",
        "\n",
        "test_pos_token_char_dataset"
      ],
      "metadata": {
        "id": "EpZs3pANBwdf",
        "colab": {
          "base_uri": "https://localhost:8080/"
        },
        "outputId": "5b9fea1d-ad3f-41fb-a0d5-95d9d9432b9c"
      },
      "execution_count": null,
      "outputs": [
        {
          "output_type": "execute_result",
          "data": {
            "text/plain": [
              "<PrefetchDataset element_spec=((TensorSpec(shape=(None, 15), dtype=tf.float32, name=None), TensorSpec(shape=(None, 20), dtype=tf.float32, name=None), TensorSpec(shape=(None,), dtype=tf.string, name=None), TensorSpec(shape=(None,), dtype=tf.string, name=None)), TensorSpec(shape=(None, 5), dtype=tf.float64, name=None))>"
            ]
          },
          "metadata": {},
          "execution_count": 145
        }
      ]
    },
    {
      "cell_type": "markdown",
      "source": [
        "**Predictions**"
      ],
      "metadata": {
        "id": "hJAF4gclF5qy"
      }
    },
    {
      "cell_type": "code",
      "source": [
        "# Make predictions\n",
        "test_pred_probs = model_5.predict(test_pos_token_char_dataset, verbose=1)\n",
        "test_preds = tf.argmax(test_pred_probs, axis=1)\n",
        "test_preds[:10]"
      ],
      "metadata": {
        "id": "WgC--qGOF8Pd",
        "colab": {
          "base_uri": "https://localhost:8080/"
        },
        "outputId": "d5bb80ce-48f7-4b81-a846-4a87163de3b4"
      },
      "execution_count": null,
      "outputs": [
        {
          "output_type": "stream",
          "name": "stdout",
          "text": [
            "942/942 [==============================] - 65s 69ms/step\n"
          ]
        },
        {
          "output_type": "execute_result",
          "data": {
            "text/plain": [
              "<tf.Tensor: shape=(10,), dtype=int64, numpy=array([3, 3, 2, 2, 4, 4, 4, 1, 1, 0])>"
            ]
          },
          "metadata": {},
          "execution_count": 146
        }
      ]
    },
    {
      "cell_type": "code",
      "source": [
        "# Model evaluation metrics\n",
        "model_5_test_evaluation = evaluate_prediction(test_labels_encoded,\n",
        "                                              test_preds)\n",
        "model_5_test_evaluation"
      ],
      "metadata": {
        "id": "xCLXKaoFGkJE",
        "colab": {
          "base_uri": "https://localhost:8080/"
        },
        "outputId": "9ec8d106-f58d-42e6-8516-ce28340e07ac"
      },
      "execution_count": null,
      "outputs": [
        {
          "output_type": "execute_result",
          "data": {
            "text/plain": [
              "{'accuracy': 82.58171561307451,\n",
              " 'f1': 0.8250187631062073,\n",
              " 'precision': 0.8246765347654068,\n",
              " 'recall': 0.825817156130745}"
            ]
          },
          "metadata": {},
          "execution_count": 147
        }
      ]
    },
    {
      "cell_type": "markdown",
      "source": [
        "**Investigate The Wrong Predictions**\n",
        "\n",
        "The most wrong predictions are test data where the model has made a prediction with a high probability but has gotten it wrong predicted label (not the same with ground truth label). By investigating this, it can give valuable information on how to improve the model further."
      ],
      "metadata": {
        "id": "h3N1M4BZ_PtJ"
      }
    },
    {
      "cell_type": "code",
      "source": [
        "%%time\n",
        "# Convert integer-based test predictions into string-based class names in a list\n",
        "## le = LabelEncoder()\n",
        "test_preds_classes = [le.classes_[pred] for pred in test_preds]\n",
        "test_preds_classes"
      ],
      "metadata": {
        "id": "4hbJvnH3_Uaj",
        "colab": {
          "base_uri": "https://localhost:8080/"
        },
        "outputId": "edc448b8-f9cb-41c2-9bec-fbc61c59c498"
      },
      "execution_count": null,
      "outputs": [
        {
          "output_type": "stream",
          "name": "stdout",
          "text": [
            "CPU times: user 10.3 s, sys: 28.1 ms, total: 10.3 s\n",
            "Wall time: 11.7 s\n"
          ]
        }
      ]
    },
    {
      "cell_type": "code",
      "source": [
        "# Add the prediction result to the dataframe\n",
        "## column of prediction class names\n",
        "test[\"prediction\"] = test_preds_classes\n",
        "## column of the maximum prediction probability\n",
        "test[\"pred_probs\"] = tf.reduce_max(test_pred_probs, axis=1).numpy()\n",
        "## column of correctness\n",
        "test[\"correct\"] = test[\"prediction\"] == test[\"target\"]\n",
        "\n",
        "test.head(3)"
      ],
      "metadata": {
        "id": "MG1FW2Vi_VEF",
        "colab": {
          "base_uri": "https://localhost:8080/",
          "height": 416
        },
        "outputId": "2f2c888c-25b8-463c-f150-b9f8389784e3"
      },
      "execution_count": null,
      "outputs": [
        {
          "output_type": "execute_result",
          "data": {
            "text/plain": [
              "       target                                               text  line_number  \\\n",
              "0  BACKGROUND  This study analyzed liver function abnormaliti...            0   \n",
              "1     RESULTS  A post hoc analysis was conducted with the use...            1   \n",
              "2     RESULTS  Liver function tests ( LFTs ) were measured at...            2   \n",
              "\n",
              "   total_lines prediction  pred_probs  correct  \n",
              "0            9  OBJECTIVE    0.528897    False  \n",
              "1            9  OBJECTIVE    0.397841    False  \n",
              "2            9    METHODS    0.788900    False  "
            ],
            "text/html": [
              "\n",
              "  <div id=\"df-4cd98ea9-7f6e-4565-8681-b32a8b77e93c\">\n",
              "    <div class=\"colab-df-container\">\n",
              "      <div>\n",
              "<style scoped>\n",
              "    .dataframe tbody tr th:only-of-type {\n",
              "        vertical-align: middle;\n",
              "    }\n",
              "\n",
              "    .dataframe tbody tr th {\n",
              "        vertical-align: top;\n",
              "    }\n",
              "\n",
              "    .dataframe thead th {\n",
              "        text-align: right;\n",
              "    }\n",
              "</style>\n",
              "<table border=\"1\" class=\"dataframe\">\n",
              "  <thead>\n",
              "    <tr style=\"text-align: right;\">\n",
              "      <th></th>\n",
              "      <th>target</th>\n",
              "      <th>text</th>\n",
              "      <th>line_number</th>\n",
              "      <th>total_lines</th>\n",
              "      <th>prediction</th>\n",
              "      <th>pred_probs</th>\n",
              "      <th>correct</th>\n",
              "    </tr>\n",
              "  </thead>\n",
              "  <tbody>\n",
              "    <tr>\n",
              "      <th>0</th>\n",
              "      <td>BACKGROUND</td>\n",
              "      <td>This study analyzed liver function abnormaliti...</td>\n",
              "      <td>0</td>\n",
              "      <td>9</td>\n",
              "      <td>OBJECTIVE</td>\n",
              "      <td>0.528897</td>\n",
              "      <td>False</td>\n",
              "    </tr>\n",
              "    <tr>\n",
              "      <th>1</th>\n",
              "      <td>RESULTS</td>\n",
              "      <td>A post hoc analysis was conducted with the use...</td>\n",
              "      <td>1</td>\n",
              "      <td>9</td>\n",
              "      <td>OBJECTIVE</td>\n",
              "      <td>0.397841</td>\n",
              "      <td>False</td>\n",
              "    </tr>\n",
              "    <tr>\n",
              "      <th>2</th>\n",
              "      <td>RESULTS</td>\n",
              "      <td>Liver function tests ( LFTs ) were measured at...</td>\n",
              "      <td>2</td>\n",
              "      <td>9</td>\n",
              "      <td>METHODS</td>\n",
              "      <td>0.788900</td>\n",
              "      <td>False</td>\n",
              "    </tr>\n",
              "  </tbody>\n",
              "</table>\n",
              "</div>\n",
              "      <button class=\"colab-df-convert\" onclick=\"convertToInteractive('df-4cd98ea9-7f6e-4565-8681-b32a8b77e93c')\"\n",
              "              title=\"Convert this dataframe to an interactive table.\"\n",
              "              style=\"display:none;\">\n",
              "        \n",
              "  <svg xmlns=\"http://www.w3.org/2000/svg\" height=\"24px\"viewBox=\"0 0 24 24\"\n",
              "       width=\"24px\">\n",
              "    <path d=\"M0 0h24v24H0V0z\" fill=\"none\"/>\n",
              "    <path d=\"M18.56 5.44l.94 2.06.94-2.06 2.06-.94-2.06-.94-.94-2.06-.94 2.06-2.06.94zm-11 1L8.5 8.5l.94-2.06 2.06-.94-2.06-.94L8.5 2.5l-.94 2.06-2.06.94zm10 10l.94 2.06.94-2.06 2.06-.94-2.06-.94-.94-2.06-.94 2.06-2.06.94z\"/><path d=\"M17.41 7.96l-1.37-1.37c-.4-.4-.92-.59-1.43-.59-.52 0-1.04.2-1.43.59L10.3 9.45l-7.72 7.72c-.78.78-.78 2.05 0 2.83L4 21.41c.39.39.9.59 1.41.59.51 0 1.02-.2 1.41-.59l7.78-7.78 2.81-2.81c.8-.78.8-2.07 0-2.86zM5.41 20L4 18.59l7.72-7.72 1.47 1.35L5.41 20z\"/>\n",
              "  </svg>\n",
              "      </button>\n",
              "      \n",
              "  <style>\n",
              "    .colab-df-container {\n",
              "      display:flex;\n",
              "      flex-wrap:wrap;\n",
              "      gap: 12px;\n",
              "    }\n",
              "\n",
              "    .colab-df-convert {\n",
              "      background-color: #E8F0FE;\n",
              "      border: none;\n",
              "      border-radius: 50%;\n",
              "      cursor: pointer;\n",
              "      display: none;\n",
              "      fill: #1967D2;\n",
              "      height: 32px;\n",
              "      padding: 0 0 0 0;\n",
              "      width: 32px;\n",
              "    }\n",
              "\n",
              "    .colab-df-convert:hover {\n",
              "      background-color: #E2EBFA;\n",
              "      box-shadow: 0px 1px 2px rgba(60, 64, 67, 0.3), 0px 1px 3px 1px rgba(60, 64, 67, 0.15);\n",
              "      fill: #174EA6;\n",
              "    }\n",
              "\n",
              "    [theme=dark] .colab-df-convert {\n",
              "      background-color: #3B4455;\n",
              "      fill: #D2E3FC;\n",
              "    }\n",
              "\n",
              "    [theme=dark] .colab-df-convert:hover {\n",
              "      background-color: #434B5C;\n",
              "      box-shadow: 0px 1px 3px 1px rgba(0, 0, 0, 0.15);\n",
              "      filter: drop-shadow(0px 1px 2px rgba(0, 0, 0, 0.3));\n",
              "      fill: #FFFFFF;\n",
              "    }\n",
              "  </style>\n",
              "\n",
              "      <script>\n",
              "        const buttonEl =\n",
              "          document.querySelector('#df-4cd98ea9-7f6e-4565-8681-b32a8b77e93c button.colab-df-convert');\n",
              "        buttonEl.style.display =\n",
              "          google.colab.kernel.accessAllowed ? 'block' : 'none';\n",
              "\n",
              "        async function convertToInteractive(key) {\n",
              "          const element = document.querySelector('#df-4cd98ea9-7f6e-4565-8681-b32a8b77e93c');\n",
              "          const dataTable =\n",
              "            await google.colab.kernel.invokeFunction('convertToInteractive',\n",
              "                                                     [key], {});\n",
              "          if (!dataTable) return;\n",
              "\n",
              "          const docLinkHtml = 'Like what you see? Visit the ' +\n",
              "            '<a target=\"_blank\" href=https://colab.research.google.com/notebooks/data_table.ipynb>data table notebook</a>'\n",
              "            + ' to learn more about interactive tables.';\n",
              "          element.innerHTML = '';\n",
              "          dataTable['output_type'] = 'display_data';\n",
              "          await google.colab.output.renderOutput(dataTable, element);\n",
              "          const docLink = document.createElement('div');\n",
              "          docLink.innerHTML = docLinkHtml;\n",
              "          element.appendChild(docLink);\n",
              "        }\n",
              "      </script>\n",
              "    </div>\n",
              "  </div>\n",
              "  "
            ]
          },
          "metadata": {},
          "execution_count": 151
        }
      ]
    },
    {
      "cell_type": "code",
      "source": [
        "# Find the most wrong predictions\n",
        "most_wrongs = test[test[\"correct\"] == False].sort_values(\"pred_probs\", ascending=False)[:100]\n",
        "most_wrongs.head()"
      ],
      "metadata": {
        "id": "90iqnyo-N0FT",
        "colab": {
          "base_uri": "https://localhost:8080/",
          "height": 548
        },
        "outputId": "0363b049-f7b1-4b09-b38a-cf83fb815f21"
      },
      "execution_count": null,
      "outputs": [
        {
          "output_type": "execute_result",
          "data": {
            "text/plain": [
              "           target                                               text  \\\n",
              "16347  BACKGROUND  To evaluate the effects of the lactic acid bac...   \n",
              "2388      RESULTS  The primary endpoint is the cumulative three-y...   \n",
              "3573      RESULTS  A cluster randomised trial was implemented wit...   \n",
              "8545      METHODS                                 Pretest-posttest .   \n",
              "13598     METHODS  -@ % vs. Fish : -@ % vs. Fish + S : -@ % ; p <...   \n",
              "\n",
              "       line_number  total_lines  prediction  pred_probs  correct  \n",
              "16347            0           13   OBJECTIVE    0.937484    False  \n",
              "2388             4           14     METHODS    0.933880    False  \n",
              "3573             3           17     METHODS    0.923850    False  \n",
              "8545             1           12  BACKGROUND    0.922371    False  \n",
              "13598            6           10     RESULTS    0.921202    False  "
            ],
            "text/html": [
              "\n",
              "  <div id=\"df-6200fada-ee0b-475c-bef6-f90389de5d59\">\n",
              "    <div class=\"colab-df-container\">\n",
              "      <div>\n",
              "<style scoped>\n",
              "    .dataframe tbody tr th:only-of-type {\n",
              "        vertical-align: middle;\n",
              "    }\n",
              "\n",
              "    .dataframe tbody tr th {\n",
              "        vertical-align: top;\n",
              "    }\n",
              "\n",
              "    .dataframe thead th {\n",
              "        text-align: right;\n",
              "    }\n",
              "</style>\n",
              "<table border=\"1\" class=\"dataframe\">\n",
              "  <thead>\n",
              "    <tr style=\"text-align: right;\">\n",
              "      <th></th>\n",
              "      <th>target</th>\n",
              "      <th>text</th>\n",
              "      <th>line_number</th>\n",
              "      <th>total_lines</th>\n",
              "      <th>prediction</th>\n",
              "      <th>pred_probs</th>\n",
              "      <th>correct</th>\n",
              "    </tr>\n",
              "  </thead>\n",
              "  <tbody>\n",
              "    <tr>\n",
              "      <th>16347</th>\n",
              "      <td>BACKGROUND</td>\n",
              "      <td>To evaluate the effects of the lactic acid bac...</td>\n",
              "      <td>0</td>\n",
              "      <td>13</td>\n",
              "      <td>OBJECTIVE</td>\n",
              "      <td>0.937484</td>\n",
              "      <td>False</td>\n",
              "    </tr>\n",
              "    <tr>\n",
              "      <th>2388</th>\n",
              "      <td>RESULTS</td>\n",
              "      <td>The primary endpoint is the cumulative three-y...</td>\n",
              "      <td>4</td>\n",
              "      <td>14</td>\n",
              "      <td>METHODS</td>\n",
              "      <td>0.933880</td>\n",
              "      <td>False</td>\n",
              "    </tr>\n",
              "    <tr>\n",
              "      <th>3573</th>\n",
              "      <td>RESULTS</td>\n",
              "      <td>A cluster randomised trial was implemented wit...</td>\n",
              "      <td>3</td>\n",
              "      <td>17</td>\n",
              "      <td>METHODS</td>\n",
              "      <td>0.923850</td>\n",
              "      <td>False</td>\n",
              "    </tr>\n",
              "    <tr>\n",
              "      <th>8545</th>\n",
              "      <td>METHODS</td>\n",
              "      <td>Pretest-posttest .</td>\n",
              "      <td>1</td>\n",
              "      <td>12</td>\n",
              "      <td>BACKGROUND</td>\n",
              "      <td>0.922371</td>\n",
              "      <td>False</td>\n",
              "    </tr>\n",
              "    <tr>\n",
              "      <th>13598</th>\n",
              "      <td>METHODS</td>\n",
              "      <td>-@ % vs. Fish : -@ % vs. Fish + S : -@ % ; p &lt;...</td>\n",
              "      <td>6</td>\n",
              "      <td>10</td>\n",
              "      <td>RESULTS</td>\n",
              "      <td>0.921202</td>\n",
              "      <td>False</td>\n",
              "    </tr>\n",
              "  </tbody>\n",
              "</table>\n",
              "</div>\n",
              "      <button class=\"colab-df-convert\" onclick=\"convertToInteractive('df-6200fada-ee0b-475c-bef6-f90389de5d59')\"\n",
              "              title=\"Convert this dataframe to an interactive table.\"\n",
              "              style=\"display:none;\">\n",
              "        \n",
              "  <svg xmlns=\"http://www.w3.org/2000/svg\" height=\"24px\"viewBox=\"0 0 24 24\"\n",
              "       width=\"24px\">\n",
              "    <path d=\"M0 0h24v24H0V0z\" fill=\"none\"/>\n",
              "    <path d=\"M18.56 5.44l.94 2.06.94-2.06 2.06-.94-2.06-.94-.94-2.06-.94 2.06-2.06.94zm-11 1L8.5 8.5l.94-2.06 2.06-.94-2.06-.94L8.5 2.5l-.94 2.06-2.06.94zm10 10l.94 2.06.94-2.06 2.06-.94-2.06-.94-.94-2.06-.94 2.06-2.06.94z\"/><path d=\"M17.41 7.96l-1.37-1.37c-.4-.4-.92-.59-1.43-.59-.52 0-1.04.2-1.43.59L10.3 9.45l-7.72 7.72c-.78.78-.78 2.05 0 2.83L4 21.41c.39.39.9.59 1.41.59.51 0 1.02-.2 1.41-.59l7.78-7.78 2.81-2.81c.8-.78.8-2.07 0-2.86zM5.41 20L4 18.59l7.72-7.72 1.47 1.35L5.41 20z\"/>\n",
              "  </svg>\n",
              "      </button>\n",
              "      \n",
              "  <style>\n",
              "    .colab-df-container {\n",
              "      display:flex;\n",
              "      flex-wrap:wrap;\n",
              "      gap: 12px;\n",
              "    }\n",
              "\n",
              "    .colab-df-convert {\n",
              "      background-color: #E8F0FE;\n",
              "      border: none;\n",
              "      border-radius: 50%;\n",
              "      cursor: pointer;\n",
              "      display: none;\n",
              "      fill: #1967D2;\n",
              "      height: 32px;\n",
              "      padding: 0 0 0 0;\n",
              "      width: 32px;\n",
              "    }\n",
              "\n",
              "    .colab-df-convert:hover {\n",
              "      background-color: #E2EBFA;\n",
              "      box-shadow: 0px 1px 2px rgba(60, 64, 67, 0.3), 0px 1px 3px 1px rgba(60, 64, 67, 0.15);\n",
              "      fill: #174EA6;\n",
              "    }\n",
              "\n",
              "    [theme=dark] .colab-df-convert {\n",
              "      background-color: #3B4455;\n",
              "      fill: #D2E3FC;\n",
              "    }\n",
              "\n",
              "    [theme=dark] .colab-df-convert:hover {\n",
              "      background-color: #434B5C;\n",
              "      box-shadow: 0px 1px 3px 1px rgba(0, 0, 0, 0.15);\n",
              "      filter: drop-shadow(0px 1px 2px rgba(0, 0, 0, 0.3));\n",
              "      fill: #FFFFFF;\n",
              "    }\n",
              "  </style>\n",
              "\n",
              "      <script>\n",
              "        const buttonEl =\n",
              "          document.querySelector('#df-6200fada-ee0b-475c-bef6-f90389de5d59 button.colab-df-convert');\n",
              "        buttonEl.style.display =\n",
              "          google.colab.kernel.accessAllowed ? 'block' : 'none';\n",
              "\n",
              "        async function convertToInteractive(key) {\n",
              "          const element = document.querySelector('#df-6200fada-ee0b-475c-bef6-f90389de5d59');\n",
              "          const dataTable =\n",
              "            await google.colab.kernel.invokeFunction('convertToInteractive',\n",
              "                                                     [key], {});\n",
              "          if (!dataTable) return;\n",
              "\n",
              "          const docLinkHtml = 'Like what you see? Visit the ' +\n",
              "            '<a target=\"_blank\" href=https://colab.research.google.com/notebooks/data_table.ipynb>data table notebook</a>'\n",
              "            + ' to learn more about interactive tables.';\n",
              "          element.innerHTML = '';\n",
              "          dataTable['output_type'] = 'display_data';\n",
              "          await google.colab.output.renderOutput(dataTable, element);\n",
              "          const docLink = document.createElement('div');\n",
              "          docLink.innerHTML = docLinkHtml;\n",
              "          element.appendChild(docLink);\n",
              "        }\n",
              "      </script>\n",
              "    </div>\n",
              "  </div>\n",
              "  "
            ]
          },
          "metadata": {},
          "execution_count": 152
        }
      ]
    },
    {
      "cell_type": "code",
      "source": [
        "# Check out the most wrong predictions\n",
        "for row in most_wrongs[0:10].itertuples():\n",
        "  _, target, text, line_number, total_lines, prediction, pred_probs, _ = row\n",
        "  print(f\"Target: {target}, Pred: {prediction}, Prob: {pred_probs}, Line number: {line_number}, Total lines: {total_lines}\")\n",
        "  print(f\"Text:\\n{text}\\n\")\n",
        "  print(\"------\\n\")"
      ],
      "metadata": {
        "id": "i5TqUNvl_U72",
        "colab": {
          "base_uri": "https://localhost:8080/"
        },
        "outputId": "6c3aa6a6-3117-4b48-9664-64bde17d1243"
      },
      "execution_count": null,
      "outputs": [
        {
          "output_type": "stream",
          "name": "stdout",
          "text": [
            "Target: BACKGROUND, Pred: OBJECTIVE, Prob: 0.9374840259552002, Line number: 0, Total lines: 13\n",
            "Text:\n",
            "To evaluate the effects of the lactic acid bacterium Lactobacillus salivarius on caries risk factors .\n",
            "\n",
            "------\n",
            "\n",
            "Target: RESULTS, Pred: METHODS, Prob: 0.9338799118995667, Line number: 4, Total lines: 14\n",
            "Text:\n",
            "The primary endpoint is the cumulative three-year HIV incidence .\n",
            "\n",
            "------\n",
            "\n",
            "Target: RESULTS, Pred: METHODS, Prob: 0.9238497018814087, Line number: 3, Total lines: 17\n",
            "Text:\n",
            "A cluster randomised trial was implemented with @,@ children in @ government primary schools on the south coast of Kenya in @-@ .\n",
            "\n",
            "------\n",
            "\n",
            "Target: METHODS, Pred: BACKGROUND, Prob: 0.9223708510398865, Line number: 1, Total lines: 12\n",
            "Text:\n",
            "Pretest-posttest .\n",
            "\n",
            "------\n",
            "\n",
            "Target: METHODS, Pred: RESULTS, Prob: 0.9212024807929993, Line number: 6, Total lines: 10\n",
            "Text:\n",
            "-@ % vs. Fish : -@ % vs. Fish + S : -@ % ; p < @ ) but there were no significant differences between groups .\n",
            "\n",
            "------\n",
            "\n",
            "Target: CONCLUSIONS, Pred: METHODS, Prob: 0.92035311460495, Line number: 4, Total lines: 7\n",
            "Text:\n",
            "Symptom outcomes will be assessed and estimates of cost-effectiveness made .\n",
            "\n",
            "------\n",
            "\n",
            "Target: BACKGROUND, Pred: OBJECTIVE, Prob: 0.917161762714386, Line number: 0, Total lines: 12\n",
            "Text:\n",
            "To assess the temporal patterns of late gastrointestinal ( GI ) and genitourinary ( GU ) radiotherapy toxicity and resolution rates in a randomised controlled trial ( All-Ireland Cooperative Oncology Research Group @-@ ) assessing duration of neo-adjuvant ( NA ) hormone therapy for localised prostate cancer .\n",
            "\n",
            "------\n",
            "\n",
            "Target: CONCLUSIONS, Pred: BACKGROUND, Prob: 0.917087733745575, Line number: 18, Total lines: 19\n",
            "Text:\n",
            "NCT@ ( ClinicalTrials.gov ) .\n",
            "\n",
            "------\n",
            "\n",
            "Target: RESULTS, Pred: METHODS, Prob: 0.915742039680481, Line number: 4, Total lines: 14\n",
            "Text:\n",
            "Baseline measures included sociodemographics , standardized anthropometrics , Asthma Control Test ( ACT ) , GERD Symptom Assessment Scale , Pittsburgh Sleep Quality Index , and Berlin Questionnaire for Sleep Apnea .\n",
            "\n",
            "------\n",
            "\n",
            "Target: BACKGROUND, Pred: OBJECTIVE, Prob: 0.9154036641120911, Line number: 1, Total lines: 11\n",
            "Text:\n",
            "To test this assumption , this study was designed to evaluate levels of bone morphogenetic protein-@ ( BMP-@ ) in gingival crevicular fluid ( GCF ) during the early stages of healing for sites treated with modified perforated membranes ( MPMs ) as compared with occlusive membranes ( OMs ) .\n",
            "\n",
            "------\n",
            "\n"
          ]
        }
      ]
    },
    {
      "cell_type": "markdown",
      "source": [
        "## **Predict on Unseen Data**"
      ],
      "metadata": {
        "id": "5OCQseuUQsWE"
      }
    },
    {
      "cell_type": "code",
      "source": [
        "# Create a set of abstracts\n",
        "\n",
        "new_abstracts = [{\"abstract\" : \"Social skills training (SST) for autism spectrum disorder (ASD) has traditionally focused on face-to-face (F2F-SST) interventions. Recently, Behavioral Intervention Technologies (BITs-SST) have been utilized to target social skills deficits using computer-based programs, avatars, and therapeutic robots. The present meta-analysis reviews recent evidence and compares the efficacy of 14 F2F-SST and four identified BITs-SST intervention trials for youth with ASD. These preliminary analyses did not indicate significant differences between F2F-SST and BITs-SST, with effect sizes consistently in the medium to high range (g = 0.81 and g = 0.93, respectively). These findings provide initial support for the continued investigation of BITs for providing SST to youth with ASD.\",\n",
        "                  \"source\" : \"https://pubmed.ncbi.nlm.nih.gov/33225056/\",\n",
        "                  \"details\" : \"Social Skills Training for Autism Spectrum Disorder: a Meta-analysis of In-person and Technological Interventions\"},\n",
        "                 {\"abstract\" : \"Given high rates of co-occurring conditions in youth and adults with autism spectrum disorder (ASD), it is critical to examine the developmental trajectories of these symptoms of psychopathology. Using data from a cohort of participants (n = 194), most of whom were first assessed for ASD in very early childhood, we investigated the trajectories of co-occurring depressive, anxiety, and attention-deficit hyperactivity disorder (ADHD) symptoms from late childhood to adulthood. Additionally, childhood predictors and adult outcomes associated with these symptom trajectories were examined. Using group-based trajectory modeling, we found two distinct classes of individuals exhibiting each of these co-occurring symptom patterns: one class exhibited fairly low symptoms across time, and one class with elevated symptoms with varied fluctuation across time (ADHD symptoms starting high but decreasing, anxiety symptoms high and stable, and depressive symptoms fluctuating but peaking at clinically significant levels in young adulthood). All high trajectory classes were associated with age 9 adaptive skills; verbal IQ predicted higher anxiety and depressive symptom classes. After accounting for verbal IQ, all high symptom trajectory classes were negative predictors of objective adult outcomes. These findings call for wide-ranging considerations of the needs of individuals across ability levels, autism symptoms, and behavioral and emotional challenges.\",\n",
        "                  \"source\" : \"https://pubmed.ncbi.nlm.nih.gov/32677592/\",\n",
        "                  \"details\" : \"Trajectories of co-occurring psychopathology symptoms in autism from late childhood to adulthood\"},\n",
        "                 {\"abstract\" : \"Significant advancements have been made in early intervention programs for children with Autism spectrum disorder (ASD). However, measuring treatment response for children with ASD is difficult due to the heterogeneity of changes in symptoms, which can be subtle, especially over a short period of time. Here we outline the challenge of evaluating treatment response with currently available measures as well as newly developed or refined measures that may be useful in clinical trials for young children with ASD. Continued development of treatment outcome measures will help the field identify and compare efficacious interventions and tailor treatments for children with ASD.\",\n",
        "                  \"source\" : \"https://pubmed.ncbi.nlm.nih.gov/32446440/\",\n",
        "                  \"details\" : \"Recent Developments in Treatment Outcome Measures for Young Children With Autism Spectrum Disorder (ASD)\"},\n",
        "                 {\"abstract\" : \"Care for children and adolescents with psychosocial problems is aimed at reducing problems. There may be a relationship between the intensity and duration of care provision and improvement of these outcomes, but evidence on this issue is lacking. We therefore examined the association between care trajectories based on duration and intensity of care for children, and the reduction in psychosocial problems after 3 years. We obtained a cohort of all children entering psychosocial care in one region (n = 1,378), the TAKECARE cohort, and followed it for 3 years, with five assessment rounds. Retention in the final round was 85.8%. Psychosocial problems were measured using the parent report of the Total Difficulty Score of the Strength and Difficulties Questionnaire (SDQ-TDS). We constructed trajectories for intensity of care using growth mixture modelling and assessed the association between duration and intensity of care trajectories and SDQ-TDS after 3 years. After 3 months 60.6% of children and adolescents were receiving care, after 1 year 38.7% were receiving care and after 3 years 26.0%. Regarding intensity of care, three trajectories were found: one with minimal intensity during all 3 years, a second with initially medium intensity and strong reduction within 1 year, and a third with high intensity and a reduction after 1 year. Although the psychosocial problems of children and adolescents were reduced during the 3-year period, the rate of decline was relatively less marked for children and adolescents with longer care trajectories. Overall, children and adolescents with psychosocial problems who received care had improved outcomes at follow-up. However, increased provision of care does not automatically lead to reduction of problems, and although overall psychosocial problems are reduced, a substantial subgroup has longer lasting problems.\",\n",
        "                  \"source\" : \"https://pubmed.ncbi.nlm.nih.gov/31631349/\",\n",
        "                  \"details\" : \"Trajectories of care for children and adolescents with psychosocial problems: a 3-year prospective cohort study\"},\n",
        "                 {\"abstract\" : \"Hepatitis C virus (HCV) and alcoholic liver disease (ALD), either alone or in combination, count for more than two thirds of all liver diseases in the Western world. There is no safe level of drinking in HCV-infected patients and the most effective goal for these patients is total abstinence. Baclofen, a GABA(B) receptor agonist, represents a promising pharmacotherapy for alcohol dependence (AD). Previously, we performed a randomized clinical trial (RCT), which demonstrated the safety and efficacy of baclofen in patients affected by AD and cirrhosis. The goal of this post-hoc analysis was to explore baclofen's effect in a subgroup of alcohol-dependent HCV-infected cirrhotic patients. Any patient with HCV infection was selected for this analysis. Among the 84 subjects randomized in the main trial, 24 alcohol-dependent cirrhotic patients had a HCV infection; 12 received baclofen 10mg t.i.d. and 12 received placebo for 12-weeks. With respect to the placebo group (3/12, 25.0%), a significantly higher number of patients who achieved and maintained total alcohol abstinence was found in the baclofen group (10/12, 83.3%; p=0.0123). Furthermore, in the baclofen group, compared to placebo, there was a significantly higher increase in albumin values from baseline (p=0.0132) and a trend toward a significant reduction in INR levels from baseline (p=0.0716). In conclusion, baclofen was safe and significantly more effective than placebo in promoting alcohol abstinence, and improving some Liver Function Tests (LFTs) (i.e. albumin, INR) in alcohol-dependent HCV-infected cirrhotic patients. Baclofen may represent a clinically relevant alcohol pharmacotherapy for these patients.\",\n",
        "                  \"source\" : \"https://pubmed.ncbi.nlm.nih.gov/22244707/\",\n",
        "                  \"details\" : \"Baclofen promotes alcohol abstinence in alcohol dependent cirrhotic patients with hepatitis C virus (HCV) infection\"}]\n",
        "\n",
        "new_abstracts"
      ],
      "metadata": {
        "colab": {
          "base_uri": "https://localhost:8080/"
        },
        "id": "Van8ceMOQryZ",
        "outputId": "d6f2f4a0-0b76-40c2-d45a-ff403bebd1b4"
      },
      "execution_count": null,
      "outputs": [
        {
          "output_type": "execute_result",
          "data": {
            "text/plain": [
              "[{'abstract': 'Social skills training (SST) for autism spectrum disorder (ASD) has traditionally focused on face-to-face (F2F-SST) interventions. Recently, Behavioral Intervention Technologies (BITs-SST) have been utilized to target social skills deficits using computer-based programs, avatars, and therapeutic robots. The present meta-analysis reviews recent evidence and compares the efficacy of 14 F2F-SST and four identified BITs-SST intervention trials for youth with ASD. These preliminary analyses did not indicate significant differences between F2F-SST and BITs-SST, with effect sizes consistently in the medium to high range (g = 0.81 and g = 0.93, respectively). These findings provide initial support for the continued investigation of BITs for providing SST to youth with ASD.',\n",
              "  'details': 'Social Skills Training for Autism Spectrum Disorder: a Meta-analysis of In-person and Technological Interventions',\n",
              "  'source': 'https://pubmed.ncbi.nlm.nih.gov/33225056/'},\n",
              " {'abstract': 'Given high rates of co-occurring conditions in youth and adults with autism spectrum disorder (ASD), it is critical to examine the developmental trajectories of these symptoms of psychopathology. Using data from a cohort of participants (n = 194), most of whom were first assessed for ASD in very early childhood, we investigated the trajectories of co-occurring depressive, anxiety, and attention-deficit hyperactivity disorder (ADHD) symptoms from late childhood to adulthood. Additionally, childhood predictors and adult outcomes associated with these symptom trajectories were examined. Using group-based trajectory modeling, we found two distinct classes of individuals exhibiting each of these co-occurring symptom patterns: one class exhibited fairly low symptoms across time, and one class with elevated symptoms with varied fluctuation across time (ADHD symptoms starting high but decreasing, anxiety symptoms high and stable, and depressive symptoms fluctuating but peaking at clinically significant levels in young adulthood). All high trajectory classes were associated with age 9 adaptive skills; verbal IQ predicted higher anxiety and depressive symptom classes. After accounting for verbal IQ, all high symptom trajectory classes were negative predictors of objective adult outcomes. These findings call for wide-ranging considerations of the needs of individuals across ability levels, autism symptoms, and behavioral and emotional challenges.',\n",
              "  'details': 'Trajectories of co-occurring psychopathology symptoms in autism from late childhood to adulthood',\n",
              "  'source': 'https://pubmed.ncbi.nlm.nih.gov/32677592/'},\n",
              " {'abstract': 'Significant advancements have been made in early intervention programs for children with Autism spectrum disorder (ASD). However, measuring treatment response for children with ASD is difficult due to the heterogeneity of changes in symptoms, which can be subtle, especially over a short period of time. Here we outline the challenge of evaluating treatment response with currently available measures as well as newly developed or refined measures that may be useful in clinical trials for young children with ASD. Continued development of treatment outcome measures will help the field identify and compare efficacious interventions and tailor treatments for children with ASD.',\n",
              "  'details': 'Recent Developments in Treatment Outcome Measures for Young Children With Autism Spectrum Disorder (ASD)',\n",
              "  'source': 'https://pubmed.ncbi.nlm.nih.gov/32446440/'},\n",
              " {'abstract': 'Care for children and adolescents with psychosocial problems is aimed at reducing problems. There may be a relationship between the intensity and duration of care provision and improvement of these outcomes, but evidence on this issue is lacking. We therefore examined the association between care trajectories based on duration and intensity of care for children, and the reduction in psychosocial problems after 3 years. We obtained a cohort of all children entering psychosocial care in one region (n = 1,378), the TAKECARE cohort, and followed it for 3 years, with five assessment rounds. Retention in the final round was 85.8%. Psychosocial problems were measured using the parent report of the Total Difficulty Score of the Strength and Difficulties Questionnaire (SDQ-TDS). We constructed trajectories for intensity of care using growth mixture modelling and assessed the association between duration and intensity of care trajectories and SDQ-TDS after 3 years. After 3 months 60.6% of children and adolescents were receiving care, after 1 year 38.7% were receiving care and after 3 years 26.0%. Regarding intensity of care, three trajectories were found: one with minimal intensity during all 3 years, a second with initially medium intensity and strong reduction within 1 year, and a third with high intensity and a reduction after 1 year. Although the psychosocial problems of children and adolescents were reduced during the 3-year period, the rate of decline was relatively less marked for children and adolescents with longer care trajectories. Overall, children and adolescents with psychosocial problems who received care had improved outcomes at follow-up. However, increased provision of care does not automatically lead to reduction of problems, and although overall psychosocial problems are reduced, a substantial subgroup has longer lasting problems.',\n",
              "  'details': 'Trajectories of care for children and adolescents with psychosocial problems: a 3-year prospective cohort study',\n",
              "  'source': 'https://pubmed.ncbi.nlm.nih.gov/31631349/'},\n",
              " {'abstract': \"Hepatitis C virus (HCV) and alcoholic liver disease (ALD), either alone or in combination, count for more than two thirds of all liver diseases in the Western world. There is no safe level of drinking in HCV-infected patients and the most effective goal for these patients is total abstinence. Baclofen, a GABA(B) receptor agonist, represents a promising pharmacotherapy for alcohol dependence (AD). Previously, we performed a randomized clinical trial (RCT), which demonstrated the safety and efficacy of baclofen in patients affected by AD and cirrhosis. The goal of this post-hoc analysis was to explore baclofen's effect in a subgroup of alcohol-dependent HCV-infected cirrhotic patients. Any patient with HCV infection was selected for this analysis. Among the 84 subjects randomized in the main trial, 24 alcohol-dependent cirrhotic patients had a HCV infection; 12 received baclofen 10mg t.i.d. and 12 received placebo for 12-weeks. With respect to the placebo group (3/12, 25.0%), a significantly higher number of patients who achieved and maintained total alcohol abstinence was found in the baclofen group (10/12, 83.3%; p=0.0123). Furthermore, in the baclofen group, compared to placebo, there was a significantly higher increase in albumin values from baseline (p=0.0132) and a trend toward a significant reduction in INR levels from baseline (p=0.0716). In conclusion, baclofen was safe and significantly more effective than placebo in promoting alcohol abstinence, and improving some Liver Function Tests (LFTs) (i.e. albumin, INR) in alcohol-dependent HCV-infected cirrhotic patients. Baclofen may represent a clinically relevant alcohol pharmacotherapy for these patients.\",\n",
              "  'details': 'Baclofen promotes alcohol abstinence in alcohol dependent cirrhotic patients with hepatitis C virus (HCV) infection',\n",
              "  'source': 'https://pubmed.ncbi.nlm.nih.gov/22244707/'}]"
            ]
          },
          "metadata": {},
          "execution_count": 159
        }
      ]
    },
    {
      "cell_type": "code",
      "source": [
        "with open('sample_abstracts.json', 'w') as f:\n",
        "    json.dump(new_abstracts, f)"
      ],
      "metadata": {
        "id": "G19bnYpbWQIJ"
      },
      "execution_count": null,
      "outputs": []
    },
    {
      "cell_type": "code",
      "source": [
        "# Reload the json file\n",
        "!wget https://raw.githubusercontent.com/dinachoir/Abstract-Skimmer/main/sample_abstracts.json\n",
        "\n",
        "with open(\"sample_abstracts.json\", \"r\") as f:\n",
        "  sample_abstracts = json.load(f)\n",
        "\n",
        "sample_abstracts"
      ],
      "metadata": {
        "id": "AIiLkm_JuT2x",
        "colab": {
          "base_uri": "https://localhost:8080/"
        },
        "outputId": "c56fd142-33f4-4ab3-8354-8a1e48455ee8"
      },
      "execution_count": null,
      "outputs": [
        {
          "output_type": "stream",
          "name": "stdout",
          "text": [
            "--2022-08-08 02:54:52--  https://raw.githubusercontent.com/dinachoir/Abstract-Skimmer/main/sample_abstracts.json\n",
            "Resolving raw.githubusercontent.com (raw.githubusercontent.com)... 185.199.109.133, 185.199.108.133, 185.199.110.133, ...\n",
            "Connecting to raw.githubusercontent.com (raw.githubusercontent.com)|185.199.109.133|:443... connected.\n",
            "HTTP request sent, awaiting response... 200 OK\n",
            "Length: 7451 (7.3K) [text/plain]\n",
            "Saving to: ‘sample_abstracts.json.1’\n",
            "\n",
            "sample_abstracts.js 100%[===================>]   7.28K  --.-KB/s    in 0s      \n",
            "\n",
            "2022-08-08 02:54:53 (64.9 MB/s) - ‘sample_abstracts.json.1’ saved [7451/7451]\n",
            "\n"
          ]
        },
        {
          "output_type": "execute_result",
          "data": {
            "text/plain": [
              "[{'abstract': 'Social skills training (SST) for autism spectrum disorder (ASD) has traditionally focused on face-to-face (F2F-SST) interventions. Recently, Behavioral Intervention Technologies (BITs-SST) have been utilized to target social skills deficits using computer-based programs, avatars, and therapeutic robots. The present meta-analysis reviews recent evidence and compares the efficacy of 14 F2F-SST and four identified BITs-SST intervention trials for youth with ASD. These preliminary analyses did not indicate significant differences between F2F-SST and BITs-SST, with effect sizes consistently in the medium to high range (g = 0.81 and g = 0.93, respectively). These findings provide initial support for the continued investigation of BITs for providing SST to youth with ASD.',\n",
              "  'details': 'Social Skills Training for Autism Spectrum Disorder: a Meta-analysis of In-person and Technological Interventions',\n",
              "  'source': 'https://pubmed.ncbi.nlm.nih.gov/33225056/'},\n",
              " {'abstract': 'Given high rates of co-occurring conditions in youth and adults with autism spectrum disorder (ASD), it is critical to examine the developmental trajectories of these symptoms of psychopathology. Using data from a cohort of participants (n = 194), most of whom were first assessed for ASD in very early childhood, we investigated the trajectories of co-occurring depressive, anxiety, and attention-deficit hyperactivity disorder (ADHD) symptoms from late childhood to adulthood. Additionally, childhood predictors and adult outcomes associated with these symptom trajectories were examined. Using group-based trajectory modeling, we found two distinct classes of individuals exhibiting each of these co-occurring symptom patterns: one class exhibited fairly low symptoms across time, and one class with elevated symptoms with varied fluctuation across time (ADHD symptoms starting high but decreasing, anxiety symptoms high and stable, and depressive symptoms fluctuating but peaking at clinically significant levels in young adulthood). All high trajectory classes were associated with age 9 adaptive skills; verbal IQ predicted higher anxiety and depressive symptom classes. After accounting for verbal IQ, all high symptom trajectory classes were negative predictors of objective adult outcomes. These findings call for wide-ranging considerations of the needs of individuals across ability levels, autism symptoms, and behavioral and emotional challenges.',\n",
              "  'details': 'Trajectories of co-occurring psychopathology symptoms in autism from late childhood to adulthood',\n",
              "  'source': 'https://pubmed.ncbi.nlm.nih.gov/32677592/'},\n",
              " {'abstract': 'Significant advancements have been made in early intervention programs for children with Autism spectrum disorder (ASD). However, measuring treatment response for children with ASD is difficult due to the heterogeneity of changes in symptoms, which can be subtle, especially over a short period of time. Here we outline the challenge of evaluating treatment response with currently available measures as well as newly developed or refined measures that may be useful in clinical trials for young children with ASD. Continued development of treatment outcome measures will help the field identify and compare efficacious interventions and tailor treatments for children with ASD.',\n",
              "  'details': 'Recent Developments in Treatment Outcome Measures for Young Children With Autism Spectrum Disorder (ASD)',\n",
              "  'source': 'https://pubmed.ncbi.nlm.nih.gov/32446440/'},\n",
              " {'abstract': 'Care for children and adolescents with psychosocial problems is aimed at reducing problems. There may be a relationship between the intensity and duration of care provision and improvement of these outcomes, but evidence on this issue is lacking. We therefore examined the association between care trajectories based on duration and intensity of care for children, and the reduction in psychosocial problems after 3 years. We obtained a cohort of all children entering psychosocial care in one region (n = 1,378), the TAKECARE cohort, and followed it for 3 years, with five assessment rounds. Retention in the final round was 85.8%. Psychosocial problems were measured using the parent report of the Total Difficulty Score of the Strength and Difficulties Questionnaire (SDQ-TDS). We constructed trajectories for intensity of care using growth mixture modelling and assessed the association between duration and intensity of care trajectories and SDQ-TDS after 3 years. After 3 months 60.6% of children and adolescents were receiving care, after 1 year 38.7% were receiving care and after 3 years 26.0%. Regarding intensity of care, three trajectories were found: one with minimal intensity during all 3 years, a second with initially medium intensity and strong reduction within 1 year, and a third with high intensity and a reduction after 1 year. Although the psychosocial problems of children and adolescents were reduced during the 3-year period, the rate of decline was relatively less marked for children and adolescents with longer care trajectories. Overall, children and adolescents with psychosocial problems who received care had improved outcomes at follow-up. However, increased provision of care does not automatically lead to reduction of problems, and although overall psychosocial problems are reduced, a substantial subgroup has longer lasting problems.',\n",
              "  'details': 'Trajectories of care for children and adolescents with psychosocial problems: a 3-year prospective cohort study',\n",
              "  'source': 'https://pubmed.ncbi.nlm.nih.gov/31631349/'},\n",
              " {'abstract': \"Hepatitis C virus (HCV) and alcoholic liver disease (ALD), either alone or in combination, count for more than two thirds of all liver diseases in the Western world. There is no safe level of drinking in HCV-infected patients and the most effective goal for these patients is total abstinence. Baclofen, a GABA(B) receptor agonist, represents a promising pharmacotherapy for alcohol dependence (AD). Previously, we performed a randomized clinical trial (RCT), which demonstrated the safety and efficacy of baclofen in patients affected by AD and cirrhosis. The goal of this post-hoc analysis was to explore baclofen's effect in a subgroup of alcohol-dependent HCV-infected cirrhotic patients. Any patient with HCV infection was selected for this analysis. Among the 84 subjects randomized in the main trial, 24 alcohol-dependent cirrhotic patients had a HCV infection; 12 received baclofen 10mg t.i.d. and 12 received placebo for 12-weeks. With respect to the placebo group (3/12, 25.0%), a significantly higher number of patients who achieved and maintained total alcohol abstinence was found in the baclofen group (10/12, 83.3%; p=0.0123). Furthermore, in the baclofen group, compared to placebo, there was a significantly higher increase in albumin values from baseline (p=0.0132) and a trend toward a significant reduction in INR levels from baseline (p=0.0716). In conclusion, baclofen was safe and significantly more effective than placebo in promoting alcohol abstinence, and improving some Liver Function Tests (LFTs) (i.e. albumin, INR) in alcohol-dependent HCV-infected cirrhotic patients. Baclofen may represent a clinically relevant alcohol pharmacotherapy for these patients.\",\n",
              "  'details': 'Baclofen promotes alcohol abstinence in alcohol dependent cirrhotic patients with hepatitis C virus (HCV) infection',\n",
              "  'source': 'https://pubmed.ncbi.nlm.nih.gov/22244707/'}]"
            ]
          },
          "metadata": {},
          "execution_count": 166
        }
      ]
    },
    {
      "cell_type": "code",
      "source": [
        "abstracts = pd.DataFrame(sample_abstracts)\n",
        "abstracts"
      ],
      "metadata": {
        "id": "NiZd5zAiucQu",
        "colab": {
          "base_uri": "https://localhost:8080/",
          "height": 285
        },
        "outputId": "2e54c8c4-0725-4abc-8041-78ba7ce2a674"
      },
      "execution_count": null,
      "outputs": [
        {
          "output_type": "execute_result",
          "data": {
            "text/plain": [
              "                                            abstract  \\\n",
              "0  Social skills training (SST) for autism spectr...   \n",
              "1  Given high rates of co-occurring conditions in...   \n",
              "2  Significant advancements have been made in ear...   \n",
              "3  Care for children and adolescents with psychos...   \n",
              "4  Hepatitis C virus (HCV) and alcoholic liver di...   \n",
              "\n",
              "                                      source  \\\n",
              "0  https://pubmed.ncbi.nlm.nih.gov/33225056/   \n",
              "1  https://pubmed.ncbi.nlm.nih.gov/32677592/   \n",
              "2  https://pubmed.ncbi.nlm.nih.gov/32446440/   \n",
              "3  https://pubmed.ncbi.nlm.nih.gov/31631349/   \n",
              "4  https://pubmed.ncbi.nlm.nih.gov/22244707/   \n",
              "\n",
              "                                             details  \n",
              "0  Social Skills Training for Autism Spectrum Dis...  \n",
              "1  Trajectories of co-occurring psychopathology s...  \n",
              "2  Recent Developments in Treatment Outcome Measu...  \n",
              "3  Trajectories of care for children and adolesce...  \n",
              "4  Baclofen promotes alcohol abstinence in alcoho...  "
            ],
            "text/html": [
              "\n",
              "  <div id=\"df-60c688ab-21eb-4b9b-8633-44138e65c447\">\n",
              "    <div class=\"colab-df-container\">\n",
              "      <div>\n",
              "<style scoped>\n",
              "    .dataframe tbody tr th:only-of-type {\n",
              "        vertical-align: middle;\n",
              "    }\n",
              "\n",
              "    .dataframe tbody tr th {\n",
              "        vertical-align: top;\n",
              "    }\n",
              "\n",
              "    .dataframe thead th {\n",
              "        text-align: right;\n",
              "    }\n",
              "</style>\n",
              "<table border=\"1\" class=\"dataframe\">\n",
              "  <thead>\n",
              "    <tr style=\"text-align: right;\">\n",
              "      <th></th>\n",
              "      <th>abstract</th>\n",
              "      <th>source</th>\n",
              "      <th>details</th>\n",
              "    </tr>\n",
              "  </thead>\n",
              "  <tbody>\n",
              "    <tr>\n",
              "      <th>0</th>\n",
              "      <td>Social skills training (SST) for autism spectr...</td>\n",
              "      <td>https://pubmed.ncbi.nlm.nih.gov/33225056/</td>\n",
              "      <td>Social Skills Training for Autism Spectrum Dis...</td>\n",
              "    </tr>\n",
              "    <tr>\n",
              "      <th>1</th>\n",
              "      <td>Given high rates of co-occurring conditions in...</td>\n",
              "      <td>https://pubmed.ncbi.nlm.nih.gov/32677592/</td>\n",
              "      <td>Trajectories of co-occurring psychopathology s...</td>\n",
              "    </tr>\n",
              "    <tr>\n",
              "      <th>2</th>\n",
              "      <td>Significant advancements have been made in ear...</td>\n",
              "      <td>https://pubmed.ncbi.nlm.nih.gov/32446440/</td>\n",
              "      <td>Recent Developments in Treatment Outcome Measu...</td>\n",
              "    </tr>\n",
              "    <tr>\n",
              "      <th>3</th>\n",
              "      <td>Care for children and adolescents with psychos...</td>\n",
              "      <td>https://pubmed.ncbi.nlm.nih.gov/31631349/</td>\n",
              "      <td>Trajectories of care for children and adolesce...</td>\n",
              "    </tr>\n",
              "    <tr>\n",
              "      <th>4</th>\n",
              "      <td>Hepatitis C virus (HCV) and alcoholic liver di...</td>\n",
              "      <td>https://pubmed.ncbi.nlm.nih.gov/22244707/</td>\n",
              "      <td>Baclofen promotes alcohol abstinence in alcoho...</td>\n",
              "    </tr>\n",
              "  </tbody>\n",
              "</table>\n",
              "</div>\n",
              "      <button class=\"colab-df-convert\" onclick=\"convertToInteractive('df-60c688ab-21eb-4b9b-8633-44138e65c447')\"\n",
              "              title=\"Convert this dataframe to an interactive table.\"\n",
              "              style=\"display:none;\">\n",
              "        \n",
              "  <svg xmlns=\"http://www.w3.org/2000/svg\" height=\"24px\"viewBox=\"0 0 24 24\"\n",
              "       width=\"24px\">\n",
              "    <path d=\"M0 0h24v24H0V0z\" fill=\"none\"/>\n",
              "    <path d=\"M18.56 5.44l.94 2.06.94-2.06 2.06-.94-2.06-.94-.94-2.06-.94 2.06-2.06.94zm-11 1L8.5 8.5l.94-2.06 2.06-.94-2.06-.94L8.5 2.5l-.94 2.06-2.06.94zm10 10l.94 2.06.94-2.06 2.06-.94-2.06-.94-.94-2.06-.94 2.06-2.06.94z\"/><path d=\"M17.41 7.96l-1.37-1.37c-.4-.4-.92-.59-1.43-.59-.52 0-1.04.2-1.43.59L10.3 9.45l-7.72 7.72c-.78.78-.78 2.05 0 2.83L4 21.41c.39.39.9.59 1.41.59.51 0 1.02-.2 1.41-.59l7.78-7.78 2.81-2.81c.8-.78.8-2.07 0-2.86zM5.41 20L4 18.59l7.72-7.72 1.47 1.35L5.41 20z\"/>\n",
              "  </svg>\n",
              "      </button>\n",
              "      \n",
              "  <style>\n",
              "    .colab-df-container {\n",
              "      display:flex;\n",
              "      flex-wrap:wrap;\n",
              "      gap: 12px;\n",
              "    }\n",
              "\n",
              "    .colab-df-convert {\n",
              "      background-color: #E8F0FE;\n",
              "      border: none;\n",
              "      border-radius: 50%;\n",
              "      cursor: pointer;\n",
              "      display: none;\n",
              "      fill: #1967D2;\n",
              "      height: 32px;\n",
              "      padding: 0 0 0 0;\n",
              "      width: 32px;\n",
              "    }\n",
              "\n",
              "    .colab-df-convert:hover {\n",
              "      background-color: #E2EBFA;\n",
              "      box-shadow: 0px 1px 2px rgba(60, 64, 67, 0.3), 0px 1px 3px 1px rgba(60, 64, 67, 0.15);\n",
              "      fill: #174EA6;\n",
              "    }\n",
              "\n",
              "    [theme=dark] .colab-df-convert {\n",
              "      background-color: #3B4455;\n",
              "      fill: #D2E3FC;\n",
              "    }\n",
              "\n",
              "    [theme=dark] .colab-df-convert:hover {\n",
              "      background-color: #434B5C;\n",
              "      box-shadow: 0px 1px 3px 1px rgba(0, 0, 0, 0.15);\n",
              "      filter: drop-shadow(0px 1px 2px rgba(0, 0, 0, 0.3));\n",
              "      fill: #FFFFFF;\n",
              "    }\n",
              "  </style>\n",
              "\n",
              "      <script>\n",
              "        const buttonEl =\n",
              "          document.querySelector('#df-60c688ab-21eb-4b9b-8633-44138e65c447 button.colab-df-convert');\n",
              "        buttonEl.style.display =\n",
              "          google.colab.kernel.accessAllowed ? 'block' : 'none';\n",
              "\n",
              "        async function convertToInteractive(key) {\n",
              "          const element = document.querySelector('#df-60c688ab-21eb-4b9b-8633-44138e65c447');\n",
              "          const dataTable =\n",
              "            await google.colab.kernel.invokeFunction('convertToInteractive',\n",
              "                                                     [key], {});\n",
              "          if (!dataTable) return;\n",
              "\n",
              "          const docLinkHtml = 'Like what you see? Visit the ' +\n",
              "            '<a target=\"_blank\" href=https://colab.research.google.com/notebooks/data_table.ipynb>data table notebook</a>'\n",
              "            + ' to learn more about interactive tables.';\n",
              "          element.innerHTML = '';\n",
              "          dataTable['output_type'] = 'display_data';\n",
              "          await google.colab.output.renderOutput(dataTable, element);\n",
              "          const docLink = document.createElement('div');\n",
              "          docLink.innerHTML = docLinkHtml;\n",
              "          element.appendChild(docLink);\n",
              "        }\n",
              "      </script>\n",
              "    </div>\n",
              "  </div>\n",
              "  "
            ]
          },
          "metadata": {},
          "execution_count": 167
        }
      ]
    },
    {
      "cell_type": "code",
      "source": [
        "import spacy\n",
        "print(spacy.__version__)"
      ],
      "metadata": {
        "colab": {
          "base_uri": "https://localhost:8080/"
        },
        "id": "v6EE4ypoayjA",
        "outputId": "2201fe60-bf1d-43d5-ff1c-a92a64103cd4"
      },
      "execution_count": null,
      "outputs": [
        {
          "output_type": "stream",
          "name": "stdout",
          "text": [
            "3.4.1\n"
          ]
        }
      ]
    },
    {
      "cell_type": "code",
      "source": [
        "# Parse abstract into sentences\n",
        "  # Reference : https://spacy.io/usage/linguistic-features#sbd\n",
        "\n",
        "from spacy.lang.en import English\n",
        "# set up english sentence parser\n",
        "nlp = English()\n",
        "# create sentence splitting pipeline object\n",
        "sentencizer = nlp.create_pipe(\"sentencizer\")\n",
        "# add sentence splitting pipeline object to sentence parser\n",
        "nlp.add_pipe(\"sentencizer\")\n",
        "# create doc of parsed sequences\n",
        "doc = nlp(sample_abstracts[3][\"abstract\"]) # change index for a different abstract\n",
        "# return detected sentences from doc in string type\n",
        "abstract_lines = [str(sentence) for sentence in list(doc.sents)]\n",
        "abstract_lines"
      ],
      "metadata": {
        "id": "6zh1hBHw13ca",
        "colab": {
          "base_uri": "https://localhost:8080/"
        },
        "outputId": "7196c3ec-ffbb-4a37-f8bd-4b8a126f8956"
      },
      "execution_count": null,
      "outputs": [
        {
          "output_type": "execute_result",
          "data": {
            "text/plain": [
              "['Care for children and adolescents with psychosocial problems is aimed at reducing problems.',\n",
              " 'There may be a relationship between the intensity and duration of care provision and improvement of these outcomes, but evidence on this issue is lacking.',\n",
              " 'We therefore examined the association between care trajectories based on duration and intensity of care for children, and the reduction in psychosocial problems after 3 years.',\n",
              " 'We obtained a cohort of all children entering psychosocial care in one region (n = 1,378), the TAKECARE cohort, and followed it for 3 years, with five assessment rounds.',\n",
              " 'Retention in the final round was 85.8%.',\n",
              " 'Psychosocial problems were measured using the parent report of the Total Difficulty Score of the Strength and Difficulties Questionnaire (SDQ-TDS).',\n",
              " 'We constructed trajectories for intensity of care using growth mixture modelling and assessed the association between duration and intensity of care trajectories and SDQ-TDS after 3 years.',\n",
              " 'After 3 months 60.6% of children and adolescents were receiving care, after 1 year 38.7% were receiving care and after 3 years 26.0%.',\n",
              " 'Regarding intensity of care, three trajectories were found: one with minimal intensity during all 3 years, a second with initially medium intensity and strong reduction within 1 year, and a third with high intensity and a reduction after 1 year.',\n",
              " 'Although the psychosocial problems of children and adolescents were reduced during the 3-year period, the rate of decline was relatively less marked for children and adolescents with longer care trajectories.',\n",
              " 'Overall, children and adolescents with psychosocial problems who received care had improved outcomes at follow-up.',\n",
              " 'However, increased provision of care does not automatically lead to reduction of problems, and although overall psychosocial problems are reduced, a substantial subgroup has longer lasting problems.']"
            ]
          },
          "metadata": {},
          "execution_count": 195
        }
      ]
    },
    {
      "cell_type": "code",
      "source": [
        "# Get total number of lines\n",
        "total_lines_in_sample = len(abstract_lines)\n",
        "\n",
        "# Create dictionary of abstract features\n",
        "sample_lines = []\n",
        "for i, line in enumerate(abstract_lines):\n",
        "  sample_dict = {}\n",
        "  sample_dict[\"text\"] = str(line)\n",
        "  sample_dict[\"line_number\"] = i\n",
        "  sample_dict[\"total_lines\"] = total_lines_in_sample - 1\n",
        "  sample_lines.append(sample_dict)\n",
        "\n",
        "sample_lines"
      ],
      "metadata": {
        "id": "7kV-xVcsxsWU",
        "colab": {
          "base_uri": "https://localhost:8080/"
        },
        "outputId": "5712d762-596a-4a4a-ef74-51b30c24f583"
      },
      "execution_count": null,
      "outputs": [
        {
          "output_type": "execute_result",
          "data": {
            "text/plain": [
              "[{'line_number': 0,\n",
              "  'text': 'Care for children and adolescents with psychosocial problems is aimed at reducing problems.',\n",
              "  'total_lines': 11},\n",
              " {'line_number': 1,\n",
              "  'text': 'There may be a relationship between the intensity and duration of care provision and improvement of these outcomes, but evidence on this issue is lacking.',\n",
              "  'total_lines': 11},\n",
              " {'line_number': 2,\n",
              "  'text': 'We therefore examined the association between care trajectories based on duration and intensity of care for children, and the reduction in psychosocial problems after 3 years.',\n",
              "  'total_lines': 11},\n",
              " {'line_number': 3,\n",
              "  'text': 'We obtained a cohort of all children entering psychosocial care in one region (n = 1,378), the TAKECARE cohort, and followed it for 3 years, with five assessment rounds.',\n",
              "  'total_lines': 11},\n",
              " {'line_number': 4,\n",
              "  'text': 'Retention in the final round was 85.8%.',\n",
              "  'total_lines': 11},\n",
              " {'line_number': 5,\n",
              "  'text': 'Psychosocial problems were measured using the parent report of the Total Difficulty Score of the Strength and Difficulties Questionnaire (SDQ-TDS).',\n",
              "  'total_lines': 11},\n",
              " {'line_number': 6,\n",
              "  'text': 'We constructed trajectories for intensity of care using growth mixture modelling and assessed the association between duration and intensity of care trajectories and SDQ-TDS after 3 years.',\n",
              "  'total_lines': 11},\n",
              " {'line_number': 7,\n",
              "  'text': 'After 3 months 60.6% of children and adolescents were receiving care, after 1 year 38.7% were receiving care and after 3 years 26.0%.',\n",
              "  'total_lines': 11},\n",
              " {'line_number': 8,\n",
              "  'text': 'Regarding intensity of care, three trajectories were found: one with minimal intensity during all 3 years, a second with initially medium intensity and strong reduction within 1 year, and a third with high intensity and a reduction after 1 year.',\n",
              "  'total_lines': 11},\n",
              " {'line_number': 9,\n",
              "  'text': 'Although the psychosocial problems of children and adolescents were reduced during the 3-year period, the rate of decline was relatively less marked for children and adolescents with longer care trajectories.',\n",
              "  'total_lines': 11},\n",
              " {'line_number': 10,\n",
              "  'text': 'Overall, children and adolescents with psychosocial problems who received care had improved outcomes at follow-up.',\n",
              "  'total_lines': 11},\n",
              " {'line_number': 11,\n",
              "  'text': 'However, increased provision of care does not automatically lead to reduction of problems, and although overall psychosocial problems are reduced, a substantial subgroup has longer lasting problems.',\n",
              "  'total_lines': 11}]"
            ]
          },
          "metadata": {},
          "execution_count": 196
        }
      ]
    },
    {
      "cell_type": "code",
      "source": [
        "# Encode line number\n",
        "abstract_line_numbers = [line[\"line_number\"] for line in sample_lines]\n",
        "abstract_line_numbers_encoded = tf.one_hot(abstract_line_numbers, depth=15) # same depth as training set\n",
        "abstract_line_numbers_encoded\n",
        "\n",
        "# Encode total lines\n",
        "abstract_total_lines = [line[\"line_number\"] for line in sample_lines]\n",
        "abstract_total_lines_encoded = tf.one_hot(abstract_total_lines, depth=20)\n",
        "abstract_total_lines_encoded"
      ],
      "metadata": {
        "colab": {
          "base_uri": "https://localhost:8080/"
        },
        "id": "qrfJzK2Q9NMg",
        "outputId": "1a6db415-91b4-4a63-9784-e9b5f4a78c8f"
      },
      "execution_count": null,
      "outputs": [
        {
          "output_type": "execute_result",
          "data": {
            "text/plain": [
              "<tf.Tensor: shape=(12, 20), dtype=float32, numpy=\n",
              "array([[1., 0., 0., 0., 0., 0., 0., 0., 0., 0., 0., 0., 0., 0., 0., 0.,\n",
              "        0., 0., 0., 0.],\n",
              "       [0., 1., 0., 0., 0., 0., 0., 0., 0., 0., 0., 0., 0., 0., 0., 0.,\n",
              "        0., 0., 0., 0.],\n",
              "       [0., 0., 1., 0., 0., 0., 0., 0., 0., 0., 0., 0., 0., 0., 0., 0.,\n",
              "        0., 0., 0., 0.],\n",
              "       [0., 0., 0., 1., 0., 0., 0., 0., 0., 0., 0., 0., 0., 0., 0., 0.,\n",
              "        0., 0., 0., 0.],\n",
              "       [0., 0., 0., 0., 1., 0., 0., 0., 0., 0., 0., 0., 0., 0., 0., 0.,\n",
              "        0., 0., 0., 0.],\n",
              "       [0., 0., 0., 0., 0., 1., 0., 0., 0., 0., 0., 0., 0., 0., 0., 0.,\n",
              "        0., 0., 0., 0.],\n",
              "       [0., 0., 0., 0., 0., 0., 1., 0., 0., 0., 0., 0., 0., 0., 0., 0.,\n",
              "        0., 0., 0., 0.],\n",
              "       [0., 0., 0., 0., 0., 0., 0., 1., 0., 0., 0., 0., 0., 0., 0., 0.,\n",
              "        0., 0., 0., 0.],\n",
              "       [0., 0., 0., 0., 0., 0., 0., 0., 1., 0., 0., 0., 0., 0., 0., 0.,\n",
              "        0., 0., 0., 0.],\n",
              "       [0., 0., 0., 0., 0., 0., 0., 0., 0., 1., 0., 0., 0., 0., 0., 0.,\n",
              "        0., 0., 0., 0.],\n",
              "       [0., 0., 0., 0., 0., 0., 0., 0., 0., 0., 1., 0., 0., 0., 0., 0.,\n",
              "        0., 0., 0., 0.],\n",
              "       [0., 0., 0., 0., 0., 0., 0., 0., 0., 0., 0., 1., 0., 0., 0., 0.,\n",
              "        0., 0., 0., 0.]], dtype=float32)>"
            ]
          },
          "metadata": {},
          "execution_count": 197
        }
      ]
    },
    {
      "cell_type": "code",
      "source": [
        "# Split abstract lines into characters\n",
        "abstract_chars = [split_characters(sentence) for sentence in abstract_lines]"
      ],
      "metadata": {
        "id": "LJc6v92F9NIQ"
      },
      "execution_count": null,
      "outputs": []
    },
    {
      "cell_type": "code",
      "source": [
        "# Make predictions\n",
        "%%time\n",
        "pred_probs = model_5.predict(x=(abstract_line_numbers_encoded,\n",
        "                                abstract_total_lines_encoded,\n",
        "                                tf.constant(abstract_lines),\n",
        "                                tf.constant(abstract_chars)))\n",
        "pred_probs"
      ],
      "metadata": {
        "colab": {
          "base_uri": "https://localhost:8080/"
        },
        "id": "gP1LT9_x-Z6f",
        "outputId": "c238b7f1-b3c8-4868-da09-eff0cb0d2bf4"
      },
      "execution_count": null,
      "outputs": [
        {
          "output_type": "stream",
          "name": "stdout",
          "text": [
            "CPU times: user 126 ms, sys: 17.1 ms, total: 143 ms\n",
            "Wall time: 111 ms\n"
          ]
        }
      ]
    },
    {
      "cell_type": "code",
      "source": [
        "# Get the prediction class \n",
        "abstract_preds = tf.argmax(pred_probs, axis=1)\n",
        "abstract_preds"
      ],
      "metadata": {
        "colab": {
          "base_uri": "https://localhost:8080/"
        },
        "id": "RfBPdQbd-Z29",
        "outputId": "e6d4883c-b17c-4b1f-b390-5b5bcf1b7cda"
      },
      "execution_count": null,
      "outputs": [
        {
          "output_type": "execute_result",
          "data": {
            "text/plain": [
              "<tf.Tensor: shape=(12,), dtype=int64, numpy=array([0, 0, 3, 2, 2, 2, 2, 4, 4, 1, 4, 1])>"
            ]
          },
          "metadata": {},
          "execution_count": 200
        }
      ]
    },
    {
      "cell_type": "code",
      "source": [
        "# Get the prediction class names\n",
        "## le = LabelEncoder()\n",
        "abstract_preds_classes = [le.classes_[i] for i in abstract_preds]\n",
        "abstract_preds_classes"
      ],
      "metadata": {
        "colab": {
          "base_uri": "https://localhost:8080/"
        },
        "id": "rzCT6VR2ALkU",
        "outputId": "43001777-8bc9-4c61-8011-c005bc025c84"
      },
      "execution_count": null,
      "outputs": [
        {
          "output_type": "execute_result",
          "data": {
            "text/plain": [
              "['BACKGROUND',\n",
              " 'BACKGROUND',\n",
              " 'OBJECTIVE',\n",
              " 'METHODS',\n",
              " 'METHODS',\n",
              " 'METHODS',\n",
              " 'METHODS',\n",
              " 'RESULTS',\n",
              " 'RESULTS',\n",
              " 'CONCLUSIONS',\n",
              " 'RESULTS',\n",
              " 'CONCLUSIONS']"
            ]
          },
          "metadata": {},
          "execution_count": 201
        }
      ]
    },
    {
      "cell_type": "code",
      "source": [
        "# View prediction results\n",
        "for i, line in enumerate(abstract_lines):\n",
        "  print(f\"{abstract_preds_classes[i]}: {line}\")"
      ],
      "metadata": {
        "colab": {
          "base_uri": "https://localhost:8080/"
        },
        "id": "2VfedtNaAdpQ",
        "outputId": "a409ebeb-1321-4626-d42f-e491f0b9cfc8"
      },
      "execution_count": null,
      "outputs": [
        {
          "output_type": "stream",
          "name": "stdout",
          "text": [
            "BACKGROUND: Care for children and adolescents with psychosocial problems is aimed at reducing problems.\n",
            "BACKGROUND: There may be a relationship between the intensity and duration of care provision and improvement of these outcomes, but evidence on this issue is lacking.\n",
            "OBJECTIVE: We therefore examined the association between care trajectories based on duration and intensity of care for children, and the reduction in psychosocial problems after 3 years.\n",
            "METHODS: We obtained a cohort of all children entering psychosocial care in one region (n = 1,378), the TAKECARE cohort, and followed it for 3 years, with five assessment rounds.\n",
            "METHODS: Retention in the final round was 85.8%.\n",
            "METHODS: Psychosocial problems were measured using the parent report of the Total Difficulty Score of the Strength and Difficulties Questionnaire (SDQ-TDS).\n",
            "METHODS: We constructed trajectories for intensity of care using growth mixture modelling and assessed the association between duration and intensity of care trajectories and SDQ-TDS after 3 years.\n",
            "RESULTS: After 3 months 60.6% of children and adolescents were receiving care, after 1 year 38.7% were receiving care and after 3 years 26.0%.\n",
            "RESULTS: Regarding intensity of care, three trajectories were found: one with minimal intensity during all 3 years, a second with initially medium intensity and strong reduction within 1 year, and a third with high intensity and a reduction after 1 year.\n",
            "CONCLUSIONS: Although the psychosocial problems of children and adolescents were reduced during the 3-year period, the rate of decline was relatively less marked for children and adolescents with longer care trajectories.\n",
            "RESULTS: Overall, children and adolescents with psychosocial problems who received care had improved outcomes at follow-up.\n",
            "CONCLUSIONS: However, increased provision of care does not automatically lead to reduction of problems, and although overall psychosocial problems are reduced, a substantial subgroup has longer lasting problems.\n"
          ]
        }
      ]
    }
  ]
}